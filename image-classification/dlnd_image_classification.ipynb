{
 "cells": [
  {
   "cell_type": "markdown",
   "metadata": {
    "collapsed": true
   },
   "source": [
    "# 图像分类\n",
    "\n",
    "在此项目中，你将对 [CIFAR-10 数据集](https://www.cs.toronto.edu/~kriz/cifar.html) 中的图片进行分类。该数据集包含飞机、猫狗和其他物体。你需要预处理这些图片，然后用所有样本训练一个卷积神经网络。图片需要标准化（normalized），标签需要采用 one-hot 编码。你需要应用所学的知识构建卷积的、最大池化（max pooling）、丢弃（dropout）和完全连接（fully connected）的层。最后，你需要在样本图片上看到神经网络的预测结果。\n",
    "\n",
    "\n",
    "## 获取数据\n",
    "\n",
    "请运行以下单元，以下载 [CIFAR-10 数据集（Python版）](https://www.cs.toronto.edu/~kriz/cifar-10-python.tar.gz)。\n"
   ]
  },
  {
   "cell_type": "code",
   "execution_count": 1,
   "metadata": {},
   "outputs": [
    {
     "name": "stdout",
     "output_type": "stream",
     "text": [
      "All files found!\n"
     ]
    }
   ],
   "source": [
    "\"\"\"\n",
    "DON'T MODIFY ANYTHING IN THIS CELL THAT IS BELOW THIS LINE\n",
    "\"\"\"\n",
    "from urllib.request import urlretrieve\n",
    "from os.path import isfile, isdir\n",
    "from tqdm import tqdm\n",
    "import problem_unittests as tests\n",
    "import tarfile\n",
    "\n",
    "cifar10_dataset_folder_path = 'cifar-10-batches-py'\n",
    "\n",
    "# Use Floyd's cifar-10 dataset if present\n",
    "floyd_cifar10_location = '/input/cifar-10/python.tar.gz'\n",
    "if isfile(floyd_cifar10_location):\n",
    "    tar_gz_path = floyd_cifar10_location\n",
    "else:\n",
    "    tar_gz_path = 'cifar-10-python.tar.gz'\n",
    "\n",
    "class DLProgress(tqdm):\n",
    "    last_block = 0\n",
    "\n",
    "    def hook(self, block_num=1, block_size=1, total_size=None):\n",
    "        self.total = total_size\n",
    "        self.update((block_num - self.last_block) * block_size)\n",
    "        self.last_block = block_num\n",
    "\n",
    "if not isfile(tar_gz_path):\n",
    "    with DLProgress(unit='B', unit_scale=True, miniters=1, desc='CIFAR-10 Dataset') as pbar:\n",
    "        urlretrieve(\n",
    "            'https://www.cs.toronto.edu/~kriz/cifar-10-python.tar.gz',\n",
    "            tar_gz_path,\n",
    "            pbar.hook)\n",
    "\n",
    "if not isdir(cifar10_dataset_folder_path):\n",
    "    with tarfile.open(tar_gz_path) as tar:\n",
    "        tar.extractall()\n",
    "        tar.close()\n",
    "\n",
    "\n",
    "tests.test_folder_path(cifar10_dataset_folder_path)"
   ]
  },
  {
   "cell_type": "markdown",
   "metadata": {},
   "source": [
    "## 探索数据\n",
    "\n",
    "该数据集分成了几部分／批次（batches），以免你的机器在计算时内存不足。CIFAR-10 数据集包含 5 个部分，名称分别为 `data_batch_1`、`data_batch_2`，以此类推。每个部分都包含以下某个类别的标签和图片：\n",
    "\n",
    "* 飞机\n",
    "* 汽车\n",
    "* 鸟类\n",
    "* 猫\n",
    "* 鹿\n",
    "* 狗\n",
    "* 青蛙\n",
    "* 马\n",
    "* 船只\n",
    "* 卡车\n",
    "\n",
    "了解数据集也是对数据进行预测的必经步骤。你可以通过更改 `batch_id` 和 `sample_id` 探索下面的代码单元。`batch_id` 是数据集一个部分的 ID（1 到 5）。`sample_id` 是该部分中图片和标签对（label pair）的 ID。\n",
    "\n",
    "问问你自己：“可能的标签有哪些？”、“图片数据的值范围是多少？”、“标签是按顺序排列，还是随机排列的？”。思考类似的问题，有助于你预处理数据，并使预测结果更准确。\n"
   ]
  },
  {
   "cell_type": "code",
   "execution_count": 2,
   "metadata": {},
   "outputs": [
    {
     "name": "stdout",
     "output_type": "stream",
     "text": [
      "\n",
      "Stats of batch 1:\n",
      "Samples: 10000\n",
      "Label Counts: {0: 1005, 1: 974, 2: 1032, 3: 1016, 4: 999, 5: 937, 6: 1030, 7: 1001, 8: 1025, 9: 981}\n",
      "First 20 Labels: [6, 9, 9, 4, 1, 1, 2, 7, 8, 3, 4, 7, 7, 2, 9, 9, 9, 3, 2, 6]\n",
      "\n",
      "Example of Image 5:\n",
      "Image - Min Value: 0 Max Value: 252\n",
      "Image - Shape: (32, 32, 3)\n",
      "Label - Label Id: 1 Name: automobile\n"
     ]
    },
    {
     "data": {
      "image/png": "[encoded data removed]",
      "text/plain": [
       "<matplotlib.figure.Figure at 0x7fe456a197f0>"
      ]
     },
     "metadata": {
      "image/png": {
       "height": 250,
       "width": 253
      }
     },
     "output_type": "display_data"
    }
   ],
   "source": [
    "%matplotlib inline\n",
    "%config InlineBackend.figure_format = 'retina'\n",
    "\n",
    "import helper\n",
    "import numpy as np\n",
    "\n",
    "# Explore the dataset\n",
    "batch_id = 1\n",
    "sample_id = 5\n",
    "helper.display_stats(cifar10_dataset_folder_path, batch_id, sample_id)"
   ]
  },
  {
   "cell_type": "markdown",
   "metadata": {},
   "source": [
    "## 实现预处理函数\n",
    "\n",
    "### 标准化\n",
    "\n",
    "在下面的单元中，实现 `normalize` 函数，传入图片数据 `x`，并返回标准化 Numpy 数组。值应该在 0 到 1 的范围内（含 0 和 1）。返回对象应该和 `x` 的形状一样。\n"
   ]
  },
  {
   "cell_type": "code",
   "execution_count": 3,
   "metadata": {},
   "outputs": [
    {
     "name": "stdout",
     "output_type": "stream",
     "text": [
      "Tests Passed\n"
     ]
    }
   ],
   "source": [
    "def normalize(x):\n",
    "    \"\"\"\n",
    "    Normalize a list of sample image data in the range of 0 to 1\n",
    "    : x: List of image data.  The image shape is (32, 32, 3)\n",
    "    : return: Numpy array of normalize data\n",
    "    \"\"\"\n",
    "    # TODO: Implement Function\n",
    "    return x/255.\n",
    "\n",
    "\"\"\"\n",
    "DON'T MODIFY ANYTHING IN THIS CELL THAT IS BELOW THIS LINE\n",
    "\"\"\"\n",
    "tests.test_normalize(normalize)"
   ]
  },
  {
   "cell_type": "markdown",
   "metadata": {},
   "source": [
    "### One-hot 编码\n",
    "\n",
    "和之前的代码单元一样，你将为预处理实现一个函数。这次，你将实现 `one_hot_encode` 函数。输入，也就是 `x`，是一个标签列表。实现该函数，以返回为 one_hot 编码的 Numpy 数组的标签列表。标签的可能值为 0 到 9。每次调用 `one_hot_encode` 时，对于每个值，one_hot 编码函数应该返回相同的编码。确保将编码映射保存到该函数外面。\n",
    "\n",
    "提示：不要重复发明轮子。\n"
   ]
  },
  {
   "cell_type": "code",
   "execution_count": 4,
   "metadata": {},
   "outputs": [
    {
     "name": "stdout",
     "output_type": "stream",
     "text": [
      "Tests Passed\n"
     ]
    }
   ],
   "source": [
    "def one_hot_encode(x):\n",
    "    \"\"\"\n",
    "    One hot encode a list of sample labels. Return a one-hot encoded vector for each label.\n",
    "    : x: List of sample Labels\n",
    "    : return: Numpy array of one-hot encoded labels\n",
    "    \"\"\"\n",
    "    # TODO: Implement Function\n",
    "    return np.eye(10)[x]\n",
    "\n",
    "\n",
    "\"\"\"\n",
    "DON'T MODIFY ANYTHING IN THIS CELL THAT IS BELOW THIS LINE\n",
    "\"\"\"\n",
    "tests.test_one_hot_encode(one_hot_encode)"
   ]
  },
  {
   "cell_type": "markdown",
   "metadata": {},
   "source": [
    "### 随机化数据\n",
    "\n",
    "之前探索数据时，你已经了解到，样本的顺序是随机的。再随机化一次也不会有什么关系，但是对于这个数据集没有必要。\n"
   ]
  },
  {
   "cell_type": "markdown",
   "metadata": {},
   "source": [
    "## 预处理所有数据并保存\n",
    "\n",
    "运行下方的代码单元，将预处理所有 CIFAR-10 数据，并保存到文件中。下面的代码还使用了 10% 的训练数据，用来验证。\n"
   ]
  },
  {
   "cell_type": "code",
   "execution_count": 5,
   "metadata": {
    "collapsed": true
   },
   "outputs": [],
   "source": [
    "\"\"\"\n",
    "DON'T MODIFY ANYTHING IN THIS CELL\n",
    "\"\"\"\n",
    "# Preprocess Training, Validation, and Testing Data\n",
    "helper.preprocess_and_save_data(cifar10_dataset_folder_path, normalize, one_hot_encode)"
   ]
  },
  {
   "cell_type": "markdown",
   "metadata": {},
   "source": [
    "# 检查点\n",
    "\n",
    "这是你的第一个检查点。如果你什么时候决定再回到该记事本，或需要重新启动该记事本，你可以从这里开始。预处理的数据已保存到本地。\n"
   ]
  },
  {
   "cell_type": "code",
   "execution_count": 6,
   "metadata": {
    "collapsed": true
   },
   "outputs": [],
   "source": [
    "\"\"\"\n",
    "DON'T MODIFY ANYTHING IN THIS CELL\n",
    "\"\"\"\n",
    "import pickle\n",
    "import problem_unittests as tests\n",
    "import helper\n",
    "\n",
    "# Load the Preprocessed Validation data\n",
    "valid_features, valid_labels = pickle.load(open('preprocess_validation.p', mode='rb'))"
   ]
  },
  {
   "cell_type": "markdown",
   "metadata": {},
   "source": [
    "## 构建网络\n",
    "\n",
    "对于该神经网络，你需要将每层都构建为一个函数。你看到的大部分代码都位于函数外面。要更全面地测试你的代码，我们需要你将每层放入一个函数中。这样使我们能够提供更好的反馈，并使用我们的统一测试检测简单的错误，然后再提交项目。\n",
    "\n",
    ">**注意**：如果你觉得每周很难抽出足够的时间学习这门课程，我们为此项目提供了一个小捷径。对于接下来的几个问题，你可以使用 [TensorFlow Layers](https://www.tensorflow.org/api_docs/python/tf/layers) 或 [TensorFlow Layers (contrib)](https://www.tensorflow.org/api_guides/python/contrib.layers) 程序包中的类来构建每个层级，但是“卷积和最大池化层级”部分的层级除外。TF Layers 和 Keras 及 TFLearn 层级类似，因此很容易学会。\n",
    "\n",
    ">但是，如果你想充分利用这门课程，请尝试自己解决所有问题，不使用 TF Layers 程序包中的任何类。你依然可以使用其他程序包中的类，这些类和你在 TF Layers 中的类名称是一样的！例如，你可以使用 TF Neural Network 版本的 `conv2d` 类 [tf.nn.conv2d](https://www.tensorflow.org/api_docs/python/tf/nn/conv2d)，而不是 TF Layers 版本的 `conv2d` 类 [tf.layers.conv2d](https://www.tensorflow.org/api_docs/python/tf/layers/conv2d)。\n",
    "\n",
    "我们开始吧！\n",
    "\n",
    "\n",
    "### 输入\n",
    "\n",
    "神经网络需要读取图片数据、one-hot 编码标签和丢弃保留概率（dropout keep probability）。请实现以下函数：\n",
    "\n",
    "* 实现 `neural_net_image_input`\n",
    " * 返回 [TF Placeholder](https://www.tensorflow.org/api_docs/python/tf/placeholder)\n",
    " * 使用 `image_shape` 设置形状，部分大小设为 `None`\n",
    " * 使用 [TF Placeholder](https://www.tensorflow.org/api_docs/python/tf/placeholder) 中的 TensorFlow `name` 参数对 TensorFlow 占位符 \"x\" 命名\n",
    "* 实现 `neural_net_label_input`\n",
    " * 返回 [TF Placeholder](https://www.tensorflow.org/api_docs/python/tf/placeholder)\n",
    " * 使用 `n_classes` 设置形状，部分大小设为 `None`\n",
    " * 使用 [TF Placeholder](https://www.tensorflow.org/api_docs/python/tf/placeholder) 中的 TensorFlow `name` 参数对 TensorFlow 占位符 \"y\" 命名\n",
    "* 实现 `neural_net_keep_prob_input`\n",
    " * 返回 [TF Placeholder](https://www.tensorflow.org/api_docs/python/tf/placeholder)，用于丢弃保留概率\n",
    " * 使用 [TF Placeholder](https://www.tensorflow.org/api_docs/python/tf/placeholder) 中的 TensorFlow `name` 参数对 TensorFlow 占位符 \"keep_prob\" 命名\n",
    "\n",
    "这些名称将在项目结束时，用于加载保存的模型。\n",
    "\n",
    "注意：TensorFlow 中的 `None` 表示形状可以是动态大小。"
   ]
  },
  {
   "cell_type": "code",
   "execution_count": 7,
   "metadata": {},
   "outputs": [
    {
     "name": "stdout",
     "output_type": "stream",
     "text": [
      "Image Input Tests Passed.\n",
      "Label Input Tests Passed.\n",
      "Keep Prob Tests Passed.\n"
     ]
    }
   ],
   "source": [
    "import tensorflow as tf\n",
    "\n",
    "def neural_net_image_input(image_shape):\n",
    "    \"\"\"\n",
    "    Return a Tensor for a batch of image input\n",
    "    : image_shape: Shape of the images\n",
    "    : return: Tensor for image input.\n",
    "    \"\"\"\n",
    "    # TODO: Implement Function\n",
    "    return tf.placeholder(tf.float32, (None, *image_shape), name='x')\n",
    "\n",
    "\n",
    "def neural_net_label_input(n_classes):\n",
    "    \"\"\"\n",
    "    Return a Tensor for a batch of label input\n",
    "    : n_classes: Number of classes\n",
    "    : return: Tensor for label input.\n",
    "    \"\"\"\n",
    "    # TODO: Implement Function\n",
    "    return tf.placeholder(tf.float32, (None, n_classes), name='y')\n",
    "\n",
    "\n",
    "def neural_net_keep_prob_input():\n",
    "    \"\"\"\n",
    "    Return a Tensor for keep probability\n",
    "    : return: Tensor for keep probability.\n",
    "    \"\"\"\n",
    "    # TODO: Implement Function\n",
    "    return tf.placeholder(tf.float32, name='keep_prob')\n",
    "\n",
    "\n",
    "\"\"\"\n",
    "DON'T MODIFY ANYTHING IN THIS CELL THAT IS BELOW THIS LINE\n",
    "\"\"\"\n",
    "tf.reset_default_graph()\n",
    "tests.test_nn_image_inputs(neural_net_image_input)\n",
    "tests.test_nn_label_inputs(neural_net_label_input)\n",
    "tests.test_nn_keep_prob_inputs(neural_net_keep_prob_input)"
   ]
  },
  {
   "cell_type": "markdown",
   "metadata": {},
   "source": [
    "### 卷积和最大池化层\n",
    "\n",
    "卷积层级适合处理图片。对于此代码单元，你应该实现函数 `conv2d_maxpool` 以便应用卷积然后进行最大池化：\n",
    "\n",
    "* 使用 `conv_ksize`、`conv_num_outputs` 和 `x_tensor` 的形状创建权重（weight）和偏置（bias）。\n",
    "* 使用权重和 `conv_strides` 对 `x_tensor` 应用卷积。\n",
    " * 建议使用我们建议的间距（padding），当然也可以使用任何其他间距。\n",
    "* 添加偏置\n",
    "* 向卷积中添加非线性激活（nonlinear activation）\n",
    "* 使用 `pool_ksize` 和 `pool_strides` 应用最大池化\n",
    " * 建议使用我们建议的间距（padding），当然也可以使用任何其他间距。\n",
    "\n",
    "**注意**：对于**此层**，**请勿使用** [TensorFlow Layers](https://www.tensorflow.org/api_docs/python/tf/layers) 或 [TensorFlow Layers (contrib)](https://www.tensorflow.org/api_guides/python/contrib.layers)，但是仍然可以使用 TensorFlow 的 [Neural Network](https://www.tensorflow.org/api_docs/python/tf/nn) 包。对于所有**其他层**，你依然可以使用快捷方法。\n"
   ]
  },
  {
   "cell_type": "code",
   "execution_count": 160,
   "metadata": {},
   "outputs": [
    {
     "name": "stdout",
     "output_type": "stream",
     "text": [
      "Tests Passed\n"
     ]
    }
   ],
   "source": [
    "def conv2d_maxpool(x_tensor, conv_num_outputs, conv_ksize, conv_strides, pool_ksize, pool_strides):\n",
    "    \"\"\"\n",
    "    Apply convolution then max pooling to x_tensor\n",
    "    :param x_tensor: TensorFlow Tensor\n",
    "    :param conv_num_outputs: Number of outputs for the convolutional layer\n",
    "    :param conv_ksize: kernal size 2-D Tuple for the convolutional layer\n",
    "    :param conv_strides: Stride 2-D Tuple for convolution\n",
    "    :param pool_ksize: kernal size 2-D Tuple for pool\n",
    "    :param pool_strides: Stride 2-D Tuple for pool\n",
    "    : return: A tensor that represents convolution and max pooling of x_tensor\n",
    "    \"\"\"\n",
    "    # TODO: Implement Function\n",
    "    weights = tf.Variable(tf.truncated_normal([conv_ksize[0], conv_ksize[1], int(x_tensor.shape[3]), conv_num_outputs], stddev=0.1))\n",
    "    biases = tf.Variable(tf.zeros(conv_num_outputs))\n",
    "    layer = tf.nn.conv2d(x_tensor, weights, (1, conv_strides[0], conv_strides[1], 1), padding='SAME')\n",
    "    layer = tf.nn.bias_add(layer, biases)\n",
    "    layer = tf.nn.relu(layer)\n",
    "    return tf.nn.max_pool(layer, (1, pool_ksize[0], pool_ksize[1], 1), (1, pool_strides[0], pool_strides[1], 1), 'SAME')\n",
    "\n",
    "\n",
    "\"\"\"\n",
    "DON'T MODIFY ANYTHING IN THIS CELL THAT IS BELOW THIS LINE\n",
    "\"\"\"\n",
    "tests.test_con_pool(conv2d_maxpool)"
   ]
  },
  {
   "cell_type": "markdown",
   "metadata": {},
   "source": [
    "### 扁平化层\n",
    "\n",
    "实现 `flatten` 函数，将 `x_tensor` 的维度从四维张量（4-D tensor）变成二维张量。输出应该是形状（*部分大小（Batch Size）*，*扁平化图片大小（Flattened Image Size）*）。快捷方法：对于此层，你可以使用 [TensorFlow Layers](https://www.tensorflow.org/api_docs/python/tf/layers) 或 [TensorFlow Layers (contrib)](https://www.tensorflow.org/api_guides/python/contrib.layers) 包中的类。如果你想要更大挑战，可以仅使用其他 TensorFlow 程序包。\n"
   ]
  },
  {
   "cell_type": "code",
   "execution_count": 161,
   "metadata": {},
   "outputs": [
    {
     "name": "stdout",
     "output_type": "stream",
     "text": [
      "Tests Passed\n"
     ]
    }
   ],
   "source": [
    "def flatten(x_tensor):\n",
    "    \"\"\"\n",
    "    Flatten x_tensor to (Batch Size, Flattened Image Size)\n",
    "    : x_tensor: A tensor of size (Batch Size, ...), where ... are the image dimensions.\n",
    "    : return: A tensor of size (Batch Size, Flattened Image Size).\n",
    "    \"\"\"\n",
    "    # TODO: Implement Functio\n",
    "    return tf.contrib.layers.flatten(x_tensor)\n",
    "    \n",
    "    # weird, below code note pass\n",
    "    #s = np.prod(x_tensor.shape[1:])\n",
    "    #return tf.reshape(x_tensor, (-1, s))\n",
    "\n",
    "\n",
    "\"\"\"\n",
    "DON'T MODIFY ANYTHING IN THIS CELL THAT IS BELOW THIS LINE\n",
    "\"\"\"\n",
    "tests.test_flatten(flatten)"
   ]
  },
  {
   "cell_type": "markdown",
   "metadata": {},
   "source": [
    "### 完全连接的层\n",
    "\n",
    "实现 `fully_conn` 函数，以向 `x_tensor` 应用完全连接的层级，形状为（*部分大小（Batch Size）*，*num_outputs*）。快捷方法：对于此层，你可以使用 [TensorFlow Layers](https://www.tensorflow.org/api_docs/python/tf/layers) 或 [TensorFlow Layers (contrib)](https://www.tensorflow.org/api_guides/python/contrib.layers) 包中的类。如果你想要更大挑战，可以仅使用其他 TensorFlow 程序包。"
   ]
  },
  {
   "cell_type": "code",
   "execution_count": 162,
   "metadata": {},
   "outputs": [
    {
     "name": "stdout",
     "output_type": "stream",
     "text": [
      "Tests Passed\n"
     ]
    }
   ],
   "source": [
    "def fully_conn(x_tensor, num_outputs):\n",
    "    \"\"\"\n",
    "    Apply a fully connected layer to x_tensor using weight and bias\n",
    "    : x_tensor: A 2-D tensor where the first dimension is batch size.\n",
    "    : num_outputs: The number of output that the new tensor should be.\n",
    "    : return: A 2-D tensor where the second dimension is num_outputs.\n",
    "    \"\"\"\n",
    "    # TODO: Implement Function\n",
    "    #return tf.layers.dense(x_tensor, num_outputs, activation=tf.nn.relu)\n",
    "    \n",
    "    # Weights & bias\n",
    "    weights = tf.Variable(tf.truncated_normal([int(x_tensor.shape[1]), num_outputs], stddev=0.1))\n",
    "    bias = tf.Variable(tf.zeros(num_outputs))\n",
    "\n",
    "    # Logits - xW + b\n",
    "    logits = tf.add(tf.matmul(x_tensor, weights), bias)\n",
    "    return tf.nn.relu(logits)\n",
    "\n",
    "\n",
    "\n",
    "\"\"\"\n",
    "DON'T MODIFY ANYTHING IN THIS CELL THAT IS BELOW THIS LINE\n",
    "\"\"\"\n",
    "tests.test_fully_conn(fully_conn)"
   ]
  },
  {
   "cell_type": "markdown",
   "metadata": {},
   "source": [
    "### 输出层\n",
    "\n",
    "实现 `output` 函数，向 x_tensor 应用完全连接的层级，形状为（*部分大小（Batch Size）*，*num_outputs*）。快捷方法：对于此层，你可以使用 [TensorFlow Layers](https://www.tensorflow.org/api_docs/python/tf/layers) 或 [TensorFlow Layers (contrib)](https://www.tensorflow.org/api_guides/python/contrib.layers) 包中的类。如果你想要更大挑战，可以仅使用其他 TensorFlow 程序包。\n",
    "\n",
    "**注意**：该层级不应应用 Activation、softmax 或交叉熵（cross entropy）。"
   ]
  },
  {
   "cell_type": "code",
   "execution_count": 163,
   "metadata": {},
   "outputs": [
    {
     "name": "stdout",
     "output_type": "stream",
     "text": [
      "Tests Passed\n"
     ]
    }
   ],
   "source": [
    "def output(x_tensor, num_outputs):\n",
    "    \"\"\"\n",
    "    Apply a output layer to x_tensor using weight and bias\n",
    "    : x_tensor: A 2-D tensor where the first dimension is batch size.\n",
    "    : num_outputs: The number of output that the new tensor should be.\n",
    "    : return: A 2-D tensor where the second dimension is num_outputs.\n",
    "    \"\"\"\n",
    "    # TODO: Implement Function\n",
    "    #return tf.layers.dense(x_tensor, num_outputs)\n",
    "    \n",
    "    # Weights & bias\n",
    "    weights = tf.Variable(tf.truncated_normal([int(x_tensor.shape[1]), num_outputs], stddev=0.2))\n",
    "    bias = tf.Variable(tf.zeros(num_outputs))\n",
    "\n",
    "    # Logits - xW + b\n",
    "    logits = tf.add(tf.matmul(x_tensor, weights), bias)\n",
    "    return logits\n",
    "\n",
    "\n",
    "\"\"\"\n",
    "DON'T MODIFY ANYTHING IN THIS CELL THAT IS BELOW THIS LINE\n",
    "\"\"\"\n",
    "tests.test_output(output)"
   ]
  },
  {
   "cell_type": "markdown",
   "metadata": {},
   "source": [
    "### 创建卷积模型\n",
    "\n",
    "实现函数 `conv_net`， 创建卷积神经网络模型。该函数传入一批图片 `x`，并输出对数（logits）。使用你在上方创建的层创建此模型：\n",
    "\n",
    "* 应用 1、2 或 3 个卷积和最大池化层（Convolution and Max Pool layers）\n",
    "* 应用一个扁平层（Flatten Layer）\n",
    "* 应用 1、2 或 3 个完全连接层（Fully Connected Layers）\n",
    "* 应用一个输出层（Output Layer）\n",
    "* 返回输出\n",
    "* 使用 `keep_prob` 向模型中的一个或多个层应用 [TensorFlow 的 Dropout](https://www.tensorflow.org/api_docs/python/tf/nn/dropout)"
   ]
  },
  {
   "cell_type": "code",
   "execution_count": 191,
   "metadata": {},
   "outputs": [
    {
     "name": "stdout",
     "output_type": "stream",
     "text": [
      "Neural Network Built!\n"
     ]
    }
   ],
   "source": [
    "def conv_net(x, keep_prob):\n",
    "    \"\"\"\n",
    "    Create a convolutional neural network model\n",
    "    : x: Placeholder tensor that holds image data.\n",
    "    : keep_prob: Placeholder tensor that hold dropout keep probability.\n",
    "    : return: Tensor that represents logits\n",
    "    \"\"\"\n",
    "    # TODO: Apply 1, 2, or 3 Convolution and Max Pool layers\n",
    "    #    Play around with different number of outputs, kernel size and stride\n",
    "    # Function Definition from Above:\n",
    "    #    conv2d_maxpool(x_tensor, conv_num_outputs, conv_ksize, conv_strides, pool_ksize, pool_strides)\n",
    "    #32x32x3\n",
    "    conv = conv2d_maxpool(x, 32, (3, 3), (1, 1), (2, 2), (2, 2))\n",
    "    conv = tf.nn.dropout(conv, keep_prob)\n",
    "    #16x16x16\n",
    "    conv = conv2d_maxpool(conv, 128, (3, 3), (1, 1), (2, 2), (2, 2))\n",
    "    conv = tf.nn.dropout(conv, keep_prob)\n",
    "    #8x8x64\n",
    "    conv = conv2d_maxpool(conv, 256, (3, 3), (1, 1), (2, 2), (2, 2))\n",
    "    conv = tf.nn.dropout(conv, keep_prob)\n",
    "    #4x4x128\n",
    "    \n",
    "    # TODO: Apply a Flatten Layer\n",
    "    # Function Definition from Above:\n",
    "    #   flatten(x_tensor)\n",
    "    fc = flatten(conv)\n",
    "    fc = tf.nn.dropout(fc, keep_prob)\n",
    "\n",
    "    # TODO: Apply 1, 2, or 3 Fully Connected Layers\n",
    "    #    Play around with different number of outputs\n",
    "    # Function Definition from Above:\n",
    "    #   fully_conn(x_tensor, num_outputs)\n",
    "    fc = fully_conn(fc, 128)\n",
    "    fc = tf.nn.dropout(fc, keep_prob)\n",
    "    #fc = fully_conn(fc, 64)\n",
    "    #fc = fully_conn(fc, 32)\n",
    "    \n",
    "    # TODO: Apply an Output Layer\n",
    "    #    Set this to the number of classes\n",
    "    # Function Definition from Above:\n",
    "    #   output(x_tensor, num_outputs)\n",
    "    logits = output(fc, 10)\n",
    "    \n",
    "    # TODO: return output\n",
    "    return logits\n",
    "\n",
    "\n",
    "\"\"\"\n",
    "DON'T MODIFY ANYTHING IN THIS CELL THAT IS BELOW THIS LINE\n",
    "\"\"\"\n",
    "\n",
    "##############################\n",
    "## Build the Neural Network ##\n",
    "##############################\n",
    "\n",
    "# Remove previous weights, bias, inputs, etc..\n",
    "tf.reset_default_graph()\n",
    "\n",
    "# Inputs\n",
    "x = neural_net_image_input((32, 32, 3))\n",
    "y = neural_net_label_input(10)\n",
    "keep_prob = neural_net_keep_prob_input()\n",
    "\n",
    "# Model\n",
    "logits = conv_net(x, keep_prob)\n",
    "\n",
    "# Name logits Tensor, so that is can be loaded from disk after training\n",
    "logits = tf.identity(logits, name='logits')\n",
    "\n",
    "# Loss and Optimizer\n",
    "cost = tf.reduce_mean(tf.nn.softmax_cross_entropy_with_logits(logits=logits, labels=y))\n",
    "optimizer = tf.train.AdamOptimizer().minimize(cost)\n",
    "\n",
    "# Accuracy\n",
    "correct_pred = tf.equal(tf.argmax(logits, 1), tf.argmax(y, 1))\n",
    "accuracy = tf.reduce_mean(tf.cast(correct_pred, tf.float32), name='accuracy')\n",
    "\n",
    "tests.test_conv_net(conv_net)"
   ]
  },
  {
   "cell_type": "markdown",
   "metadata": {},
   "source": [
    "## 训练神经网络\n",
    "\n",
    "### 单次优化\n",
    "\n",
    "实现函数 `train_neural_network` 以进行单次优化（single optimization）。该优化应该使用 `optimizer` 优化 `session`，其中 `feed_dict` 具有以下参数：\n",
    "\n",
    "* `x` 表示图片输入\n",
    "* `y` 表示标签\n",
    "* `keep_prob` 表示丢弃的保留率\n",
    "\n",
    "每个部分都会调用该函数，所以 `tf.global_variables_initializer()` 已经被调用。\n",
    "\n",
    "注意：不需要返回任何内容。该函数只是用来优化神经网络。\n"
   ]
  },
  {
   "cell_type": "code",
   "execution_count": 192,
   "metadata": {},
   "outputs": [
    {
     "name": "stdout",
     "output_type": "stream",
     "text": [
      "Tests Passed\n"
     ]
    }
   ],
   "source": [
    "def train_neural_network(session, optimizer, keep_probability, feature_batch, label_batch):\n",
    "    \"\"\"\n",
    "    Optimize the session on a batch of images and labels\n",
    "    : session: Current TensorFlow session\n",
    "    : optimizer: TensorFlow optimizer function\n",
    "    : keep_probability: keep probability\n",
    "    : feature_batch: Batch of Numpy image data\n",
    "    : label_batch: Batch of Numpy label data\n",
    "    \"\"\"\n",
    "    # TODO: Implement Function\n",
    "    session.run(optimizer, feed_dict={x: feature_batch, y: label_batch, keep_prob: keep_probability})\n",
    "\n",
    "\n",
    "\"\"\"\n",
    "DON'T MODIFY ANYTHING IN THIS CELL THAT IS BELOW THIS LINE\n",
    "\"\"\"\n",
    "tests.test_train_nn(train_neural_network)"
   ]
  },
  {
   "cell_type": "markdown",
   "metadata": {},
   "source": [
    "### 显示数据\n",
    "\n",
    "实现函数 `print_stats` 以输出损失和验证准确率。使用全局变量 `valid_features` 和 `valid_labels` 计算验证准确率。使用保留率 `1.0` 计算损失和验证准确率（loss and validation accuracy）。\n"
   ]
  },
  {
   "cell_type": "code",
   "execution_count": 193,
   "metadata": {
    "collapsed": true
   },
   "outputs": [],
   "source": [
    "def print_stats(session, feature_batch, label_batch, cost, accuracy):\n",
    "    \"\"\"\n",
    "    Print information about loss and validation accuracy\n",
    "    : session: Current TensorFlow session\n",
    "    : feature_batch: Batch of Numpy image data\n",
    "    : label_batch: Batch of Numpy label data\n",
    "    : cost: TensorFlow cost function\n",
    "    : accuracy: TensorFlow accuracy function\n",
    "    \"\"\"\n",
    "    # TODO: Implement Function\n",
    "    c = session.run(cost, feed_dict={\n",
    "            x: feature_batch,\n",
    "            y: label_batch,\n",
    "            keep_prob: 1.0\n",
    "        })\n",
    "    acc = session.run(accuracy, feed_dict={\n",
    "            x: valid_features,\n",
    "            y: valid_labels,\n",
    "            keep_prob: 1.0\n",
    "        })\n",
    "    print('Cost:{} Accuracy:{}'.format(c, acc))"
   ]
  },
  {
   "cell_type": "markdown",
   "metadata": {},
   "source": [
    "### 超参数\n",
    "\n",
    "调试以下超参数：\n",
    "* 设置 `epochs` 表示神经网络停止学习或开始过拟合的迭代次数\n",
    "* 设置 `batch_size`，表示机器内存允许的部分最大体积。大部分人设为以下常见内存大小：\n",
    "\n",
    " * 64\n",
    " * 128\n",
    " * 256\n",
    " * ...\n",
    "* 设置 `keep_probability` 表示使用丢弃时保留节点的概率"
   ]
  },
  {
   "cell_type": "code",
   "execution_count": 202,
   "metadata": {
    "collapsed": true
   },
   "outputs": [],
   "source": [
    "# TODO: Tune Parameters\n",
    "epochs = 50\n",
    "batch_size = 128\n",
    "keep_probability = 0.8"
   ]
  },
  {
   "cell_type": "markdown",
   "metadata": {},
   "source": [
    "### 在单个 CIFAR-10 部分上训练\n",
    "\n",
    "我们先用单个部分，而不是用所有的 CIFAR-10 批次训练神经网络。这样可以节省时间，并对模型进行迭代，以提高准确率。最终验证准确率达到 50% 或以上之后，在下一部分对所有数据运行模型。\n"
   ]
  },
  {
   "cell_type": "code",
   "execution_count": 203,
   "metadata": {},
   "outputs": [
    {
     "name": "stdout",
     "output_type": "stream",
     "text": [
      "Checking the Training on a Single Batch...\n",
      "Epoch  1, CIFAR-10 Batch 1:  Cost:2.2064735889434814 Accuracy:0.21799997985363007\n",
      "Epoch  2, CIFAR-10 Batch 1:  Cost:2.1310157775878906 Accuracy:0.3073999881744385\n",
      "Epoch  3, CIFAR-10 Batch 1:  Cost:1.9241021871566772 Accuracy:0.3773999810218811\n",
      "Epoch  4, CIFAR-10 Batch 1:  Cost:1.7976740598678589 Accuracy:0.415399968624115\n",
      "Epoch  5, CIFAR-10 Batch 1:  Cost:1.666882872581482 Accuracy:0.45159998536109924\n",
      "Epoch  6, CIFAR-10 Batch 1:  Cost:1.565343976020813 Accuracy:0.4917999804019928\n",
      "Epoch  7, CIFAR-10 Batch 1:  Cost:1.4206706285476685 Accuracy:0.5181999206542969\n",
      "Epoch  8, CIFAR-10 Batch 1:  Cost:1.2835100889205933 Accuracy:0.5279999375343323\n",
      "Epoch  9, CIFAR-10 Batch 1:  Cost:1.194393277168274 Accuracy:0.5427999496459961\n",
      "Epoch 10, CIFAR-10 Batch 1:  Cost:1.1559840440750122 Accuracy:0.5511999130249023\n",
      "Epoch 11, CIFAR-10 Batch 1:  Cost:1.1099984645843506 Accuracy:0.5643998980522156\n",
      "Epoch 12, CIFAR-10 Batch 1:  Cost:1.041550874710083 Accuracy:0.5727999210357666\n",
      "Epoch 13, CIFAR-10 Batch 1:  Cost:0.9487254023551941 Accuracy:0.5841999053955078\n",
      "Epoch 14, CIFAR-10 Batch 1:  Cost:0.8955409526824951 Accuracy:0.590999960899353\n",
      "Epoch 15, CIFAR-10 Batch 1:  Cost:0.815212607383728 Accuracy:0.5899999141693115\n",
      "Epoch 16, CIFAR-10 Batch 1:  Cost:0.7982678413391113 Accuracy:0.6023998856544495\n",
      "Epoch 17, CIFAR-10 Batch 1:  Cost:0.7376356720924377 Accuracy:0.5945999622344971\n",
      "Epoch 18, CIFAR-10 Batch 1:  Cost:0.6696219444274902 Accuracy:0.608599841594696\n",
      "Epoch 19, CIFAR-10 Batch 1:  Cost:0.6316874623298645 Accuracy:0.6167999505996704\n",
      "Epoch 20, CIFAR-10 Batch 1:  Cost:0.5538164973258972 Accuracy:0.6241998672485352\n",
      "Epoch 21, CIFAR-10 Batch 1:  Cost:0.550875186920166 Accuracy:0.6289999485015869\n",
      "Epoch 22, CIFAR-10 Batch 1:  Cost:0.4856424331665039 Accuracy:0.6349999308586121\n",
      "Epoch 23, CIFAR-10 Batch 1:  Cost:0.42320355772972107 Accuracy:0.6333999037742615\n",
      "Epoch 24, CIFAR-10 Batch 1:  Cost:0.39446020126342773 Accuracy:0.6417999267578125\n",
      "Epoch 25, CIFAR-10 Batch 1:  Cost:0.35166794061660767 Accuracy:0.643799901008606\n",
      "Epoch 26, CIFAR-10 Batch 1:  Cost:0.27342212200164795 Accuracy:0.6555999517440796\n",
      "Epoch 27, CIFAR-10 Batch 1:  Cost:0.2656830847263336 Accuracy:0.6487998962402344\n",
      "Epoch 28, CIFAR-10 Batch 1:  Cost:0.22900989651679993 Accuracy:0.6571998596191406\n",
      "Epoch 29, CIFAR-10 Batch 1:  Cost:0.1947387158870697 Accuracy:0.6595999002456665\n",
      "Epoch 30, CIFAR-10 Batch 1:  Cost:0.153749018907547 Accuracy:0.6575998663902283\n",
      "Epoch 31, CIFAR-10 Batch 1:  Cost:0.13356183469295502 Accuracy:0.6581998467445374\n",
      "Epoch 32, CIFAR-10 Batch 1:  Cost:0.13347606360912323 Accuracy:0.6609998941421509\n",
      "Epoch 33, CIFAR-10 Batch 1:  Cost:0.10627006739377975 Accuracy:0.6685999035835266\n",
      "Epoch 34, CIFAR-10 Batch 1:  Cost:0.11307977139949799 Accuracy:0.6589998602867126\n",
      "Epoch 35, CIFAR-10 Batch 1:  Cost:0.09619026631116867 Accuracy:0.6741999387741089\n",
      "Epoch 36, CIFAR-10 Batch 1:  Cost:0.07178471982479095 Accuracy:0.671799898147583\n",
      "Epoch 37, CIFAR-10 Batch 1:  Cost:0.06632451713085175 Accuracy:0.668799877166748\n",
      "Epoch 38, CIFAR-10 Batch 1:  Cost:0.08182206749916077 Accuracy:0.6671999096870422\n",
      "Epoch 39, CIFAR-10 Batch 1:  Cost:0.05667649209499359 Accuracy:0.679399847984314\n",
      "Epoch 40, CIFAR-10 Batch 1:  Cost:0.06465467065572739 Accuracy:0.6657998561859131\n",
      "Epoch 41, CIFAR-10 Batch 1:  Cost:0.04780445992946625 Accuracy:0.6739999055862427\n",
      "Epoch 42, CIFAR-10 Batch 1:  Cost:0.036249756813049316 Accuracy:0.6737998723983765\n",
      "Epoch 43, CIFAR-10 Batch 1:  Cost:0.042609646916389465 Accuracy:0.6757999062538147\n",
      "Epoch 44, CIFAR-10 Batch 1:  Cost:0.03711468353867531 Accuracy:0.6767998337745667\n",
      "Epoch 45, CIFAR-10 Batch 1:  Cost:0.030138375237584114 Accuracy:0.6723998785018921\n",
      "Epoch 46, CIFAR-10 Batch 1:  Cost:0.03220225125551224 Accuracy:0.6597998142242432\n",
      "Epoch 47, CIFAR-10 Batch 1:  Cost:0.030336465686559677 Accuracy:0.6727999448776245\n",
      "Epoch 48, CIFAR-10 Batch 1:  Cost:0.018343042582273483 Accuracy:0.6697998046875\n",
      "Epoch 49, CIFAR-10 Batch 1:  Cost:0.02295013703405857 Accuracy:0.6683999300003052\n",
      "Epoch 50, CIFAR-10 Batch 1:  Cost:0.021552328020334244 Accuracy:0.6663998961448669\n"
     ]
    }
   ],
   "source": [
    "\"\"\"\n",
    "DON'T MODIFY ANYTHING IN THIS CELL\n",
    "\"\"\"\n",
    "print('Checking the Training on a Single Batch...')\n",
    "with tf.Session() as sess:\n",
    "    # Initializing the variables\n",
    "    sess.run(tf.global_variables_initializer())\n",
    "    \n",
    "    # Training cycle\n",
    "    for epoch in range(epochs):\n",
    "        batch_i = 1\n",
    "        for batch_features, batch_labels in helper.load_preprocess_training_batch(batch_i, batch_size):\n",
    "            train_neural_network(sess, optimizer, keep_probability, batch_features, batch_labels)\n",
    "        print('Epoch {:>2}, CIFAR-10 Batch {}:  '.format(epoch + 1, batch_i), end='')\n",
    "        print_stats(sess, batch_features, batch_labels, cost, accuracy)"
   ]
  },
  {
   "cell_type": "markdown",
   "metadata": {},
   "source": [
    "### 完全训练模型\n",
    "\n",
    "现在，单个 CIFAR-10 部分的准确率已经不错了，试试所有五个部分吧。"
   ]
  },
  {
   "cell_type": "code",
   "execution_count": 204,
   "metadata": {},
   "outputs": [
    {
     "name": "stdout",
     "output_type": "stream",
     "text": [
      "Training...\n",
      "Epoch  1, CIFAR-10 Batch 1:  Cost:2.2419238090515137 Accuracy:0.24159997701644897\n",
      "Epoch  1, CIFAR-10 Batch 2:  Cost:1.9047566652297974 Accuracy:0.3392000198364258\n",
      "Epoch  1, CIFAR-10 Batch 3:  Cost:1.5879673957824707 Accuracy:0.3779999911785126\n",
      "Epoch  1, CIFAR-10 Batch 4:  Cost:1.616795301437378 Accuracy:0.43639999628067017\n",
      "Epoch  1, CIFAR-10 Batch 5:  Cost:1.573793649673462 Accuracy:0.4657999873161316\n",
      "Epoch  2, CIFAR-10 Batch 1:  Cost:1.6880507469177246 Accuracy:0.49199995398521423\n",
      "Epoch  2, CIFAR-10 Batch 2:  Cost:1.3738280534744263 Accuracy:0.5139999389648438\n",
      "Epoch  2, CIFAR-10 Batch 3:  Cost:1.2063734531402588 Accuracy:0.5247999429702759\n",
      "Epoch  2, CIFAR-10 Batch 4:  Cost:1.3116085529327393 Accuracy:0.5483999252319336\n",
      "Epoch  2, CIFAR-10 Batch 5:  Cost:1.2960188388824463 Accuracy:0.5459998846054077\n",
      "Epoch  3, CIFAR-10 Batch 1:  Cost:1.3524465560913086 Accuracy:0.5665999054908752\n",
      "Epoch  3, CIFAR-10 Batch 2:  Cost:1.1943098306655884 Accuracy:0.5819999575614929\n",
      "Epoch  3, CIFAR-10 Batch 3:  Cost:1.0150476694107056 Accuracy:0.5913999080657959\n",
      "Epoch  3, CIFAR-10 Batch 4:  Cost:1.0528439283370972 Accuracy:0.5999999046325684\n",
      "Epoch  3, CIFAR-10 Batch 5:  Cost:1.075441598892212 Accuracy:0.614599883556366\n",
      "Epoch  4, CIFAR-10 Batch 1:  Cost:1.1656298637390137 Accuracy:0.6077998876571655\n",
      "Epoch  4, CIFAR-10 Batch 2:  Cost:0.9514582753181458 Accuracy:0.6167999505996704\n",
      "Epoch  4, CIFAR-10 Batch 3:  Cost:0.8817198872566223 Accuracy:0.6317998766899109\n",
      "Epoch  4, CIFAR-10 Batch 4:  Cost:0.8795893788337708 Accuracy:0.649199903011322\n",
      "Epoch  4, CIFAR-10 Batch 5:  Cost:0.8700046539306641 Accuracy:0.6529998779296875\n",
      "Epoch  5, CIFAR-10 Batch 1:  Cost:0.9536150693893433 Accuracy:0.6653999090194702\n",
      "Epoch  5, CIFAR-10 Batch 2:  Cost:0.8573203682899475 Accuracy:0.6653998494148254\n",
      "Epoch  5, CIFAR-10 Batch 3:  Cost:0.6654356122016907 Accuracy:0.673599898815155\n",
      "Epoch  5, CIFAR-10 Batch 4:  Cost:0.7464344501495361 Accuracy:0.6843998432159424\n",
      "Epoch  5, CIFAR-10 Batch 5:  Cost:0.718752920627594 Accuracy:0.6721998453140259\n",
      "Epoch  6, CIFAR-10 Batch 1:  Cost:0.8150526285171509 Accuracy:0.6929998397827148\n",
      "Epoch  6, CIFAR-10 Batch 2:  Cost:0.7453899383544922 Accuracy:0.6949998736381531\n",
      "Epoch  6, CIFAR-10 Batch 3:  Cost:0.6169949769973755 Accuracy:0.6881998777389526\n",
      "Epoch  6, CIFAR-10 Batch 4:  Cost:0.6819120049476624 Accuracy:0.7019999027252197\n",
      "Epoch  6, CIFAR-10 Batch 5:  Cost:0.6370607018470764 Accuracy:0.7035998702049255\n",
      "Epoch  7, CIFAR-10 Batch 1:  Cost:0.6853415966033936 Accuracy:0.7021999359130859\n",
      "Epoch  7, CIFAR-10 Batch 2:  Cost:0.6052260398864746 Accuracy:0.7093998789787292\n",
      "Epoch  7, CIFAR-10 Batch 3:  Cost:0.5604298114776611 Accuracy:0.7045998573303223\n",
      "Epoch  7, CIFAR-10 Batch 4:  Cost:0.5924762487411499 Accuracy:0.7185998558998108\n",
      "Epoch  7, CIFAR-10 Batch 5:  Cost:0.5633378028869629 Accuracy:0.716999888420105\n",
      "Epoch  8, CIFAR-10 Batch 1:  Cost:0.6136467456817627 Accuracy:0.708399772644043\n",
      "Epoch  8, CIFAR-10 Batch 2:  Cost:0.48614299297332764 Accuracy:0.7257998585700989\n",
      "Epoch  8, CIFAR-10 Batch 3:  Cost:0.44565728306770325 Accuracy:0.7191997766494751\n",
      "Epoch  8, CIFAR-10 Batch 4:  Cost:0.5342884063720703 Accuracy:0.734799861907959\n",
      "Epoch  8, CIFAR-10 Batch 5:  Cost:0.4751160144805908 Accuracy:0.7287998795509338\n",
      "Epoch  9, CIFAR-10 Batch 1:  Cost:0.4454021453857422 Accuracy:0.7361998558044434\n",
      "Epoch  9, CIFAR-10 Batch 2:  Cost:0.4529631435871124 Accuracy:0.733599841594696\n",
      "Epoch  9, CIFAR-10 Batch 3:  Cost:0.40086525678634644 Accuracy:0.7269998788833618\n",
      "Epoch  9, CIFAR-10 Batch 4:  Cost:0.44822415709495544 Accuracy:0.7423998117446899\n",
      "Epoch  9, CIFAR-10 Batch 5:  Cost:0.3851653039455414 Accuracy:0.7339998483657837\n",
      "Epoch 10, CIFAR-10 Batch 1:  Cost:0.4207555651664734 Accuracy:0.7409998774528503\n",
      "Epoch 10, CIFAR-10 Batch 2:  Cost:0.36168089509010315 Accuracy:0.7371999025344849\n",
      "Epoch 10, CIFAR-10 Batch 3:  Cost:0.35072600841522217 Accuracy:0.7375998497009277\n",
      "Epoch 10, CIFAR-10 Batch 4:  Cost:0.42307233810424805 Accuracy:0.7493997812271118\n",
      "Epoch 10, CIFAR-10 Batch 5:  Cost:0.43006011843681335 Accuracy:0.7449998259544373\n",
      "Epoch 11, CIFAR-10 Batch 1:  Cost:0.34671518206596375 Accuracy:0.7519997954368591\n",
      "Epoch 11, CIFAR-10 Batch 2:  Cost:0.3574996888637543 Accuracy:0.7417998313903809\n",
      "Epoch 11, CIFAR-10 Batch 3:  Cost:0.28511732816696167 Accuracy:0.7243998050689697\n",
      "Epoch 11, CIFAR-10 Batch 4:  Cost:0.3465924561023712 Accuracy:0.7573997974395752\n",
      "Epoch 11, CIFAR-10 Batch 5:  Cost:0.3003641366958618 Accuracy:0.759199857711792\n",
      "Epoch 12, CIFAR-10 Batch 1:  Cost:0.333058625459671 Accuracy:0.7597998380661011\n",
      "Epoch 12, CIFAR-10 Batch 2:  Cost:0.32172611355781555 Accuracy:0.7585998177528381\n",
      "Epoch 12, CIFAR-10 Batch 3:  Cost:0.24231529235839844 Accuracy:0.7503998279571533\n",
      "Epoch 12, CIFAR-10 Batch 4:  Cost:0.2794775366783142 Accuracy:0.7671998143196106\n",
      "Epoch 12, CIFAR-10 Batch 5:  Cost:0.24607917666435242 Accuracy:0.7665998339653015\n",
      "Epoch 13, CIFAR-10 Batch 1:  Cost:0.3054412007331848 Accuracy:0.7671998143196106\n",
      "Epoch 13, CIFAR-10 Batch 2:  Cost:0.23523609340190887 Accuracy:0.7643998861312866\n",
      "Epoch 13, CIFAR-10 Batch 3:  Cost:0.20704014599323273 Accuracy:0.7641998529434204\n",
      "Epoch 13, CIFAR-10 Batch 4:  Cost:0.22249889373779297 Accuracy:0.7761998176574707\n",
      "Epoch 13, CIFAR-10 Batch 5:  Cost:0.21711453795433044 Accuracy:0.7709997892379761\n",
      "Epoch 14, CIFAR-10 Batch 1:  Cost:0.25366538763046265 Accuracy:0.7731997966766357\n",
      "Epoch 14, CIFAR-10 Batch 2:  Cost:0.29769274592399597 Accuracy:0.7649997472763062\n",
      "Epoch 14, CIFAR-10 Batch 3:  Cost:0.19568705558776855 Accuracy:0.7711998224258423\n",
      "Epoch 14, CIFAR-10 Batch 4:  Cost:0.23453688621520996 Accuracy:0.778799831867218\n",
      "Epoch 14, CIFAR-10 Batch 5:  Cost:0.23720455169677734 Accuracy:0.778799831867218\n",
      "Epoch 15, CIFAR-10 Batch 1:  Cost:0.21771132946014404 Accuracy:0.7745997309684753\n",
      "Epoch 15, CIFAR-10 Batch 2:  Cost:0.23950347304344177 Accuracy:0.7697998285293579\n",
      "Epoch 15, CIFAR-10 Batch 3:  Cost:0.1567375361919403 Accuracy:0.7781997919082642\n",
      "Epoch 15, CIFAR-10 Batch 4:  Cost:0.22277790307998657 Accuracy:0.7699998617172241\n",
      "Epoch 15, CIFAR-10 Batch 5:  Cost:0.160841166973114 Accuracy:0.7841998338699341\n",
      "Epoch 16, CIFAR-10 Batch 1:  Cost:0.2231256514787674 Accuracy:0.776999831199646\n",
      "Epoch 16, CIFAR-10 Batch 2:  Cost:0.16149532794952393 Accuracy:0.779999852180481\n",
      "Epoch 16, CIFAR-10 Batch 3:  Cost:0.17229421436786652 Accuracy:0.7743998169898987\n",
      "Epoch 16, CIFAR-10 Batch 4:  Cost:0.19782781600952148 Accuracy:0.7727998495101929\n",
      "Epoch 16, CIFAR-10 Batch 5:  Cost:0.1451231986284256 Accuracy:0.7807998657226562\n",
      "Epoch 17, CIFAR-10 Batch 1:  Cost:0.18998228013515472 Accuracy:0.7895997762680054\n",
      "Epoch 17, CIFAR-10 Batch 2:  Cost:0.13720422983169556 Accuracy:0.7667998671531677\n",
      "Epoch 17, CIFAR-10 Batch 3:  Cost:0.1235138550400734 Accuracy:0.7759998440742493\n",
      "Epoch 17, CIFAR-10 Batch 4:  Cost:0.1819847822189331 Accuracy:0.7765998244285583\n",
      "Epoch 17, CIFAR-10 Batch 5:  Cost:0.13872012495994568 Accuracy:0.7849998474121094\n",
      "Epoch 18, CIFAR-10 Batch 1:  Cost:0.14057065546512604 Accuracy:0.7863998413085938\n",
      "Epoch 18, CIFAR-10 Batch 2:  Cost:0.11454902589321136 Accuracy:0.7699998021125793\n",
      "Epoch 18, CIFAR-10 Batch 3:  Cost:0.12467480450868607 Accuracy:0.7827998399734497\n",
      "Epoch 18, CIFAR-10 Batch 4:  Cost:0.1687273383140564 Accuracy:0.7687997817993164\n",
      "Epoch 18, CIFAR-10 Batch 5:  Cost:0.12399163097143173 Accuracy:0.7783998847007751\n",
      "Epoch 19, CIFAR-10 Batch 1:  Cost:0.12158237397670746 Accuracy:0.7871997952461243\n",
      "Epoch 19, CIFAR-10 Batch 2:  Cost:0.10766063630580902 Accuracy:0.7859997749328613\n",
      "Epoch 19, CIFAR-10 Batch 3:  Cost:0.08925624191761017 Accuracy:0.7717997431755066\n",
      "Epoch 19, CIFAR-10 Batch 4:  Cost:0.16373156011104584 Accuracy:0.775999903678894\n",
      "Epoch 19, CIFAR-10 Batch 5:  Cost:0.09039439260959625 Accuracy:0.792999804019928\n",
      "Epoch 20, CIFAR-10 Batch 1:  Cost:0.11332126706838608 Accuracy:0.7823998332023621\n",
      "Epoch 20, CIFAR-10 Batch 2:  Cost:0.0995057225227356 Accuracy:0.7841998338699341\n",
      "Epoch 20, CIFAR-10 Batch 3:  Cost:0.08937637507915497 Accuracy:0.7851998209953308\n",
      "Epoch 20, CIFAR-10 Batch 4:  Cost:0.12205582857131958 Accuracy:0.7793998718261719\n",
      "Epoch 20, CIFAR-10 Batch 5:  Cost:0.06747361272573471 Accuracy:0.7811998128890991\n",
      "Epoch 21, CIFAR-10 Batch 1:  Cost:0.11258476972579956 Accuracy:0.7869998216629028\n"
     ]
    },
    {
     "name": "stdout",
     "output_type": "stream",
     "text": [
      "Epoch 21, CIFAR-10 Batch 2:  Cost:0.087459996342659 Accuracy:0.7655998468399048\n",
      "Epoch 21, CIFAR-10 Batch 3:  Cost:0.09541019797325134 Accuracy:0.7659998536109924\n",
      "Epoch 21, CIFAR-10 Batch 4:  Cost:0.09880654513835907 Accuracy:0.7895997762680054\n",
      "Epoch 21, CIFAR-10 Batch 5:  Cost:0.08716699481010437 Accuracy:0.7917998433113098\n",
      "Epoch 22, CIFAR-10 Batch 1:  Cost:0.07974139600992203 Accuracy:0.798399806022644\n",
      "Epoch 22, CIFAR-10 Batch 2:  Cost:0.10402008891105652 Accuracy:0.7825998067855835\n",
      "Epoch 22, CIFAR-10 Batch 3:  Cost:0.06250379979610443 Accuracy:0.7893997430801392\n",
      "Epoch 22, CIFAR-10 Batch 4:  Cost:0.10827258229255676 Accuracy:0.7819998264312744\n",
      "Epoch 22, CIFAR-10 Batch 5:  Cost:0.07343797385692596 Accuracy:0.7789998054504395\n",
      "Epoch 23, CIFAR-10 Batch 1:  Cost:0.1044803038239479 Accuracy:0.7971997857093811\n",
      "Epoch 23, CIFAR-10 Batch 2:  Cost:0.0581544004380703 Accuracy:0.7791997790336609\n",
      "Epoch 23, CIFAR-10 Batch 3:  Cost:0.056920140981674194 Accuracy:0.7869998216629028\n",
      "Epoch 23, CIFAR-10 Batch 4:  Cost:0.10025596618652344 Accuracy:0.7801998853683472\n",
      "Epoch 23, CIFAR-10 Batch 5:  Cost:0.053016774356365204 Accuracy:0.7903997898101807\n",
      "Epoch 24, CIFAR-10 Batch 1:  Cost:0.07537596672773361 Accuracy:0.7941997647285461\n",
      "Epoch 24, CIFAR-10 Batch 2:  Cost:0.06952565908432007 Accuracy:0.7825998067855835\n",
      "Epoch 24, CIFAR-10 Batch 3:  Cost:0.06955263018608093 Accuracy:0.7907997369766235\n",
      "Epoch 24, CIFAR-10 Batch 4:  Cost:0.07351438701152802 Accuracy:0.7851998209953308\n",
      "Epoch 24, CIFAR-10 Batch 5:  Cost:0.05511461943387985 Accuracy:0.7883998155593872\n",
      "Epoch 25, CIFAR-10 Batch 1:  Cost:0.06131105124950409 Accuracy:0.7981998324394226\n",
      "Epoch 25, CIFAR-10 Batch 2:  Cost:0.055393993854522705 Accuracy:0.7905998229980469\n",
      "Epoch 25, CIFAR-10 Batch 3:  Cost:0.050467658787965775 Accuracy:0.7905998229980469\n",
      "Epoch 25, CIFAR-10 Batch 4:  Cost:0.07001908123493195 Accuracy:0.785199761390686\n",
      "Epoch 25, CIFAR-10 Batch 5:  Cost:0.05139950290322304 Accuracy:0.7899998426437378\n",
      "Epoch 26, CIFAR-10 Batch 1:  Cost:0.05036802217364311 Accuracy:0.7993997931480408\n",
      "Epoch 26, CIFAR-10 Batch 2:  Cost:0.04096437245607376 Accuracy:0.7957997918128967\n",
      "Epoch 26, CIFAR-10 Batch 3:  Cost:0.03924036771059036 Accuracy:0.7987998723983765\n",
      "Epoch 26, CIFAR-10 Batch 4:  Cost:0.08140884339809418 Accuracy:0.7859998345375061\n",
      "Epoch 26, CIFAR-10 Batch 5:  Cost:0.06419284641742706 Accuracy:0.7847998142242432\n",
      "Epoch 27, CIFAR-10 Batch 1:  Cost:0.05471653863787651 Accuracy:0.7957997918128967\n",
      "Epoch 27, CIFAR-10 Batch 2:  Cost:0.030541054904460907 Accuracy:0.7855998277664185\n",
      "Epoch 27, CIFAR-10 Batch 3:  Cost:0.04694944620132446 Accuracy:0.7845998406410217\n",
      "Epoch 27, CIFAR-10 Batch 4:  Cost:0.04990341141819954 Accuracy:0.793199896812439\n",
      "Epoch 27, CIFAR-10 Batch 5:  Cost:0.04129043221473694 Accuracy:0.7927998304367065\n",
      "Epoch 28, CIFAR-10 Batch 1:  Cost:0.04679480195045471 Accuracy:0.7991997599601746\n",
      "Epoch 28, CIFAR-10 Batch 2:  Cost:0.03709009662270546 Accuracy:0.7955998182296753\n",
      "Epoch 28, CIFAR-10 Batch 3:  Cost:0.042390577495098114 Accuracy:0.7885997891426086\n",
      "Epoch 28, CIFAR-10 Batch 4:  Cost:0.0618269219994545 Accuracy:0.7925998568534851\n",
      "Epoch 28, CIFAR-10 Batch 5:  Cost:0.04462350532412529 Accuracy:0.7945998907089233\n",
      "Epoch 29, CIFAR-10 Batch 1:  Cost:0.06735590845346451 Accuracy:0.7945998311042786\n",
      "Epoch 29, CIFAR-10 Batch 2:  Cost:0.03762296959757805 Accuracy:0.7987998127937317\n",
      "Epoch 29, CIFAR-10 Batch 3:  Cost:0.018776865676045418 Accuracy:0.8065997958183289\n",
      "Epoch 29, CIFAR-10 Batch 4:  Cost:0.059519313275814056 Accuracy:0.7887998223304749\n",
      "Epoch 29, CIFAR-10 Batch 5:  Cost:0.03326967731118202 Accuracy:0.7913998365402222\n",
      "Epoch 30, CIFAR-10 Batch 1:  Cost:0.05654005706310272 Accuracy:0.8023998737335205\n",
      "Epoch 30, CIFAR-10 Batch 2:  Cost:0.028706902638077736 Accuracy:0.7973998188972473\n",
      "Epoch 30, CIFAR-10 Batch 3:  Cost:0.026713594794273376 Accuracy:0.801399827003479\n",
      "Epoch 30, CIFAR-10 Batch 4:  Cost:0.03755222260951996 Accuracy:0.7919998168945312\n",
      "Epoch 30, CIFAR-10 Batch 5:  Cost:0.022649426013231277 Accuracy:0.7959997653961182\n",
      "Epoch 31, CIFAR-10 Batch 1:  Cost:0.03568746894598007 Accuracy:0.7979997396469116\n",
      "Epoch 31, CIFAR-10 Batch 2:  Cost:0.03562382608652115 Accuracy:0.7975997924804688\n",
      "Epoch 31, CIFAR-10 Batch 3:  Cost:0.02639300748705864 Accuracy:0.8011997938156128\n",
      "Epoch 31, CIFAR-10 Batch 4:  Cost:0.031347233802080154 Accuracy:0.7891998291015625\n",
      "Epoch 31, CIFAR-10 Batch 5:  Cost:0.01546898391097784 Accuracy:0.7955998182296753\n",
      "Epoch 32, CIFAR-10 Batch 1:  Cost:0.029090065509080887 Accuracy:0.798399806022644\n",
      "Epoch 32, CIFAR-10 Batch 2:  Cost:0.03473757579922676 Accuracy:0.7907997965812683\n",
      "Epoch 32, CIFAR-10 Batch 3:  Cost:0.029017725959420204 Accuracy:0.7999997138977051\n",
      "Epoch 32, CIFAR-10 Batch 4:  Cost:0.030578989535570145 Accuracy:0.7987998127937317\n",
      "Epoch 32, CIFAR-10 Batch 5:  Cost:0.030112816020846367 Accuracy:0.796599805355072\n",
      "Epoch 33, CIFAR-10 Batch 1:  Cost:0.03574911504983902 Accuracy:0.7927997708320618\n",
      "Epoch 33, CIFAR-10 Batch 2:  Cost:0.02628665789961815 Accuracy:0.7999998331069946\n",
      "Epoch 33, CIFAR-10 Batch 3:  Cost:0.020140577107667923 Accuracy:0.7991997599601746\n",
      "Epoch 33, CIFAR-10 Batch 4:  Cost:0.0308108851313591 Accuracy:0.7901998162269592\n",
      "Epoch 33, CIFAR-10 Batch 5:  Cost:0.01847255602478981 Accuracy:0.7911998629570007\n",
      "Epoch 34, CIFAR-10 Batch 1:  Cost:0.019808122888207436 Accuracy:0.7973998188972473\n",
      "Epoch 34, CIFAR-10 Batch 2:  Cost:0.0216949712485075 Accuracy:0.798399806022644\n",
      "Epoch 34, CIFAR-10 Batch 3:  Cost:0.024437248706817627 Accuracy:0.8093998432159424\n",
      "Epoch 34, CIFAR-10 Batch 4:  Cost:0.03175444155931473 Accuracy:0.7967997789382935\n",
      "Epoch 34, CIFAR-10 Batch 5:  Cost:0.011754585430026054 Accuracy:0.7979997992515564\n",
      "Epoch 35, CIFAR-10 Batch 1:  Cost:0.021076979115605354 Accuracy:0.8027998208999634\n",
      "Epoch 35, CIFAR-10 Batch 2:  Cost:0.030808445066213608 Accuracy:0.7967997789382935\n",
      "Epoch 35, CIFAR-10 Batch 3:  Cost:0.016758007928729057 Accuracy:0.8055998086929321\n",
      "Epoch 35, CIFAR-10 Batch 4:  Cost:0.03271070867776871 Accuracy:0.7923998236656189\n",
      "Epoch 35, CIFAR-10 Batch 5:  Cost:0.015391240827739239 Accuracy:0.804999828338623\n",
      "Epoch 36, CIFAR-10 Batch 1:  Cost:0.019432658329606056 Accuracy:0.8031997680664062\n",
      "Epoch 36, CIFAR-10 Batch 2:  Cost:0.018548350781202316 Accuracy:0.7981998324394226\n",
      "Epoch 36, CIFAR-10 Batch 3:  Cost:0.0121001610532403 Accuracy:0.8049997687339783\n",
      "Epoch 36, CIFAR-10 Batch 4:  Cost:0.021017955616116524 Accuracy:0.804399847984314\n",
      "Epoch 36, CIFAR-10 Batch 5:  Cost:0.010331515222787857 Accuracy:0.8045998215675354\n",
      "Epoch 37, CIFAR-10 Batch 1:  Cost:0.018857311457395554 Accuracy:0.7989998459815979\n",
      "Epoch 37, CIFAR-10 Batch 2:  Cost:0.019152339547872543 Accuracy:0.7979997992515564\n",
      "Epoch 37, CIFAR-10 Batch 3:  Cost:0.03612108156085014 Accuracy:0.8067998290061951\n",
      "Epoch 37, CIFAR-10 Batch 4:  Cost:0.018553564324975014 Accuracy:0.7931998372077942\n",
      "Epoch 37, CIFAR-10 Batch 5:  Cost:0.010248489677906036 Accuracy:0.8027998208999634\n",
      "Epoch 38, CIFAR-10 Batch 1:  Cost:0.015663186088204384 Accuracy:0.8083997964859009\n",
      "Epoch 38, CIFAR-10 Batch 2:  Cost:0.03450122848153114 Accuracy:0.796599805355072\n",
      "Epoch 38, CIFAR-10 Batch 3:  Cost:0.014104343019425869 Accuracy:0.8071998357772827\n",
      "Epoch 38, CIFAR-10 Batch 4:  Cost:0.016432251781225204 Accuracy:0.8077998161315918\n",
      "Epoch 38, CIFAR-10 Batch 5:  Cost:0.01355752907693386 Accuracy:0.7947998046875\n",
      "Epoch 39, CIFAR-10 Batch 1:  Cost:0.01797482743859291 Accuracy:0.8027998208999634\n",
      "Epoch 39, CIFAR-10 Batch 2:  Cost:0.013804128393530846 Accuracy:0.8073997497558594\n",
      "Epoch 39, CIFAR-10 Batch 3:  Cost:0.015337873250246048 Accuracy:0.8121997714042664\n",
      "Epoch 39, CIFAR-10 Batch 4:  Cost:0.029655763879418373 Accuracy:0.8043997883796692\n",
      "Epoch 39, CIFAR-10 Batch 5:  Cost:0.02288757637143135 Accuracy:0.8071998357772827\n",
      "Epoch 40, CIFAR-10 Batch 1:  Cost:0.02388855069875717 Accuracy:0.7989997863769531\n",
      "Epoch 40, CIFAR-10 Batch 2:  Cost:0.02074328623712063 Accuracy:0.8033998012542725\n",
      "Epoch 40, CIFAR-10 Batch 3:  Cost:0.012620571069419384 Accuracy:0.8039997816085815\n",
      "Epoch 40, CIFAR-10 Batch 4:  Cost:0.024010345339775085 Accuracy:0.8003998398780823\n",
      "Epoch 40, CIFAR-10 Batch 5:  Cost:0.008593413047492504 Accuracy:0.8075997829437256\n",
      "Epoch 41, CIFAR-10 Batch 1:  Cost:0.02694646827876568 Accuracy:0.7979997992515564\n"
     ]
    },
    {
     "name": "stdout",
     "output_type": "stream",
     "text": [
      "Epoch 41, CIFAR-10 Batch 2:  Cost:0.02013910375535488 Accuracy:0.7959997653961182\n",
      "Epoch 41, CIFAR-10 Batch 3:  Cost:0.013202732428908348 Accuracy:0.8109997510910034\n",
      "Epoch 41, CIFAR-10 Batch 4:  Cost:0.029579639434814453 Accuracy:0.8045997619628906\n",
      "Epoch 41, CIFAR-10 Batch 5:  Cost:0.008348614908754826 Accuracy:0.8067997694015503\n",
      "Epoch 42, CIFAR-10 Batch 1:  Cost:0.017914706841111183 Accuracy:0.7969998121261597\n",
      "Epoch 42, CIFAR-10 Batch 2:  Cost:0.01575804501771927 Accuracy:0.8071997761726379\n",
      "Epoch 42, CIFAR-10 Batch 3:  Cost:0.011591298505663872 Accuracy:0.8045997619628906\n",
      "Epoch 42, CIFAR-10 Batch 4:  Cost:0.026565389707684517 Accuracy:0.7967997789382935\n",
      "Epoch 42, CIFAR-10 Batch 5:  Cost:0.0104203000664711 Accuracy:0.7973997592926025\n",
      "Epoch 43, CIFAR-10 Batch 1:  Cost:0.012557312846183777 Accuracy:0.804999828338623\n",
      "Epoch 43, CIFAR-10 Batch 2:  Cost:0.01293591782450676 Accuracy:0.8085998892784119\n",
      "Epoch 43, CIFAR-10 Batch 3:  Cost:0.006000170484185219 Accuracy:0.8105998039245605\n",
      "Epoch 43, CIFAR-10 Batch 4:  Cost:0.014012224040925503 Accuracy:0.8103998899459839\n",
      "Epoch 43, CIFAR-10 Batch 5:  Cost:0.006485496181994677 Accuracy:0.8013997673988342\n",
      "Epoch 44, CIFAR-10 Batch 1:  Cost:0.023346509784460068 Accuracy:0.7953998446464539\n",
      "Epoch 44, CIFAR-10 Batch 2:  Cost:0.01853887550532818 Accuracy:0.8033998012542725\n",
      "Epoch 44, CIFAR-10 Batch 3:  Cost:0.021195320412516594 Accuracy:0.8031997680664062\n",
      "Epoch 44, CIFAR-10 Batch 4:  Cost:0.018590282648801804 Accuracy:0.8085997700691223\n",
      "Epoch 44, CIFAR-10 Batch 5:  Cost:0.008064375258982182 Accuracy:0.8015998601913452\n",
      "Epoch 45, CIFAR-10 Batch 1:  Cost:0.014265002682805061 Accuracy:0.7967997789382935\n",
      "Epoch 45, CIFAR-10 Batch 2:  Cost:0.014875221997499466 Accuracy:0.804999828338623\n",
      "Epoch 45, CIFAR-10 Batch 3:  Cost:0.007472680881619453 Accuracy:0.8063998222351074\n",
      "Epoch 45, CIFAR-10 Batch 4:  Cost:0.01567663997411728 Accuracy:0.7995997667312622\n",
      "Epoch 45, CIFAR-10 Batch 5:  Cost:0.003129237797111273 Accuracy:0.8059998154640198\n",
      "Epoch 46, CIFAR-10 Batch 1:  Cost:0.009339614771306515 Accuracy:0.7991997599601746\n",
      "Epoch 46, CIFAR-10 Batch 2:  Cost:0.014519214630126953 Accuracy:0.804399847984314\n",
      "Epoch 46, CIFAR-10 Batch 3:  Cost:0.017979901283979416 Accuracy:0.8079997897148132\n",
      "Epoch 46, CIFAR-10 Batch 4:  Cost:0.01604480855166912 Accuracy:0.8071998357772827\n",
      "Epoch 46, CIFAR-10 Batch 5:  Cost:0.009332680143415928 Accuracy:0.7997998595237732\n",
      "Epoch 47, CIFAR-10 Batch 1:  Cost:0.013832446187734604 Accuracy:0.7981998324394226\n",
      "Epoch 47, CIFAR-10 Batch 2:  Cost:0.011184511706233025 Accuracy:0.8027997612953186\n",
      "Epoch 47, CIFAR-10 Batch 3:  Cost:0.012468859553337097 Accuracy:0.8055998086929321\n",
      "Epoch 47, CIFAR-10 Batch 4:  Cost:0.009844896383583546 Accuracy:0.8125998377799988\n",
      "Epoch 47, CIFAR-10 Batch 5:  Cost:0.004275315906852484 Accuracy:0.8067998290061951\n",
      "Epoch 48, CIFAR-10 Batch 1:  Cost:0.007034169510006905 Accuracy:0.796599805355072\n",
      "Epoch 48, CIFAR-10 Batch 2:  Cost:0.009952743537724018 Accuracy:0.8011997938156128\n",
      "Epoch 48, CIFAR-10 Batch 3:  Cost:0.005798911675810814 Accuracy:0.8087998032569885\n",
      "Epoch 48, CIFAR-10 Batch 4:  Cost:0.022230777889490128 Accuracy:0.8077998161315918\n",
      "Epoch 48, CIFAR-10 Batch 5:  Cost:0.008053939789533615 Accuracy:0.806199848651886\n",
      "Epoch 49, CIFAR-10 Batch 1:  Cost:0.00411648117005825 Accuracy:0.8071998357772827\n",
      "Epoch 49, CIFAR-10 Batch 2:  Cost:0.011154416017234325 Accuracy:0.8031997680664062\n",
      "Epoch 49, CIFAR-10 Batch 3:  Cost:0.010134234093129635 Accuracy:0.8051998019218445\n",
      "Epoch 49, CIFAR-10 Batch 4:  Cost:0.022081606090068817 Accuracy:0.8073997497558594\n",
      "Epoch 49, CIFAR-10 Batch 5:  Cost:0.0043540773913264275 Accuracy:0.8101998567581177\n",
      "Epoch 50, CIFAR-10 Batch 1:  Cost:0.010975988581776619 Accuracy:0.8023998141288757\n",
      "Epoch 50, CIFAR-10 Batch 2:  Cost:0.008756820112466812 Accuracy:0.8015998005867004\n",
      "Epoch 50, CIFAR-10 Batch 3:  Cost:0.008622083812952042 Accuracy:0.8113998174667358\n",
      "Epoch 50, CIFAR-10 Batch 4:  Cost:0.007779510226100683 Accuracy:0.8033998608589172\n",
      "Epoch 50, CIFAR-10 Batch 5:  Cost:0.0035811131820082664 Accuracy:0.8043997883796692\n"
     ]
    }
   ],
   "source": [
    "\"\"\"\n",
    "DON'T MODIFY ANYTHING IN THIS CELL\n",
    "\"\"\"\n",
    "save_model_path = './image_classification'\n",
    "\n",
    "print('Training...')\n",
    "with tf.Session() as sess:\n",
    "    # Initializing the variables\n",
    "    sess.run(tf.global_variables_initializer())\n",
    "    \n",
    "    # Training cycle\n",
    "    for epoch in range(epochs):\n",
    "        # Loop over all batches\n",
    "        n_batches = 5\n",
    "        for batch_i in range(1, n_batches + 1):\n",
    "            for batch_features, batch_labels in helper.load_preprocess_training_batch(batch_i, batch_size):\n",
    "                train_neural_network(sess, optimizer, keep_probability, batch_features, batch_labels)\n",
    "            print('Epoch {:>2}, CIFAR-10 Batch {}:  '.format(epoch + 1, batch_i), end='')\n",
    "            print_stats(sess, batch_features, batch_labels, cost, accuracy)\n",
    "            \n",
    "    # Save Model\n",
    "    saver = tf.train.Saver()\n",
    "    save_path = saver.save(sess, save_model_path)"
   ]
  },
  {
   "cell_type": "markdown",
   "metadata": {},
   "source": [
    "# 检查点\n",
    "\n",
    "模型已保存到本地。\n",
    "\n",
    "## 测试模型\n",
    "\n",
    "利用测试数据集测试你的模型。这将是最终的准确率。你的准确率应该高于 50%。如果没达到，请继续调整模型结构和参数。"
   ]
  },
  {
   "cell_type": "code",
   "execution_count": 205,
   "metadata": {},
   "outputs": [
    {
     "name": "stdout",
     "output_type": "stream",
     "text": [
      "INFO:tensorflow:Restoring parameters from ./image_classification\n",
      "Testing Accuracy: 0.7946004746835443\n",
      "\n"
     ]
    },
    {
     "data": {
      "image/png": "[encoded data removed]",
      "text/plain": [
       "<matplotlib.figure.Figure at 0x7fe4024a3d68>"
      ]
     },
     "metadata": {
      "image/png": {
       "height": 319,
       "width": 355
      }
     },
     "output_type": "display_data"
    }
   ],
   "source": [
    "\"\"\"\n",
    "DON'T MODIFY ANYTHING IN THIS CELL\n",
    "\"\"\"\n",
    "%matplotlib inline\n",
    "%config InlineBackend.figure_format = 'retina'\n",
    "\n",
    "import tensorflow as tf\n",
    "import pickle\n",
    "import helper\n",
    "import random\n",
    "\n",
    "# Set batch size if not already set\n",
    "try:\n",
    "    if batch_size:\n",
    "        pass\n",
    "except NameError:\n",
    "    batch_size = 64\n",
    "\n",
    "save_model_path = './image_classification'\n",
    "n_samples = 4\n",
    "top_n_predictions = 3\n",
    "\n",
    "def test_model():\n",
    "    \"\"\"\n",
    "    Test the saved model against the test dataset\n",
    "    \"\"\"\n",
    "\n",
    "    test_features, test_labels = pickle.load(open('preprocess_test.p', mode='rb'))\n",
    "    loaded_graph = tf.Graph()\n",
    "\n",
    "    with tf.Session(graph=loaded_graph) as sess:\n",
    "        # Load model\n",
    "        loader = tf.train.import_meta_graph(save_model_path + '.meta')\n",
    "        loader.restore(sess, save_model_path)\n",
    "\n",
    "        # Get Tensors from loaded model\n",
    "        loaded_x = loaded_graph.get_tensor_by_name('x:0')\n",
    "        loaded_y = loaded_graph.get_tensor_by_name('y:0')\n",
    "        loaded_keep_prob = loaded_graph.get_tensor_by_name('keep_prob:0')\n",
    "        loaded_logits = loaded_graph.get_tensor_by_name('logits:0')\n",
    "        loaded_acc = loaded_graph.get_tensor_by_name('accuracy:0')\n",
    "        \n",
    "        # Get accuracy in batches for memory limitations\n",
    "        test_batch_acc_total = 0\n",
    "        test_batch_count = 0\n",
    "        \n",
    "        for test_feature_batch, test_label_batch in helper.batch_features_labels(test_features, test_labels, batch_size):\n",
    "            test_batch_acc_total += sess.run(\n",
    "                loaded_acc,\n",
    "                feed_dict={loaded_x: test_feature_batch, loaded_y: test_label_batch, loaded_keep_prob: 1.0})\n",
    "            test_batch_count += 1\n",
    "\n",
    "        print('Testing Accuracy: {}\\n'.format(test_batch_acc_total/test_batch_count))\n",
    "\n",
    "        # Print Random Samples\n",
    "        random_test_features, random_test_labels = tuple(zip(*random.sample(list(zip(test_features, test_labels)), n_samples)))\n",
    "        random_test_predictions = sess.run(\n",
    "            tf.nn.top_k(tf.nn.softmax(loaded_logits), top_n_predictions),\n",
    "            feed_dict={loaded_x: random_test_features, loaded_y: random_test_labels, loaded_keep_prob: 1.0})\n",
    "        helper.display_image_predictions(random_test_features, random_test_labels, random_test_predictions)\n",
    "\n",
    "\n",
    "test_model()"
   ]
  },
  {
   "cell_type": "markdown",
   "metadata": {},
   "source": [
    "## 为何准确率只有50-80%？\n",
    "\n",
    "你可能想问，为何准确率不能更高了？首先，对于简单的 CNN 网络来说，50% 已经不低了。纯粹猜测的准确率为10%。但是，你可能注意到有人的准确率[远远超过 80%](http://rodrigob.github.io/are_we_there_yet/build/classification_datasets_results.html#43494641522d3130)。这是因为我们还没有介绍所有的神经网络知识。我们还需要掌握一些其他技巧。\n",
    "\n",
    "## 提交项目\n",
    "\n",
    "提交项目时，确保先运行所有单元，然后再保存记事本。将 notebook 文件另存为“dlnd_image_classification.ipynb”，再在目录 \"File\" -> \"Download as\" 另存为 HTML 格式。请在提交的项目中包含 “helper.py” 和 “problem_unittests.py” 文件。\n"
   ]
  }
 ],
 "metadata": {
  "kernelspec": {
   "display_name": "Python 3",
   "language": "python",
   "name": "python3"
  },
  "language_info": {
   "codemirror_mode": {
    "name": "ipython",
    "version": 3
   },
   "file_extension": ".py",
   "mimetype": "text/x-python",
   "name": "python",
   "nbconvert_exporter": "python",
   "pygments_lexer": "ipython3",
   "version": "3.5.3"
  }
 },
 "nbformat": 4,
 "nbformat_minor": 1
}
