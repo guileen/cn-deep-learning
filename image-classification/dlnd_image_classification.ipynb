{
 "cells": [
  {
   "cell_type": "markdown",
   "metadata": {
    "collapsed": true
   },
   "source": [
    "# 图像分类\n",
    "\n",
    "在此项目中，你将对 [CIFAR-10 数据集](https://www.cs.toronto.edu/~kriz/cifar.html) 中的图片进行分类。该数据集包含飞机、猫狗和其他物体。你需要预处理这些图片，然后用所有样本训练一个卷积神经网络。图片需要标准化（normalized），标签需要采用 one-hot 编码。你需要应用所学的知识构建卷积的、最大池化（max pooling）、丢弃（dropout）和完全连接（fully connected）的层。最后，你需要在样本图片上看到神经网络的预测结果。\n",
    "\n",
    "\n",
    "## 获取数据\n",
    "\n",
    "请运行以下单元，以下载 [CIFAR-10 数据集（Python版）](https://www.cs.toronto.edu/~kriz/cifar-10-python.tar.gz)。\n"
   ]
  },
  {
   "cell_type": "code",
   "execution_count": 1,
   "metadata": {},
   "outputs": [
    {
     "name": "stdout",
     "output_type": "stream",
     "text": [
      "All files found!\n"
     ]
    }
   ],
   "source": [
    "\"\"\"\n",
    "DON'T MODIFY ANYTHING IN THIS CELL THAT IS BELOW THIS LINE\n",
    "\"\"\"\n",
    "from urllib.request import urlretrieve\n",
    "from os.path import isfile, isdir\n",
    "from tqdm import tqdm\n",
    "import problem_unittests as tests\n",
    "import tarfile\n",
    "\n",
    "cifar10_dataset_folder_path = 'cifar-10-batches-py'\n",
    "\n",
    "# Use Floyd's cifar-10 dataset if present\n",
    "floyd_cifar10_location = '/input/cifar-10/python.tar.gz'\n",
    "if isfile(floyd_cifar10_location):\n",
    "    tar_gz_path = floyd_cifar10_location\n",
    "else:\n",
    "    tar_gz_path = 'cifar-10-python.tar.gz'\n",
    "\n",
    "class DLProgress(tqdm):\n",
    "    last_block = 0\n",
    "\n",
    "    def hook(self, block_num=1, block_size=1, total_size=None):\n",
    "        self.total = total_size\n",
    "        self.update((block_num - self.last_block) * block_size)\n",
    "        self.last_block = block_num\n",
    "\n",
    "if not isfile(tar_gz_path):\n",
    "    with DLProgress(unit='B', unit_scale=True, miniters=1, desc='CIFAR-10 Dataset') as pbar:\n",
    "        urlretrieve(\n",
    "            'https://www.cs.toronto.edu/~kriz/cifar-10-python.tar.gz',\n",
    "            tar_gz_path,\n",
    "            pbar.hook)\n",
    "\n",
    "if not isdir(cifar10_dataset_folder_path):\n",
    "    with tarfile.open(tar_gz_path) as tar:\n",
    "        tar.extractall()\n",
    "        tar.close()\n",
    "\n",
    "\n",
    "tests.test_folder_path(cifar10_dataset_folder_path)"
   ]
  },
  {
   "cell_type": "markdown",
   "metadata": {},
   "source": [
    "## 探索数据\n",
    "\n",
    "该数据集分成了几部分／批次（batches），以免你的机器在计算时内存不足。CIFAR-10 数据集包含 5 个部分，名称分别为 `data_batch_1`、`data_batch_2`，以此类推。每个部分都包含以下某个类别的标签和图片：\n",
    "\n",
    "* 飞机\n",
    "* 汽车\n",
    "* 鸟类\n",
    "* 猫\n",
    "* 鹿\n",
    "* 狗\n",
    "* 青蛙\n",
    "* 马\n",
    "* 船只\n",
    "* 卡车\n",
    "\n",
    "了解数据集也是对数据进行预测的必经步骤。你可以通过更改 `batch_id` 和 `sample_id` 探索下面的代码单元。`batch_id` 是数据集一个部分的 ID（1 到 5）。`sample_id` 是该部分中图片和标签对（label pair）的 ID。\n",
    "\n",
    "问问你自己：“可能的标签有哪些？”、“图片数据的值范围是多少？”、“标签是按顺序排列，还是随机排列的？”。思考类似的问题，有助于你预处理数据，并使预测结果更准确。\n"
   ]
  },
  {
   "cell_type": "code",
   "execution_count": 2,
   "metadata": {},
   "outputs": [
    {
     "name": "stdout",
     "output_type": "stream",
     "text": [
      "\n",
      "Stats of batch 1:\n",
      "Samples: 10000\n",
      "Label Counts: {0: 1005, 1: 974, 2: 1032, 3: 1016, 4: 999, 5: 937, 6: 1030, 7: 1001, 8: 1025, 9: 981}\n",
      "First 20 Labels: [6, 9, 9, 4, 1, 1, 2, 7, 8, 3, 4, 7, 7, 2, 9, 9, 9, 3, 2, 6]\n",
      "\n",
      "Example of Image 5:\n",
      "Image - Min Value: 0 Max Value: 252\n",
      "Image - Shape: (32, 32, 3)\n",
      "Label - Label Id: 1 Name: automobile\n"
     ]
    },
    {
     "data": {
      "image/png": "[encoded data removed]",
      "text/plain": [
       "<matplotlib.figure.Figure at 0x7fc944417898>"
      ]
     },
     "metadata": {
      "image/png": {
       "height": 250,
       "width": 253
      }
     },
     "output_type": "display_data"
    }
   ],
   "source": [
    "%matplotlib inline\n",
    "%config InlineBackend.figure_format = 'retina'\n",
    "\n",
    "import helper\n",
    "import numpy as np\n",
    "\n",
    "# Explore the dataset\n",
    "batch_id = 1\n",
    "sample_id = 5\n",
    "helper.display_stats(cifar10_dataset_folder_path, batch_id, sample_id)"
   ]
  },
  {
   "cell_type": "markdown",
   "metadata": {},
   "source": [
    "## 实现预处理函数\n",
    "\n",
    "### 标准化\n",
    "\n",
    "在下面的单元中，实现 `normalize` 函数，传入图片数据 `x`，并返回标准化 Numpy 数组。值应该在 0 到 1 的范围内（含 0 和 1）。返回对象应该和 `x` 的形状一样。\n"
   ]
  },
  {
   "cell_type": "code",
   "execution_count": 3,
   "metadata": {},
   "outputs": [
    {
     "name": "stdout",
     "output_type": "stream",
     "text": [
      "Tests Passed\n"
     ]
    }
   ],
   "source": [
    "def normalize(x):\n",
    "    \"\"\"\n",
    "    Normalize a list of sample image data in the range of 0 to 1\n",
    "    : x: List of image data.  The image shape is (32, 32, 3)\n",
    "    : return: Numpy array of normalize data\n",
    "    \"\"\"\n",
    "    return x/255\n",
    "\n",
    "\"\"\"\n",
    "DON'T MODIFY ANYTHING IN THIS CELL THAT IS BELOW THIS LINE\n",
    "\"\"\"\n",
    "tests.test_normalize(normalize)"
   ]
  },
  {
   "cell_type": "markdown",
   "metadata": {},
   "source": [
    "### One-hot 编码\n",
    "\n",
    "和之前的代码单元一样，你将为预处理实现一个函数。这次，你将实现 `one_hot_encode` 函数。输入，也就是 `x`，是一个标签列表。实现该函数，以返回为 one_hot 编码的 Numpy 数组的标签列表。标签的可能值为 0 到 9。每次调用 `one_hot_encode` 时，对于每个值，one_hot 编码函数应该返回相同的编码。确保将编码映射保存到该函数外面。\n",
    "\n",
    "提示：不要重复发明轮子。\n"
   ]
  },
  {
   "cell_type": "code",
   "execution_count": 4,
   "metadata": {},
   "outputs": [
    {
     "name": "stdout",
     "output_type": "stream",
     "text": [
      "Tests Passed\n"
     ]
    }
   ],
   "source": [
    "def one_hot_encode(x):\n",
    "    \"\"\"\n",
    "    One hot encode a list of sample labels. Return a one-hot encoded vector for each label.\n",
    "    : x: List of sample Labels\n",
    "    : return: Numpy array of one-hot encoded labels\n",
    "    \"\"\"\n",
    "    return np.eye(10)[x]\n",
    "    # 也可以使用sklearn.preprocessing 下的 LabelBinarizer函数\n",
    "\n",
    "\"\"\"\n",
    "DON'T MODIFY ANYTHING IN THIS CELL THAT IS BELOW THIS LINE\n",
    "\"\"\"\n",
    "tests.test_one_hot_encode(one_hot_encode)"
   ]
  },
  {
   "cell_type": "markdown",
   "metadata": {},
   "source": [
    "### 随机化数据\n",
    "\n",
    "之前探索数据时，你已经了解到，样本的顺序是随机的。再随机化一次也不会有什么关系，但是对于这个数据集没有必要。\n"
   ]
  },
  {
   "cell_type": "markdown",
   "metadata": {},
   "source": [
    "## 预处理所有数据并保存\n",
    "\n",
    "运行下方的代码单元，将预处理所有 CIFAR-10 数据，并保存到文件中。下面的代码还使用了 10% 的训练数据，用来验证。\n"
   ]
  },
  {
   "cell_type": "code",
   "execution_count": 5,
   "metadata": {
    "collapsed": true
   },
   "outputs": [],
   "source": [
    "\"\"\"\n",
    "DON'T MODIFY ANYTHING IN THIS CELL\n",
    "\"\"\"\n",
    "# Preprocess Training, Validation, and Testing Data\n",
    "helper.preprocess_and_save_data(cifar10_dataset_folder_path, normalize, one_hot_encode)"
   ]
  },
  {
   "cell_type": "markdown",
   "metadata": {},
   "source": [
    "# 检查点\n",
    "\n",
    "这是你的第一个检查点。如果你什么时候决定再回到该记事本，或需要重新启动该记事本，你可以从这里开始。预处理的数据已保存到本地。\n"
   ]
  },
  {
   "cell_type": "code",
   "execution_count": 6,
   "metadata": {},
   "outputs": [],
   "source": [
    "\"\"\"\n",
    "DON'T MODIFY ANYTHING IN THIS CELL\n",
    "\"\"\"\n",
    "import pickle\n",
    "import problem_unittests as tests\n",
    "import helper\n",
    "\n",
    "# Load the Preprocessed Validation data\n",
    "valid_features, valid_labels = pickle.load(open('preprocess_validation.p', mode='rb'))"
   ]
  },
  {
   "cell_type": "markdown",
   "metadata": {},
   "source": [
    "## 构建网络\n",
    "\n",
    "对于该神经网络，你需要将每层都构建为一个函数。你看到的大部分代码都位于函数外面。要更全面地测试你的代码，我们需要你将每层放入一个函数中。这样使我们能够提供更好的反馈，并使用我们的统一测试检测简单的错误，然后再提交项目。\n",
    "\n",
    ">**注意**：如果你觉得每周很难抽出足够的时间学习这门课程，我们为此项目提供了一个小捷径。对于接下来的几个问题，你可以使用 [TensorFlow Layers](https://www.tensorflow.org/api_docs/python/tf/layers) 或 [TensorFlow Layers (contrib)](https://www.tensorflow.org/api_guides/python/contrib.layers) 程序包中的类来构建每个层级，但是“卷积和最大池化层级”部分的层级除外。TF Layers 和 Keras 及 TFLearn 层级类似，因此很容易学会。\n",
    "\n",
    ">但是，如果你想充分利用这门课程，请尝试自己解决所有问题，不使用 TF Layers 程序包中的任何类。你依然可以使用其他程序包中的类，这些类和你在 TF Layers 中的类名称是一样的！例如，你可以使用 TF Neural Network 版本的 `conv2d` 类 [tf.nn.conv2d](https://www.tensorflow.org/api_docs/python/tf/nn/conv2d)，而不是 TF Layers 版本的 `conv2d` 类 [tf.layers.conv2d](https://www.tensorflow.org/api_docs/python/tf/layers/conv2d)。\n",
    "\n",
    "我们开始吧！\n",
    "\n",
    "\n",
    "### 输入\n",
    "\n",
    "神经网络需要读取图片数据、one-hot 编码标签和丢弃保留概率（dropout keep probability）。请实现以下函数：\n",
    "\n",
    "* 实现 `neural_net_image_input`\n",
    " * 返回 [TF Placeholder](https://www.tensorflow.org/api_docs/python/tf/placeholder)\n",
    " * 使用 `image_shape` 设置形状，部分大小设为 `None`\n",
    " * 使用 [TF Placeholder](https://www.tensorflow.org/api_docs/python/tf/placeholder) 中的 TensorFlow `name` 参数对 TensorFlow 占位符 \"x\" 命名\n",
    "* 实现 `neural_net_label_input`\n",
    " * 返回 [TF Placeholder](https://www.tensorflow.org/api_docs/python/tf/placeholder)\n",
    " * 使用 `n_classes` 设置形状，部分大小设为 `None`\n",
    " * 使用 [TF Placeholder](https://www.tensorflow.org/api_docs/python/tf/placeholder) 中的 TensorFlow `name` 参数对 TensorFlow 占位符 \"y\" 命名\n",
    "* 实现 `neural_net_keep_prob_input`\n",
    " * 返回 [TF Placeholder](https://www.tensorflow.org/api_docs/python/tf/placeholder)，用于丢弃保留概率\n",
    " * 使用 [TF Placeholder](https://www.tensorflow.org/api_docs/python/tf/placeholder) 中的 TensorFlow `name` 参数对 TensorFlow 占位符 \"keep_prob\" 命名\n",
    "\n",
    "这些名称将在项目结束时，用于加载保存的模型。\n",
    "\n",
    "注意：TensorFlow 中的 `None` 表示形状可以是动态大小。"
   ]
  },
  {
   "cell_type": "code",
   "execution_count": 7,
   "metadata": {},
   "outputs": [
    {
     "name": "stdout",
     "output_type": "stream",
     "text": [
      "Image Input Tests Passed.\n",
      "Label Input Tests Passed.\n",
      "Keep Prob Tests Passed.\n"
     ]
    }
   ],
   "source": [
    "import tensorflow as tf\n",
    "\n",
    "def neural_net_image_input(image_shape):\n",
    "    \"\"\"\n",
    "    Return a Tensor for a batch of image input\n",
    "    : image_shape: Shape of the images\n",
    "    : return: Tensor for image input.\n",
    "    \"\"\"\n",
    "    # TODO: Implement Function\n",
    "    return tf.placeholder(tf.float32, (None, *image_shape), name='x')\n",
    "\n",
    "\n",
    "def neural_net_label_input(n_classes):\n",
    "    \"\"\"\n",
    "    Return a Tensor for a batch of label input\n",
    "    : n_classes: Number of classes\n",
    "    : return: Tensor for label input.\n",
    "    \"\"\"\n",
    "    # TODO: Implement Function\n",
    "    return tf.placeholder(tf.float32, (None, n_classes), name='y')\n",
    "\n",
    "\n",
    "def neural_net_keep_prob_input():\n",
    "    \"\"\"\n",
    "    Return a Tensor for keep probability\n",
    "    : return: Tensor for keep probability.\n",
    "    \"\"\"\n",
    "    # TODO: Implement Function\n",
    "    return tf.placeholder(tf.float32, name='keep_prob')\n",
    "\n",
    "\n",
    "\"\"\"\n",
    "DON'T MODIFY ANYTHING IN THIS CELL THAT IS BELOW THIS LINE\n",
    "\"\"\"\n",
    "tf.reset_default_graph()\n",
    "tests.test_nn_image_inputs(neural_net_image_input)\n",
    "tests.test_nn_label_inputs(neural_net_label_input)\n",
    "tests.test_nn_keep_prob_inputs(neural_net_keep_prob_input)"
   ]
  },
  {
   "cell_type": "markdown",
   "metadata": {},
   "source": [
    "### 卷积和最大池化层\n",
    "\n",
    "卷积层级适合处理图片。对于此代码单元，你应该实现函数 `conv2d_maxpool` 以便应用卷积然后进行最大池化：\n",
    "\n",
    "* 使用 `conv_ksize`、`conv_num_outputs` 和 `x_tensor` 的形状创建权重（weight）和偏置（bias）。\n",
    "* 使用权重和 `conv_strides` 对 `x_tensor` 应用卷积。\n",
    " * 建议使用我们建议的间距（padding），当然也可以使用任何其他间距。\n",
    "* 添加偏置\n",
    "* 向卷积中添加非线性激活（nonlinear activation）\n",
    "* 使用 `pool_ksize` 和 `pool_strides` 应用最大池化\n",
    " * 建议使用我们建议的间距（padding），当然也可以使用任何其他间距。\n",
    "\n",
    "**注意**：对于**此层**，**请勿使用** [TensorFlow Layers](https://www.tensorflow.org/api_docs/python/tf/layers) 或 [TensorFlow Layers (contrib)](https://www.tensorflow.org/api_guides/python/contrib.layers)，但是仍然可以使用 TensorFlow 的 [Neural Network](https://www.tensorflow.org/api_docs/python/tf/nn) 包。对于所有**其他层**，你依然可以使用快捷方法。\n"
   ]
  },
  {
   "cell_type": "code",
   "execution_count": 8,
   "metadata": {},
   "outputs": [
    {
     "name": "stdout",
     "output_type": "stream",
     "text": [
      "Tests Passed\n"
     ]
    }
   ],
   "source": [
    "def conv2d_maxpool(x_tensor, conv_num_outputs, conv_ksize, conv_strides, pool_ksize, pool_strides):\n",
    "    \"\"\"\n",
    "    Apply convolution then max pooling to x_tensor\n",
    "    :param x_tensor: TensorFlow Tensor\n",
    "    :param conv_num_outputs: Number of outputs for the convolutional layer\n",
    "    :param conv_ksize: kernal size 2-D Tuple for the convolutional layer\n",
    "    :param conv_strides: Stride 2-D Tuple for convolution\n",
    "    :param pool_ksize: kernal size 2-D Tuple for pool\n",
    "    :param pool_strides: Stride 2-D Tuple for pool\n",
    "    : return: A tensor that represents convolution and max pooling of x_tensor\n",
    "    \"\"\"\n",
    "    # TODO: Implement Function\n",
    "    weights = tf.Variable(tf.truncated_normal([conv_ksize[0], conv_ksize[1], int(x_tensor.shape[3]), conv_num_outputs], stddev=0.1))\n",
    "    biases = tf.Variable(tf.zeros(conv_num_outputs))\n",
    "    layer = tf.nn.conv2d(x_tensor, weights, (1, conv_strides[0], conv_strides[1], 1), padding='SAME')\n",
    "    layer = tf.nn.bias_add(layer, biases)\n",
    "    layer = tf.nn.relu(layer)\n",
    "    return tf.nn.max_pool(layer, (1, pool_ksize[0], pool_ksize[1], 1), (1, pool_strides[0], pool_strides[1], 1), 'SAME')\n",
    "\n",
    "\n",
    "\"\"\"\n",
    "DON'T MODIFY ANYTHING IN THIS CELL THAT IS BELOW THIS LINE\n",
    "\"\"\"\n",
    "tests.test_con_pool(conv2d_maxpool)"
   ]
  },
  {
   "cell_type": "markdown",
   "metadata": {},
   "source": [
    "### 扁平化层\n",
    "\n",
    "实现 `flatten` 函数，将 `x_tensor` 的维度从四维张量（4-D tensor）变成二维张量。输出应该是形状（*部分大小（Batch Size）*，*扁平化图片大小（Flattened Image Size）*）。快捷方法：对于此层，你可以使用 [TensorFlow Layers](https://www.tensorflow.org/api_docs/python/tf/layers) 或 [TensorFlow Layers (contrib)](https://www.tensorflow.org/api_guides/python/contrib.layers) 包中的类。如果你想要更大挑战，可以仅使用其他 TensorFlow 程序包。\n"
   ]
  },
  {
   "cell_type": "code",
   "execution_count": 9,
   "metadata": {},
   "outputs": [
    {
     "name": "stdout",
     "output_type": "stream",
     "text": [
      "Tests Passed\n"
     ]
    }
   ],
   "source": [
    "def flatten(x_tensor):\n",
    "    \"\"\"\n",
    "    Flatten x_tensor to (Batch Size, Flattened Image Size)\n",
    "    : x_tensor: A tensor of size (Batch Size, ...), where ... are the image dimensions.\n",
    "    : return: A tensor of size (Batch Size, Flattened Image Size).\n",
    "    \"\"\"\n",
    "    # TODO: Implement Function\n",
    "    # weird, below code note pass\n",
    "    shape = x_tensor.shape.as_list()\n",
    "    s = np.prod(shape[1:])\n",
    "    return tf.reshape(x_tensor, (-1, s))\n",
    "\n",
    "\n",
    "\"\"\"\n",
    "DON'T MODIFY ANYTHING IN THIS CELL THAT IS BELOW THIS LINE\n",
    "\"\"\"\n",
    "tests.test_flatten(flatten)"
   ]
  },
  {
   "cell_type": "markdown",
   "metadata": {},
   "source": [
    "### 全连接层\n",
    "\n",
    "实现 `fully_conn` 函数，以向 `x_tensor` 应用完全连接的层级，形状为（*部分大小（Batch Size）*，*num_outputs*）。快捷方法：对于此层，你可以使用 [TensorFlow Layers](https://www.tensorflow.org/api_docs/python/tf/layers) 或 [TensorFlow Layers (contrib)](https://www.tensorflow.org/api_guides/python/contrib.layers) 包中的类。如果你想要更大挑战，可以仅使用其他 TensorFlow 程序包。"
   ]
  },
  {
   "cell_type": "code",
   "execution_count": 10,
   "metadata": {},
   "outputs": [
    {
     "name": "stdout",
     "output_type": "stream",
     "text": [
      "Tests Passed\n"
     ]
    }
   ],
   "source": [
    "def fully_conn(x_tensor, num_outputs):\n",
    "    \"\"\"\n",
    "    Apply a fully connected layer to x_tensor using weight and bias\n",
    "    : x_tensor: A 2-D tensor where the first dimension is batch size.\n",
    "    : num_outputs: The number of output that the new tensor should be.\n",
    "    : return: A 2-D tensor where the second dimension is num_outputs.\n",
    "    \"\"\"\n",
    "    # TODO: Implement Function\n",
    "    #return tf.layers.dense(x_tensor, num_outputs, activation=tf.nn.relu)\n",
    "    \n",
    "    # Weights & bias\n",
    "    weights = tf.Variable(tf.truncated_normal([int(x_tensor.shape[1]), num_outputs], stddev=0.1))\n",
    "    bias = tf.Variable(tf.zeros(num_outputs))\n",
    "\n",
    "    # Logits - xW + b\n",
    "    logits = tf.add(tf.matmul(x_tensor, weights), bias)\n",
    "    return tf.nn.relu(logits)\n",
    "\n",
    "\n",
    "\n",
    "\"\"\"\n",
    "DON'T MODIFY ANYTHING IN THIS CELL THAT IS BELOW THIS LINE\n",
    "\"\"\"\n",
    "tests.test_fully_conn(fully_conn)"
   ]
  },
  {
   "cell_type": "markdown",
   "metadata": {},
   "source": [
    "### 输出层\n",
    "\n",
    "实现 `output` 函数，向 x_tensor 应用完全连接的层级，形状为（*部分大小（Batch Size）*，*num_outputs*）。快捷方法：对于此层，你可以使用 [TensorFlow Layers](https://www.tensorflow.org/api_docs/python/tf/layers) 或 [TensorFlow Layers (contrib)](https://www.tensorflow.org/api_guides/python/contrib.layers) 包中的类。如果你想要更大挑战，可以仅使用其他 TensorFlow 程序包。\n",
    "\n",
    "**注意**：该层级不应应用 Activation、softmax 或交叉熵（cross entropy）。"
   ]
  },
  {
   "cell_type": "code",
   "execution_count": 11,
   "metadata": {},
   "outputs": [
    {
     "name": "stdout",
     "output_type": "stream",
     "text": [
      "Tests Passed\n"
     ]
    }
   ],
   "source": [
    "def output(x_tensor, num_outputs):\n",
    "    \"\"\"\n",
    "    Apply a output layer to x_tensor using weight and bias\n",
    "    : x_tensor: A 2-D tensor where the first dimension is batch size.\n",
    "    : num_outputs: The number of output that the new tensor should be.\n",
    "    : return: A 2-D tensor where the second dimension is num_outputs.\n",
    "    \"\"\"\n",
    "    # TODO: Implement Function\n",
    "    #return tf.layers.dense(x_tensor, num_outputs)\n",
    "    \n",
    "    # Weights & bias\n",
    "    weights = tf.Variable(tf.truncated_normal([int(x_tensor.shape[1]), num_outputs], stddev=0.2))\n",
    "    bias = tf.Variable(tf.zeros(num_outputs))\n",
    "\n",
    "    # Logits - xW + b\n",
    "    logits = tf.add(tf.matmul(x_tensor, weights), bias)\n",
    "    return logits\n",
    "\n",
    "\n",
    "\"\"\"\n",
    "DON'T MODIFY ANYTHING IN THIS CELL THAT IS BELOW THIS LINE\n",
    "\"\"\"\n",
    "tests.test_output(output)"
   ]
  },
  {
   "cell_type": "markdown",
   "metadata": {},
   "source": [
    "### 创建卷积模型\n",
    "\n",
    "实现函数 `conv_net`， 创建卷积神经网络模型。该函数传入一批图片 `x`，并输出对数（logits）。使用你在上方创建的层创建此模型：\n",
    "\n",
    "* 应用 1、2 或 3 个卷积和最大池化层（Convolution and Max Pool layers）\n",
    "* 应用一个扁平层（Flatten Layer）\n",
    "* 应用 1、2 或 3 个完全连接层（Fully Connected Layers）\n",
    "* 应用一个输出层（Output Layer）\n",
    "* 返回输出\n",
    "* 使用 `keep_prob` 向模型中的一个或多个层应用 [TensorFlow 的 Dropout](https://www.tensorflow.org/api_docs/python/tf/nn/dropout)"
   ]
  },
  {
   "cell_type": "code",
   "execution_count": 12,
   "metadata": {},
   "outputs": [
    {
     "name": "stdout",
     "output_type": "stream",
     "text": [
      "Neural Network Built!\n"
     ]
    }
   ],
   "source": [
    "def conv_net(x, keep_prob):\n",
    "    \"\"\"\n",
    "    Create a convolutional neural network model\n",
    "    : x: Placeholder tensor that holds image data.\n",
    "    : keep_prob: Placeholder tensor that hold dropout keep probability.\n",
    "    : return: Tensor that represents logits\n",
    "    \"\"\"\n",
    "    # TODO: Apply 1, 2, or 3 Convolution and Max Pool layers\n",
    "    #    Play around with different number of outputs, kernel size and stride\n",
    "    # Function Definition from Above:\n",
    "    #    conv2d_maxpool(x_tensor, conv_num_outputs, conv_ksize, conv_strides, pool_ksize, pool_strides)\n",
    "    #32x32x3\n",
    "    conv = conv2d_maxpool(x, 32, (3, 3), (1, 1), (2, 2), (2, 2))\n",
    "    conv = tf.nn.dropout(conv, keep_prob)\n",
    "    #16x16x16\n",
    "    conv = conv2d_maxpool(conv, 128, (3, 3), (1, 1), (2, 2), (2, 2))\n",
    "    conv = tf.nn.dropout(conv, keep_prob)\n",
    "    #8x8x64\n",
    "    conv = conv2d_maxpool(conv, 256, (3, 3), (1, 1), (2, 2), (2, 2))\n",
    "    conv = tf.nn.dropout(conv, keep_prob)\n",
    "    #4x4x128\n",
    "    \n",
    "    # TODO: Apply a Flatten Layer\n",
    "    # Function Definition from Above:\n",
    "    #   flatten(x_tensor)\n",
    "    fc = flatten(conv)\n",
    "    fc = tf.nn.dropout(fc, keep_prob)\n",
    "\n",
    "    # TODO: Apply 1, 2, or 3 Fully Connected Layers\n",
    "    #    Play around with different number of outputs\n",
    "    # Function Definition from Above:\n",
    "    #   fully_conn(x_tensor, num_outputs)\n",
    "    fc = fully_conn(fc, 128)\n",
    "    fc = tf.nn.dropout(fc, keep_prob)\n",
    "    #fc = fully_conn(fc, 64)\n",
    "    #fc = fully_conn(fc, 32)\n",
    "    \n",
    "    # TODO: Apply an Output Layer\n",
    "    #    Set this to the number of classes\n",
    "    # Function Definition from Above:\n",
    "    #   output(x_tensor, num_outputs)\n",
    "    logits = output(fc, 10)\n",
    "    \n",
    "    # TODO: return output\n",
    "    return logits\n",
    "\n",
    "\n",
    "\"\"\"\n",
    "DON'T MODIFY ANYTHING IN THIS CELL THAT IS BELOW THIS LINE\n",
    "\"\"\"\n",
    "\n",
    "##############################\n",
    "## Build the Neural Network ##\n",
    "##############################\n",
    "\n",
    "# Remove previous weights, bias, inputs, etc..\n",
    "tf.reset_default_graph()\n",
    "\n",
    "# Inputs\n",
    "x = neural_net_image_input((32, 32, 3))\n",
    "y = neural_net_label_input(10)\n",
    "keep_prob = neural_net_keep_prob_input()\n",
    "\n",
    "# Model\n",
    "logits = conv_net(x, keep_prob)\n",
    "\n",
    "# Name logits Tensor, so that is can be loaded from disk after training\n",
    "logits = tf.identity(logits, name='logits')\n",
    "\n",
    "# Loss and Optimizer\n",
    "cost = tf.reduce_mean(tf.nn.softmax_cross_entropy_with_logits(logits=logits, labels=y))\n",
    "optimizer = tf.train.AdamOptimizer().minimize(cost)\n",
    "\n",
    "# Accuracy\n",
    "correct_pred = tf.equal(tf.argmax(logits, 1), tf.argmax(y, 1))\n",
    "accuracy = tf.reduce_mean(tf.cast(correct_pred, tf.float32), name='accuracy')\n",
    "\n",
    "tests.test_conv_net(conv_net)"
   ]
  },
  {
   "cell_type": "markdown",
   "metadata": {},
   "source": [
    "## 训练神经网络\n",
    "\n",
    "### 单次优化\n",
    "\n",
    "实现函数 `train_neural_network` 以进行单次优化（single optimization）。该优化应该使用 `optimizer` 优化 `session`，其中 `feed_dict` 具有以下参数：\n",
    "\n",
    "* `x` 表示图片输入\n",
    "* `y` 表示标签\n",
    "* `keep_prob` 表示丢弃的保留率\n",
    "\n",
    "每个部分都会调用该函数，所以 `tf.global_variables_initializer()` 已经被调用。\n",
    "\n",
    "注意：不需要返回任何内容。该函数只是用来优化神经网络。\n"
   ]
  },
  {
   "cell_type": "code",
   "execution_count": 13,
   "metadata": {},
   "outputs": [
    {
     "name": "stdout",
     "output_type": "stream",
     "text": [
      "Tests Passed\n"
     ]
    }
   ],
   "source": [
    "def train_neural_network(session, optimizer, keep_probability, feature_batch, label_batch):\n",
    "    \"\"\"\n",
    "    Optimize the session on a batch of images and labels\n",
    "    : session: Current TensorFlow session\n",
    "    : optimizer: TensorFlow optimizer function\n",
    "    : keep_probability: keep probability\n",
    "    : feature_batch: Batch of Numpy image data\n",
    "    : label_batch: Batch of Numpy label data\n",
    "    \"\"\"\n",
    "    # TODO: Implement Function\n",
    "    session.run(optimizer, feed_dict={x: feature_batch, y: label_batch, keep_prob: keep_probability})\n",
    "\n",
    "\n",
    "\"\"\"\n",
    "DON'T MODIFY ANYTHING IN THIS CELL THAT IS BELOW THIS LINE\n",
    "\"\"\"\n",
    "tests.test_train_nn(train_neural_network)"
   ]
  },
  {
   "cell_type": "markdown",
   "metadata": {},
   "source": [
    "### 显示数据\n",
    "\n",
    "实现函数 `print_stats` 以输出损失和验证准确率。使用全局变量 `valid_features` 和 `valid_labels` 计算验证准确率。使用保留率 `1.0` 计算损失和验证准确率（loss and validation accuracy）。\n"
   ]
  },
  {
   "cell_type": "code",
   "execution_count": 14,
   "metadata": {
    "collapsed": true
   },
   "outputs": [],
   "source": [
    "def print_stats(session, feature_batch, label_batch, cost, accuracy):\n",
    "    \"\"\"\n",
    "    Print information about loss and validation accuracy\n",
    "    : session: Current TensorFlow session\n",
    "    : feature_batch: Batch of Numpy image data\n",
    "    : label_batch: Batch of Numpy label data\n",
    "    : cost: TensorFlow cost function\n",
    "    : accuracy: TensorFlow accuracy function\n",
    "    \"\"\"\n",
    "    # TODO: Implement Function\n",
    "    c = session.run(cost, feed_dict={\n",
    "            x: feature_batch,\n",
    "            y: label_batch,\n",
    "            keep_prob: 1.0\n",
    "        })\n",
    "    acc = session.run(accuracy, feed_dict={\n",
    "            x: valid_features,\n",
    "            y: valid_labels,\n",
    "            keep_prob: 1.0\n",
    "        })\n",
    "    print('Cost:{} Accuracy:{}'.format(c, acc))"
   ]
  },
  {
   "cell_type": "markdown",
   "metadata": {},
   "source": [
    "### 超参数\n",
    "\n",
    "调试以下超参数：\n",
    "* 设置 `epochs` 表示神经网络停止学习或开始过拟合的迭代次数\n",
    "* 设置 `batch_size`，表示机器内存允许的部分最大体积。大部分人设为以下常见内存大小：\n",
    "\n",
    " * 64\n",
    " * 128\n",
    " * 256\n",
    " * ...\n",
    "* 设置 `keep_probability` 表示使用丢弃时保留节点的概率"
   ]
  },
  {
   "cell_type": "code",
   "execution_count": 15,
   "metadata": {
    "collapsed": true
   },
   "outputs": [],
   "source": [
    "# TODO: Tune Parameters\n",
    "epochs = 50\n",
    "batch_size = 128\n",
    "keep_probability = 0.8"
   ]
  },
  {
   "cell_type": "markdown",
   "metadata": {},
   "source": [
    "### 在单个 CIFAR-10 部分上训练\n",
    "\n",
    "我们先用单个部分，而不是用所有的 CIFAR-10 批次训练神经网络。这样可以节省时间，并对模型进行迭代，以提高准确率。最终验证准确率达到 50% 或以上之后，在下一部分对所有数据运行模型。\n"
   ]
  },
  {
   "cell_type": "code",
   "execution_count": 16,
   "metadata": {},
   "outputs": [
    {
     "name": "stdout",
     "output_type": "stream",
     "text": [
      "Checking the Training on a Single Batch...\n",
      "Epoch  1, CIFAR-10 Batch 1:  Cost:2.257035732269287 Accuracy:0.1802000105381012\n",
      "Epoch  2, CIFAR-10 Batch 1:  Cost:2.171743869781494 Accuracy:0.22939999401569366\n",
      "Epoch  3, CIFAR-10 Batch 1:  Cost:1.9312729835510254 Accuracy:0.3555999994277954\n",
      "Epoch  4, CIFAR-10 Batch 1:  Cost:1.8285160064697266 Accuracy:0.4015999734401703\n",
      "Epoch  5, CIFAR-10 Batch 1:  Cost:1.6957956552505493 Accuracy:0.4281999468803406\n",
      "Epoch  6, CIFAR-10 Batch 1:  Cost:1.6269668340682983 Accuracy:0.47099995613098145\n",
      "Epoch  7, CIFAR-10 Batch 1:  Cost:1.4684813022613525 Accuracy:0.48959997296333313\n",
      "Epoch  8, CIFAR-10 Batch 1:  Cost:1.4061188697814941 Accuracy:0.5125999450683594\n",
      "Epoch  9, CIFAR-10 Batch 1:  Cost:1.3163416385650635 Accuracy:0.5209999680519104\n",
      "Epoch 10, CIFAR-10 Batch 1:  Cost:1.1906291246414185 Accuracy:0.5461999177932739\n",
      "Epoch 11, CIFAR-10 Batch 1:  Cost:1.1558492183685303 Accuracy:0.5505999326705933\n",
      "Epoch 12, CIFAR-10 Batch 1:  Cost:1.0258556604385376 Accuracy:0.5625999569892883\n",
      "Epoch 13, CIFAR-10 Batch 1:  Cost:1.0275135040283203 Accuracy:0.5749999284744263\n",
      "Epoch 14, CIFAR-10 Batch 1:  Cost:0.9566760063171387 Accuracy:0.5865999460220337\n",
      "Epoch 15, CIFAR-10 Batch 1:  Cost:0.8677068948745728 Accuracy:0.5895999670028687\n",
      "Epoch 16, CIFAR-10 Batch 1:  Cost:0.79423987865448 Accuracy:0.5995999574661255\n",
      "Epoch 17, CIFAR-10 Batch 1:  Cost:0.7475257515907288 Accuracy:0.6023998856544495\n",
      "Epoch 18, CIFAR-10 Batch 1:  Cost:0.6861879825592041 Accuracy:0.6067999005317688\n",
      "Epoch 19, CIFAR-10 Batch 1:  Cost:0.6915061473846436 Accuracy:0.6051998734474182\n",
      "Epoch 20, CIFAR-10 Batch 1:  Cost:0.6402820944786072 Accuracy:0.6189998984336853\n",
      "Epoch 21, CIFAR-10 Batch 1:  Cost:0.6424227952957153 Accuracy:0.6073999404907227\n",
      "Epoch 22, CIFAR-10 Batch 1:  Cost:0.5387944579124451 Accuracy:0.6189998984336853\n",
      "Epoch 23, CIFAR-10 Batch 1:  Cost:0.4904026389122009 Accuracy:0.6335998773574829\n",
      "Epoch 24, CIFAR-10 Batch 1:  Cost:0.4717507064342499 Accuracy:0.6445998549461365\n",
      "Epoch 25, CIFAR-10 Batch 1:  Cost:0.40484297275543213 Accuracy:0.6395999193191528\n",
      "Epoch 26, CIFAR-10 Batch 1:  Cost:0.402107298374176 Accuracy:0.6307998895645142\n",
      "Epoch 27, CIFAR-10 Batch 1:  Cost:0.33699682354927063 Accuracy:0.6317999362945557\n",
      "Epoch 28, CIFAR-10 Batch 1:  Cost:0.3245566487312317 Accuracy:0.6517999172210693\n",
      "Epoch 29, CIFAR-10 Batch 1:  Cost:0.30847999453544617 Accuracy:0.6453998684883118\n",
      "Epoch 30, CIFAR-10 Batch 1:  Cost:0.28012925386428833 Accuracy:0.6469998955726624\n",
      "Epoch 31, CIFAR-10 Batch 1:  Cost:0.23751087486743927 Accuracy:0.6483998894691467\n",
      "Epoch 32, CIFAR-10 Batch 1:  Cost:0.26261645555496216 Accuracy:0.6479998230934143\n",
      "Epoch 33, CIFAR-10 Batch 1:  Cost:0.23293055593967438 Accuracy:0.6445999145507812\n",
      "Epoch 34, CIFAR-10 Batch 1:  Cost:0.20758724212646484 Accuracy:0.6597998738288879\n",
      "Epoch 35, CIFAR-10 Batch 1:  Cost:0.1774766445159912 Accuracy:0.6607998609542847\n",
      "Epoch 36, CIFAR-10 Batch 1:  Cost:0.1357978731393814 Accuracy:0.6589998602867126\n",
      "Epoch 37, CIFAR-10 Batch 1:  Cost:0.09805674850940704 Accuracy:0.6599999070167542\n",
      "Epoch 38, CIFAR-10 Batch 1:  Cost:0.13166093826293945 Accuracy:0.6521998643875122\n",
      "Epoch 39, CIFAR-10 Batch 1:  Cost:0.08483798056840897 Accuracy:0.6617999076843262\n",
      "Epoch 40, CIFAR-10 Batch 1:  Cost:0.12088284641504288 Accuracy:0.6561998724937439\n",
      "Epoch 41, CIFAR-10 Batch 1:  Cost:0.06572069227695465 Accuracy:0.6555998921394348\n",
      "Epoch 42, CIFAR-10 Batch 1:  Cost:0.07367922365665436 Accuracy:0.6697999238967896\n",
      "Epoch 43, CIFAR-10 Batch 1:  Cost:0.06556561589241028 Accuracy:0.6701998710632324\n",
      "Epoch 44, CIFAR-10 Batch 1:  Cost:0.04290465638041496 Accuracy:0.6781999468803406\n",
      "Epoch 45, CIFAR-10 Batch 1:  Cost:0.04510883241891861 Accuracy:0.6723998785018921\n",
      "Epoch 46, CIFAR-10 Batch 1:  Cost:0.04023781046271324 Accuracy:0.6765998601913452\n",
      "Epoch 47, CIFAR-10 Batch 1:  Cost:0.046848248690366745 Accuracy:0.6725998520851135\n",
      "Epoch 48, CIFAR-10 Batch 1:  Cost:0.038976967334747314 Accuracy:0.6725999116897583\n",
      "Epoch 49, CIFAR-10 Batch 1:  Cost:0.028776375576853752 Accuracy:0.6719998717308044\n",
      "Epoch 50, CIFAR-10 Batch 1:  Cost:0.024090509861707687 Accuracy:0.6715999245643616\n"
     ]
    }
   ],
   "source": [
    "\"\"\"\n",
    "DON'T MODIFY ANYTHING IN THIS CELL\n",
    "\"\"\"\n",
    "print('Checking the Training on a Single Batch...')\n",
    "with tf.Session() as sess:\n",
    "    # Initializing the variables\n",
    "    sess.run(tf.global_variables_initializer())\n",
    "    \n",
    "    # Training cycle\n",
    "    for epoch in range(epochs):\n",
    "        batch_i = 1\n",
    "        for batch_features, batch_labels in helper.load_preprocess_training_batch(batch_i, batch_size):\n",
    "            train_neural_network(sess, optimizer, keep_probability, batch_features, batch_labels)\n",
    "        print('Epoch {:>2}, CIFAR-10 Batch {}:  '.format(epoch + 1, batch_i), end='')\n",
    "        print_stats(sess, batch_features, batch_labels, cost, accuracy)"
   ]
  },
  {
   "cell_type": "markdown",
   "metadata": {},
   "source": [
    "### 完全训练模型\n",
    "\n",
    "现在，单个 CIFAR-10 部分的准确率已经不错了，试试所有五个部分吧。"
   ]
  },
  {
   "cell_type": "code",
   "execution_count": 17,
   "metadata": {},
   "outputs": [
    {
     "name": "stdout",
     "output_type": "stream",
     "text": [
      "Training...\n",
      "Epoch  1, CIFAR-10 Batch 1:  Cost:2.243084192276001 Accuracy:0.1791999787092209\n",
      "Epoch  1, CIFAR-10 Batch 2:  Cost:2.0538182258605957 Accuracy:0.2611999809741974\n",
      "Epoch  1, CIFAR-10 Batch 3:  Cost:1.9007384777069092 Accuracy:0.3402000069618225\n",
      "Epoch  1, CIFAR-10 Batch 4:  Cost:1.7082736492156982 Accuracy:0.40599995851516724\n",
      "Epoch  1, CIFAR-10 Batch 5:  Cost:1.585930347442627 Accuracy:0.43939995765686035\n",
      "Epoch  2, CIFAR-10 Batch 1:  Cost:1.7466466426849365 Accuracy:0.44979995489120483\n",
      "Epoch  2, CIFAR-10 Batch 2:  Cost:1.4363725185394287 Accuracy:0.464199960231781\n",
      "Epoch  2, CIFAR-10 Batch 3:  Cost:1.3138129711151123 Accuracy:0.4955999553203583\n",
      "Epoch  2, CIFAR-10 Batch 4:  Cost:1.4311072826385498 Accuracy:0.5183999538421631\n",
      "Epoch  2, CIFAR-10 Batch 5:  Cost:1.3181252479553223 Accuracy:0.5247999429702759\n",
      "Epoch  3, CIFAR-10 Batch 1:  Cost:1.347939133644104 Accuracy:0.5493999123573303\n",
      "Epoch  3, CIFAR-10 Batch 2:  Cost:1.24359130859375 Accuracy:0.5453999638557434\n",
      "Epoch  3, CIFAR-10 Batch 3:  Cost:1.0808424949645996 Accuracy:0.5575999021530151\n",
      "Epoch  3, CIFAR-10 Batch 4:  Cost:1.1479915380477905 Accuracy:0.5745999217033386\n",
      "Epoch  3, CIFAR-10 Batch 5:  Cost:1.241931676864624 Accuracy:0.5823999047279358\n",
      "Epoch  4, CIFAR-10 Batch 1:  Cost:1.1319879293441772 Accuracy:0.5909999012947083\n",
      "Epoch  4, CIFAR-10 Batch 2:  Cost:1.0919506549835205 Accuracy:0.5983998775482178\n",
      "Epoch  4, CIFAR-10 Batch 3:  Cost:0.8916070461273193 Accuracy:0.5971998572349548\n",
      "Epoch  4, CIFAR-10 Batch 4:  Cost:1.003521203994751 Accuracy:0.622999906539917\n",
      "Epoch  4, CIFAR-10 Batch 5:  Cost:1.0195249319076538 Accuracy:0.6183999180793762\n",
      "Epoch  5, CIFAR-10 Batch 1:  Cost:0.9039458632469177 Accuracy:0.6321998834609985\n",
      "Epoch  5, CIFAR-10 Batch 2:  Cost:1.0188913345336914 Accuracy:0.644399881362915\n",
      "Epoch  5, CIFAR-10 Batch 3:  Cost:0.7013487219810486 Accuracy:0.6503998637199402\n",
      "Epoch  5, CIFAR-10 Batch 4:  Cost:0.8347246050834656 Accuracy:0.6527999043464661\n",
      "Epoch  5, CIFAR-10 Batch 5:  Cost:0.832892894744873 Accuracy:0.653999924659729\n",
      "Epoch  6, CIFAR-10 Batch 1:  Cost:0.8368414044380188 Accuracy:0.6631998419761658\n",
      "Epoch  6, CIFAR-10 Batch 2:  Cost:0.9088279604911804 Accuracy:0.6613999009132385\n",
      "Epoch  6, CIFAR-10 Batch 3:  Cost:0.5795164108276367 Accuracy:0.673399806022644\n",
      "Epoch  6, CIFAR-10 Batch 4:  Cost:0.71685791015625 Accuracy:0.6735998392105103\n",
      "Epoch  6, CIFAR-10 Batch 5:  Cost:0.7892070412635803 Accuracy:0.6751999258995056\n",
      "Epoch  7, CIFAR-10 Batch 1:  Cost:0.708629846572876 Accuracy:0.6851998567581177\n",
      "Epoch  7, CIFAR-10 Batch 2:  Cost:0.7603617906570435 Accuracy:0.6943998336791992\n",
      "Epoch  7, CIFAR-10 Batch 3:  Cost:0.5312290787696838 Accuracy:0.68479984998703\n",
      "Epoch  7, CIFAR-10 Batch 4:  Cost:0.6643530130386353 Accuracy:0.6855998635292053\n",
      "Epoch  7, CIFAR-10 Batch 5:  Cost:0.6346384286880493 Accuracy:0.7001998424530029\n",
      "Epoch  8, CIFAR-10 Batch 1:  Cost:0.5830482244491577 Accuracy:0.7083998918533325\n",
      "Epoch  8, CIFAR-10 Batch 2:  Cost:0.6737910509109497 Accuracy:0.6973998546600342\n",
      "Epoch  8, CIFAR-10 Batch 3:  Cost:0.4323450028896332 Accuracy:0.6953998804092407\n",
      "Epoch  8, CIFAR-10 Batch 4:  Cost:0.5521249771118164 Accuracy:0.7039998769760132\n",
      "Epoch  8, CIFAR-10 Batch 5:  Cost:0.5973517298698425 Accuracy:0.7127998471260071\n",
      "Epoch  9, CIFAR-10 Batch 1:  Cost:0.5468059182167053 Accuracy:0.7147998809814453\n",
      "Epoch  9, CIFAR-10 Batch 2:  Cost:0.6458721160888672 Accuracy:0.7161998748779297\n",
      "Epoch  9, CIFAR-10 Batch 3:  Cost:0.38061779737472534 Accuracy:0.7229998111724854\n",
      "Epoch  9, CIFAR-10 Batch 4:  Cost:0.4524213373661041 Accuracy:0.7179998755455017\n",
      "Epoch  9, CIFAR-10 Batch 5:  Cost:0.5774989724159241 Accuracy:0.7239998579025269\n",
      "Epoch 10, CIFAR-10 Batch 1:  Cost:0.5025869607925415 Accuracy:0.7277998924255371\n",
      "Epoch 10, CIFAR-10 Batch 2:  Cost:0.5871824622154236 Accuracy:0.7315998077392578\n",
      "Epoch 10, CIFAR-10 Batch 3:  Cost:0.343380868434906 Accuracy:0.7259998321533203\n",
      "Epoch 10, CIFAR-10 Batch 4:  Cost:0.42942190170288086 Accuracy:0.7319998741149902\n",
      "Epoch 10, CIFAR-10 Batch 5:  Cost:0.4784519076347351 Accuracy:0.7321997880935669\n",
      "Epoch 11, CIFAR-10 Batch 1:  Cost:0.4090246260166168 Accuracy:0.7417998313903809\n",
      "Epoch 11, CIFAR-10 Batch 2:  Cost:0.5284919142723083 Accuracy:0.7391998171806335\n",
      "Epoch 11, CIFAR-10 Batch 3:  Cost:0.35837411880493164 Accuracy:0.7391998171806335\n",
      "Epoch 11, CIFAR-10 Batch 4:  Cost:0.39340031147003174 Accuracy:0.7457998394966125\n",
      "Epoch 11, CIFAR-10 Batch 5:  Cost:0.4346315264701843 Accuracy:0.7287998795509338\n",
      "Epoch 12, CIFAR-10 Batch 1:  Cost:0.4187820553779602 Accuracy:0.7483998537063599\n",
      "Epoch 12, CIFAR-10 Batch 2:  Cost:0.4820525050163269 Accuracy:0.747799813747406\n",
      "Epoch 12, CIFAR-10 Batch 3:  Cost:0.2765967845916748 Accuracy:0.7337998151779175\n",
      "Epoch 12, CIFAR-10 Batch 4:  Cost:0.3525187373161316 Accuracy:0.7527998089790344\n",
      "Epoch 12, CIFAR-10 Batch 5:  Cost:0.340315043926239 Accuracy:0.7587997913360596\n",
      "Epoch 13, CIFAR-10 Batch 1:  Cost:0.33061397075653076 Accuracy:0.7567998170852661\n",
      "Epoch 13, CIFAR-10 Batch 2:  Cost:0.4037570357322693 Accuracy:0.7593998312950134\n",
      "Epoch 13, CIFAR-10 Batch 3:  Cost:0.24125456809997559 Accuracy:0.755599856376648\n",
      "Epoch 13, CIFAR-10 Batch 4:  Cost:0.28265684843063354 Accuracy:0.7503998279571533\n",
      "Epoch 13, CIFAR-10 Batch 5:  Cost:0.22763867676258087 Accuracy:0.7615997791290283\n",
      "Epoch 14, CIFAR-10 Batch 1:  Cost:0.3350168466567993 Accuracy:0.7501998543739319\n",
      "Epoch 14, CIFAR-10 Batch 2:  Cost:0.37169328331947327 Accuracy:0.759199857711792\n",
      "Epoch 14, CIFAR-10 Batch 3:  Cost:0.2537083625793457 Accuracy:0.7593998312950134\n",
      "Epoch 14, CIFAR-10 Batch 4:  Cost:0.28012412786483765 Accuracy:0.7645998001098633\n",
      "Epoch 14, CIFAR-10 Batch 5:  Cost:0.2797316610813141 Accuracy:0.7649997472763062\n",
      "Epoch 15, CIFAR-10 Batch 1:  Cost:0.25414878129959106 Accuracy:0.7643998265266418\n",
      "Epoch 15, CIFAR-10 Batch 2:  Cost:0.29531481862068176 Accuracy:0.7619998455047607\n",
      "Epoch 15, CIFAR-10 Batch 3:  Cost:0.1732053905725479 Accuracy:0.7731997966766357\n",
      "Epoch 15, CIFAR-10 Batch 4:  Cost:0.2269526571035385 Accuracy:0.776999831199646\n",
      "Epoch 15, CIFAR-10 Batch 5:  Cost:0.22137215733528137 Accuracy:0.7709997892379761\n",
      "Epoch 16, CIFAR-10 Batch 1:  Cost:0.23212558031082153 Accuracy:0.773399829864502\n",
      "Epoch 16, CIFAR-10 Batch 2:  Cost:0.27169519662857056 Accuracy:0.7755998373031616\n",
      "Epoch 16, CIFAR-10 Batch 3:  Cost:0.1967940479516983 Accuracy:0.7661998271942139\n",
      "Epoch 16, CIFAR-10 Batch 4:  Cost:0.19843459129333496 Accuracy:0.7797998785972595\n",
      "Epoch 16, CIFAR-10 Batch 5:  Cost:0.20133495330810547 Accuracy:0.7709998488426208\n",
      "Epoch 17, CIFAR-10 Batch 1:  Cost:0.18484801054000854 Accuracy:0.77979975938797\n",
      "Epoch 17, CIFAR-10 Batch 2:  Cost:0.2525314688682556 Accuracy:0.775199830532074\n",
      "Epoch 17, CIFAR-10 Batch 3:  Cost:0.15531158447265625 Accuracy:0.7807998657226562\n",
      "Epoch 17, CIFAR-10 Batch 4:  Cost:0.22072918713092804 Accuracy:0.7605998516082764\n",
      "Epoch 17, CIFAR-10 Batch 5:  Cost:0.21809956431388855 Accuracy:0.7741997838020325\n",
      "Epoch 18, CIFAR-10 Batch 1:  Cost:0.21069397032260895 Accuracy:0.7817997932434082\n",
      "Epoch 18, CIFAR-10 Batch 2:  Cost:0.21927843987941742 Accuracy:0.7797998189926147\n",
      "Epoch 18, CIFAR-10 Batch 3:  Cost:0.14600495994091034 Accuracy:0.7683998346328735\n",
      "Epoch 18, CIFAR-10 Batch 4:  Cost:0.16093364357948303 Accuracy:0.7733998894691467\n",
      "Epoch 18, CIFAR-10 Batch 5:  Cost:0.1676894575357437 Accuracy:0.7835997939109802\n",
      "Epoch 19, CIFAR-10 Batch 1:  Cost:0.13449668884277344 Accuracy:0.7839998006820679\n",
      "Epoch 19, CIFAR-10 Batch 2:  Cost:0.1878456473350525 Accuracy:0.7799997925758362\n",
      "Epoch 19, CIFAR-10 Batch 3:  Cost:0.10541452467441559 Accuracy:0.7921998500823975\n",
      "Epoch 19, CIFAR-10 Batch 4:  Cost:0.14903059601783752 Accuracy:0.7779998779296875\n",
      "Epoch 19, CIFAR-10 Batch 5:  Cost:0.10590136051177979 Accuracy:0.7831997871398926\n",
      "Epoch 20, CIFAR-10 Batch 1:  Cost:0.13608506321907043 Accuracy:0.7839998602867126\n",
      "Epoch 20, CIFAR-10 Batch 2:  Cost:0.1688375473022461 Accuracy:0.7817999124526978\n",
      "Epoch 20, CIFAR-10 Batch 3:  Cost:0.10657485574483871 Accuracy:0.7807998657226562\n",
      "Epoch 20, CIFAR-10 Batch 4:  Cost:0.11428643018007278 Accuracy:0.7771998047828674\n",
      "Epoch 20, CIFAR-10 Batch 5:  Cost:0.10052110254764557 Accuracy:0.7889997959136963\n",
      "Epoch 21, CIFAR-10 Batch 1:  Cost:0.11076270043849945 Accuracy:0.7917999029159546\n"
     ]
    },
    {
     "name": "stdout",
     "output_type": "stream",
     "text": [
      "Epoch 21, CIFAR-10 Batch 2:  Cost:0.12317369878292084 Accuracy:0.7893998026847839\n",
      "Epoch 21, CIFAR-10 Batch 3:  Cost:0.10181662440299988 Accuracy:0.7873998284339905\n",
      "Epoch 21, CIFAR-10 Batch 4:  Cost:0.08722677826881409 Accuracy:0.7747998833656311\n",
      "Epoch 21, CIFAR-10 Batch 5:  Cost:0.08305733650922775 Accuracy:0.7855998277664185\n",
      "Epoch 22, CIFAR-10 Batch 1:  Cost:0.12276078760623932 Accuracy:0.7913998365402222\n",
      "Epoch 22, CIFAR-10 Batch 2:  Cost:0.12058760970830917 Accuracy:0.7825998067855835\n",
      "Epoch 22, CIFAR-10 Batch 3:  Cost:0.08249993622303009 Accuracy:0.7815998196601868\n",
      "Epoch 22, CIFAR-10 Batch 4:  Cost:0.08476507663726807 Accuracy:0.7779998779296875\n",
      "Epoch 22, CIFAR-10 Batch 5:  Cost:0.07098394632339478 Accuracy:0.7871997952461243\n",
      "Epoch 23, CIFAR-10 Batch 1:  Cost:0.1248880997300148 Accuracy:0.7969998121261597\n",
      "Epoch 23, CIFAR-10 Batch 2:  Cost:0.0798775926232338 Accuracy:0.7845998406410217\n",
      "Epoch 23, CIFAR-10 Batch 3:  Cost:0.04642736539244652 Accuracy:0.774199903011322\n",
      "Epoch 23, CIFAR-10 Batch 4:  Cost:0.06214915215969086 Accuracy:0.7837998270988464\n",
      "Epoch 23, CIFAR-10 Batch 5:  Cost:0.07055708765983582 Accuracy:0.788199782371521\n",
      "Epoch 24, CIFAR-10 Batch 1:  Cost:0.10256687551736832 Accuracy:0.7929998636245728\n",
      "Epoch 24, CIFAR-10 Batch 2:  Cost:0.07725610584020615 Accuracy:0.7927998900413513\n",
      "Epoch 24, CIFAR-10 Batch 3:  Cost:0.051043733954429626 Accuracy:0.7835997939109802\n",
      "Epoch 24, CIFAR-10 Batch 4:  Cost:0.050481900572776794 Accuracy:0.7907997965812683\n",
      "Epoch 24, CIFAR-10 Batch 5:  Cost:0.05285593867301941 Accuracy:0.7923997640609741\n",
      "Epoch 25, CIFAR-10 Batch 1:  Cost:0.08560440689325333 Accuracy:0.7967998385429382\n",
      "Epoch 25, CIFAR-10 Batch 2:  Cost:0.0717451423406601 Accuracy:0.7943997383117676\n",
      "Epoch 25, CIFAR-10 Batch 3:  Cost:0.05588822439312935 Accuracy:0.7903997898101807\n",
      "Epoch 25, CIFAR-10 Batch 4:  Cost:0.0415610671043396 Accuracy:0.7907997369766235\n",
      "Epoch 25, CIFAR-10 Batch 5:  Cost:0.05920743942260742 Accuracy:0.7943997979164124\n",
      "Epoch 26, CIFAR-10 Batch 1:  Cost:0.07724053412675858 Accuracy:0.7975997924804688\n",
      "Epoch 26, CIFAR-10 Batch 2:  Cost:0.08108894526958466 Accuracy:0.7905998229980469\n",
      "Epoch 26, CIFAR-10 Batch 3:  Cost:0.06173860281705856 Accuracy:0.7969998121261597\n",
      "Epoch 26, CIFAR-10 Batch 4:  Cost:0.041978511959314346 Accuracy:0.7913998961448669\n",
      "Epoch 26, CIFAR-10 Batch 5:  Cost:0.04859989881515503 Accuracy:0.7895998358726501\n",
      "Epoch 27, CIFAR-10 Batch 1:  Cost:0.08271516114473343 Accuracy:0.8025997877120972\n",
      "Epoch 27, CIFAR-10 Batch 2:  Cost:0.06767009943723679 Accuracy:0.7889997959136963\n",
      "Epoch 27, CIFAR-10 Batch 3:  Cost:0.05954859405755997 Accuracy:0.792999804019928\n",
      "Epoch 27, CIFAR-10 Batch 4:  Cost:0.024459615349769592 Accuracy:0.791999876499176\n",
      "Epoch 27, CIFAR-10 Batch 5:  Cost:0.029840713366866112 Accuracy:0.7989999055862427\n",
      "Epoch 28, CIFAR-10 Batch 1:  Cost:0.049500372260808945 Accuracy:0.8037998676300049\n",
      "Epoch 28, CIFAR-10 Batch 2:  Cost:0.055878907442092896 Accuracy:0.7945997714996338\n",
      "Epoch 28, CIFAR-10 Batch 3:  Cost:0.031997617334127426 Accuracy:0.7867997884750366\n",
      "Epoch 28, CIFAR-10 Batch 4:  Cost:0.030774280428886414 Accuracy:0.7897998690605164\n",
      "Epoch 28, CIFAR-10 Batch 5:  Cost:0.07250631600618362 Accuracy:0.7971997857093811\n",
      "Epoch 29, CIFAR-10 Batch 1:  Cost:0.04894546419382095 Accuracy:0.8025999069213867\n",
      "Epoch 29, CIFAR-10 Batch 2:  Cost:0.08978506922721863 Accuracy:0.7925998568534851\n",
      "Epoch 29, CIFAR-10 Batch 3:  Cost:0.03256433084607124 Accuracy:0.7871997356414795\n",
      "Epoch 29, CIFAR-10 Batch 4:  Cost:0.03428205847740173 Accuracy:0.7933998107910156\n",
      "Epoch 29, CIFAR-10 Batch 5:  Cost:0.03092757984995842 Accuracy:0.7941998243331909\n",
      "Epoch 30, CIFAR-10 Batch 1:  Cost:0.05177547410130501 Accuracy:0.8015998601913452\n",
      "Epoch 30, CIFAR-10 Batch 2:  Cost:0.036795761436223984 Accuracy:0.7937998175621033\n",
      "Epoch 30, CIFAR-10 Batch 3:  Cost:0.034649793058633804 Accuracy:0.7965997457504272\n",
      "Epoch 30, CIFAR-10 Batch 4:  Cost:0.02086038514971733 Accuracy:0.7941998839378357\n",
      "Epoch 30, CIFAR-10 Batch 5:  Cost:0.026416247710585594 Accuracy:0.799599826335907\n",
      "Epoch 31, CIFAR-10 Batch 1:  Cost:0.04970201104879379 Accuracy:0.7963998317718506\n",
      "Epoch 31, CIFAR-10 Batch 2:  Cost:0.041478391736745834 Accuracy:0.8007998466491699\n",
      "Epoch 31, CIFAR-10 Batch 3:  Cost:0.02474747598171234 Accuracy:0.7993998527526855\n",
      "Epoch 31, CIFAR-10 Batch 4:  Cost:0.021784000098705292 Accuracy:0.8029997944831848\n",
      "Epoch 31, CIFAR-10 Batch 5:  Cost:0.02107444405555725 Accuracy:0.8005998730659485\n",
      "Epoch 32, CIFAR-10 Batch 1:  Cost:0.040484242141246796 Accuracy:0.8011997938156128\n",
      "Epoch 32, CIFAR-10 Batch 2:  Cost:0.036615464836359024 Accuracy:0.798399806022644\n",
      "Epoch 32, CIFAR-10 Batch 3:  Cost:0.0258728489279747 Accuracy:0.7959997653961182\n",
      "Epoch 32, CIFAR-10 Batch 4:  Cost:0.01939282938838005 Accuracy:0.798399806022644\n",
      "Epoch 32, CIFAR-10 Batch 5:  Cost:0.016288304701447487 Accuracy:0.7983998656272888\n",
      "Epoch 33, CIFAR-10 Batch 1:  Cost:0.038614388555288315 Accuracy:0.8021997809410095\n",
      "Epoch 33, CIFAR-10 Batch 2:  Cost:0.03743219003081322 Accuracy:0.7939997911453247\n",
      "Epoch 33, CIFAR-10 Batch 3:  Cost:0.027905413880944252 Accuracy:0.7773998379707336\n",
      "Epoch 33, CIFAR-10 Batch 4:  Cost:0.015871956944465637 Accuracy:0.7963998317718506\n",
      "Epoch 33, CIFAR-10 Batch 5:  Cost:0.013423599302768707 Accuracy:0.8067998290061951\n",
      "Epoch 34, CIFAR-10 Batch 1:  Cost:0.0717153549194336 Accuracy:0.7825998067855835\n",
      "Epoch 34, CIFAR-10 Batch 2:  Cost:0.046008821576833725 Accuracy:0.7965997457504272\n",
      "Epoch 34, CIFAR-10 Batch 3:  Cost:0.03590685874223709 Accuracy:0.7979997396469116\n",
      "Epoch 34, CIFAR-10 Batch 4:  Cost:0.01691160351037979 Accuracy:0.7999997735023499\n",
      "Epoch 34, CIFAR-10 Batch 5:  Cost:0.01960967481136322 Accuracy:0.801199734210968\n",
      "Epoch 35, CIFAR-10 Batch 1:  Cost:0.03516458719968796 Accuracy:0.7997997999191284\n",
      "Epoch 35, CIFAR-10 Batch 2:  Cost:0.04159925505518913 Accuracy:0.7955997586250305\n",
      "Epoch 35, CIFAR-10 Batch 3:  Cost:0.017523884773254395 Accuracy:0.801399827003479\n",
      "Epoch 35, CIFAR-10 Batch 4:  Cost:0.01594434678554535 Accuracy:0.7981998324394226\n",
      "Epoch 35, CIFAR-10 Batch 5:  Cost:0.027946675196290016 Accuracy:0.7993997931480408\n",
      "Epoch 36, CIFAR-10 Batch 1:  Cost:0.03275112807750702 Accuracy:0.8007997870445251\n",
      "Epoch 36, CIFAR-10 Batch 2:  Cost:0.049123365432024 Accuracy:0.8029998540878296\n",
      "Epoch 36, CIFAR-10 Batch 3:  Cost:0.017381565645337105 Accuracy:0.797799825668335\n",
      "Epoch 36, CIFAR-10 Batch 4:  Cost:0.01170983724296093 Accuracy:0.7951998710632324\n",
      "Epoch 36, CIFAR-10 Batch 5:  Cost:0.01985936053097248 Accuracy:0.7971998453140259\n",
      "Epoch 37, CIFAR-10 Batch 1:  Cost:0.060950104147195816 Accuracy:0.7827997803688049\n",
      "Epoch 37, CIFAR-10 Batch 2:  Cost:0.033980756998062134 Accuracy:0.8015998005867004\n",
      "Epoch 37, CIFAR-10 Batch 3:  Cost:0.016227586194872856 Accuracy:0.8057998418807983\n",
      "Epoch 37, CIFAR-10 Batch 4:  Cost:0.007698369212448597 Accuracy:0.7967998385429382\n",
      "Epoch 37, CIFAR-10 Batch 5:  Cost:0.016387267038226128 Accuracy:0.7937998175621033\n",
      "Epoch 38, CIFAR-10 Batch 1:  Cost:0.024805698543787003 Accuracy:0.7993997931480408\n",
      "Epoch 38, CIFAR-10 Batch 2:  Cost:0.02282710373401642 Accuracy:0.8049997687339783\n",
      "Epoch 38, CIFAR-10 Batch 3:  Cost:0.008428232744336128 Accuracy:0.8067997694015503\n",
      "Epoch 38, CIFAR-10 Batch 4:  Cost:0.01247346494346857 Accuracy:0.7931997776031494\n",
      "Epoch 38, CIFAR-10 Batch 5:  Cost:0.015344876796007156 Accuracy:0.8065997362136841\n",
      "Epoch 39, CIFAR-10 Batch 1:  Cost:0.016029246151447296 Accuracy:0.8003998398780823\n",
      "Epoch 39, CIFAR-10 Batch 2:  Cost:0.021195784211158752 Accuracy:0.7969998121261597\n",
      "Epoch 39, CIFAR-10 Batch 3:  Cost:0.017797160893678665 Accuracy:0.7963997721672058\n",
      "Epoch 39, CIFAR-10 Batch 4:  Cost:0.009580109268426895 Accuracy:0.7985997796058655\n",
      "Epoch 39, CIFAR-10 Batch 5:  Cost:0.009510494768619537 Accuracy:0.8011998534202576\n",
      "Epoch 40, CIFAR-10 Batch 1:  Cost:0.020138338208198547 Accuracy:0.8073998093605042\n",
      "Epoch 40, CIFAR-10 Batch 2:  Cost:0.022507157176733017 Accuracy:0.797799825668335\n",
      "Epoch 40, CIFAR-10 Batch 3:  Cost:0.011286599561572075 Accuracy:0.7921997904777527\n",
      "Epoch 40, CIFAR-10 Batch 4:  Cost:0.01788640022277832 Accuracy:0.7847998142242432\n",
      "Epoch 40, CIFAR-10 Batch 5:  Cost:0.016583196818828583 Accuracy:0.8039998412132263\n",
      "Epoch 41, CIFAR-10 Batch 1:  Cost:0.01769908331334591 Accuracy:0.803199827671051\n"
     ]
    },
    {
     "name": "stdout",
     "output_type": "stream",
     "text": [
      "Epoch 41, CIFAR-10 Batch 2:  Cost:0.014051377773284912 Accuracy:0.8053997755050659\n",
      "Epoch 41, CIFAR-10 Batch 3:  Cost:0.005963193252682686 Accuracy:0.8081998229026794\n",
      "Epoch 41, CIFAR-10 Batch 4:  Cost:0.008686584420502186 Accuracy:0.8063997626304626\n",
      "Epoch 41, CIFAR-10 Batch 5:  Cost:0.010719633661210537 Accuracy:0.8069998621940613\n",
      "Epoch 42, CIFAR-10 Batch 1:  Cost:0.01938755437731743 Accuracy:0.8119998574256897\n",
      "Epoch 42, CIFAR-10 Batch 2:  Cost:0.030855614691972733 Accuracy:0.7989997863769531\n",
      "Epoch 42, CIFAR-10 Batch 3:  Cost:0.009637539274990559 Accuracy:0.7963998317718506\n",
      "Epoch 42, CIFAR-10 Batch 4:  Cost:0.012521217577159405 Accuracy:0.7917998433113098\n",
      "Epoch 42, CIFAR-10 Batch 5:  Cost:0.009141350165009499 Accuracy:0.8019998669624329\n",
      "Epoch 43, CIFAR-10 Batch 1:  Cost:0.05394637584686279 Accuracy:0.7971998453140259\n",
      "Epoch 43, CIFAR-10 Batch 2:  Cost:0.022046005353331566 Accuracy:0.7993998527526855\n",
      "Epoch 43, CIFAR-10 Batch 3:  Cost:0.010931780561804771 Accuracy:0.8091998100280762\n",
      "Epoch 43, CIFAR-10 Batch 4:  Cost:0.00928179919719696 Accuracy:0.8063998222351074\n",
      "Epoch 43, CIFAR-10 Batch 5:  Cost:0.015389515087008476 Accuracy:0.7933998703956604\n",
      "Epoch 44, CIFAR-10 Batch 1:  Cost:0.01676514744758606 Accuracy:0.796599805355072\n",
      "Epoch 44, CIFAR-10 Batch 2:  Cost:0.0123674888163805 Accuracy:0.7971998453140259\n",
      "Epoch 44, CIFAR-10 Batch 3:  Cost:0.007108502089977264 Accuracy:0.7965997457504272\n",
      "Epoch 44, CIFAR-10 Batch 4:  Cost:0.014567717909812927 Accuracy:0.7939998507499695\n",
      "Epoch 44, CIFAR-10 Batch 5:  Cost:0.01001540757715702 Accuracy:0.8013997077941895\n",
      "Epoch 45, CIFAR-10 Batch 1:  Cost:0.011686796322464943 Accuracy:0.804399847984314\n",
      "Epoch 45, CIFAR-10 Batch 2:  Cost:0.028445983305573463 Accuracy:0.7933998703956604\n",
      "Epoch 45, CIFAR-10 Batch 3:  Cost:0.00870528444647789 Accuracy:0.798399806022644\n",
      "Epoch 45, CIFAR-10 Batch 4:  Cost:0.019617751240730286 Accuracy:0.8027998208999634\n",
      "Epoch 45, CIFAR-10 Batch 5:  Cost:0.015333977527916431 Accuracy:0.8067997694015503\n",
      "Epoch 46, CIFAR-10 Batch 1:  Cost:0.011127142235636711 Accuracy:0.8077998757362366\n",
      "Epoch 46, CIFAR-10 Batch 2:  Cost:0.025386661291122437 Accuracy:0.8033998012542725\n",
      "Epoch 46, CIFAR-10 Batch 3:  Cost:0.0076424251310527325 Accuracy:0.7955998182296753\n",
      "Epoch 46, CIFAR-10 Batch 4:  Cost:0.011008743196725845 Accuracy:0.7999997735023499\n",
      "Epoch 46, CIFAR-10 Batch 5:  Cost:0.01160214189440012 Accuracy:0.8011997938156128\n",
      "Epoch 47, CIFAR-10 Batch 1:  Cost:0.009082632139325142 Accuracy:0.8071998357772827\n",
      "Epoch 47, CIFAR-10 Batch 2:  Cost:0.018141932785511017 Accuracy:0.8041998147964478\n",
      "Epoch 47, CIFAR-10 Batch 3:  Cost:0.006682128645479679 Accuracy:0.8117998242378235\n",
      "Epoch 47, CIFAR-10 Batch 4:  Cost:0.01890968717634678 Accuracy:0.7967997789382935\n",
      "Epoch 47, CIFAR-10 Batch 5:  Cost:0.0043554604053497314 Accuracy:0.804399847984314\n",
      "Epoch 48, CIFAR-10 Batch 1:  Cost:0.03505526855587959 Accuracy:0.8071997761726379\n",
      "Epoch 48, CIFAR-10 Batch 2:  Cost:0.016699908301234245 Accuracy:0.8033998012542725\n",
      "Epoch 48, CIFAR-10 Batch 3:  Cost:0.010968545451760292 Accuracy:0.8075997233390808\n",
      "Epoch 48, CIFAR-10 Batch 4:  Cost:0.005578802898526192 Accuracy:0.8069998025894165\n",
      "Epoch 48, CIFAR-10 Batch 5:  Cost:0.01534591056406498 Accuracy:0.8071997761726379\n",
      "Epoch 49, CIFAR-10 Batch 1:  Cost:0.01783779263496399 Accuracy:0.8071998357772827\n",
      "Epoch 49, CIFAR-10 Batch 2:  Cost:0.016496527940034866 Accuracy:0.7987997531890869\n",
      "Epoch 49, CIFAR-10 Batch 3:  Cost:0.008352692238986492 Accuracy:0.8029997944831848\n",
      "Epoch 49, CIFAR-10 Batch 4:  Cost:0.004774375353008509 Accuracy:0.8063998222351074\n",
      "Epoch 49, CIFAR-10 Batch 5:  Cost:0.009831590577960014 Accuracy:0.8101998567581177\n",
      "Epoch 50, CIFAR-10 Batch 1:  Cost:0.032081060111522675 Accuracy:0.8133998513221741\n",
      "Epoch 50, CIFAR-10 Batch 2:  Cost:0.019738564267754555 Accuracy:0.8007998466491699\n",
      "Epoch 50, CIFAR-10 Batch 3:  Cost:0.0035645822063088417 Accuracy:0.8111997842788696\n",
      "Epoch 50, CIFAR-10 Batch 4:  Cost:0.007885457016527653 Accuracy:0.8103998303413391\n",
      "Epoch 50, CIFAR-10 Batch 5:  Cost:0.003787171794101596 Accuracy:0.810799777507782\n"
     ]
    }
   ],
   "source": [
    "\"\"\"\n",
    "DON'T MODIFY ANYTHING IN THIS CELL\n",
    "\"\"\"\n",
    "save_model_path = './image_classification'\n",
    "\n",
    "print('Training...')\n",
    "with tf.Session() as sess:\n",
    "    # Initializing the variables\n",
    "    sess.run(tf.global_variables_initializer())\n",
    "    \n",
    "    # Training cycle\n",
    "    for epoch in range(epochs):\n",
    "        # Loop over all batches\n",
    "        n_batches = 5\n",
    "        for batch_i in range(1, n_batches + 1):\n",
    "            for batch_features, batch_labels in helper.load_preprocess_training_batch(batch_i, batch_size):\n",
    "                train_neural_network(sess, optimizer, keep_probability, batch_features, batch_labels)\n",
    "            print('Epoch {:>2}, CIFAR-10 Batch {}:  '.format(epoch + 1, batch_i), end='')\n",
    "            print_stats(sess, batch_features, batch_labels, cost, accuracy)\n",
    "            \n",
    "    # Save Model\n",
    "    saver = tf.train.Saver()\n",
    "    save_path = saver.save(sess, save_model_path)"
   ]
  },
  {
   "cell_type": "markdown",
   "metadata": {},
   "source": [
    "# 检查点\n",
    "\n",
    "模型已保存到本地。\n",
    "\n",
    "## 测试模型\n",
    "\n",
    "利用测试数据集测试你的模型。这将是最终的准确率。你的准确率应该高于 50%。如果没达到，请继续调整模型结构和参数。"
   ]
  },
  {
   "cell_type": "code",
   "execution_count": 18,
   "metadata": {},
   "outputs": [
    {
     "name": "stdout",
     "output_type": "stream",
     "text": [
      "INFO:tensorflow:Restoring parameters from ./image_classification\n",
      "Testing Accuracy: 0.7946993670886076\n",
      "\n"
     ]
    },
    {
     "data": {
      "image/png": "[encoded data removed]",
      "text/plain": [
       "<matplotlib.figure.Figure at 0x7fc948eb3390>"
      ]
     },
     "metadata": {
      "image/png": {
       "height": 319,
       "width": 355
      }
     },
     "output_type": "display_data"
    }
   ],
   "source": [
    "\"\"\"\n",
    "DON'T MODIFY ANYTHING IN THIS CELL\n",
    "\"\"\"\n",
    "%matplotlib inline\n",
    "%config InlineBackend.figure_format = 'retina'\n",
    "\n",
    "import tensorflow as tf\n",
    "import pickle\n",
    "import helper\n",
    "import random\n",
    "\n",
    "# Set batch size if not already set\n",
    "try:\n",
    "    if batch_size:\n",
    "        pass\n",
    "except NameError:\n",
    "    batch_size = 64\n",
    "\n",
    "save_model_path = './image_classification'\n",
    "n_samples = 4\n",
    "top_n_predictions = 3\n",
    "\n",
    "def test_model():\n",
    "    \"\"\"\n",
    "    Test the saved model against the test dataset\n",
    "    \"\"\"\n",
    "\n",
    "    test_features, test_labels = pickle.load(open('preprocess_test.p', mode='rb'))\n",
    "    loaded_graph = tf.Graph()\n",
    "\n",
    "    with tf.Session(graph=loaded_graph) as sess:\n",
    "        # Load model\n",
    "        loader = tf.train.import_meta_graph(save_model_path + '.meta')\n",
    "        loader.restore(sess, save_model_path)\n",
    "\n",
    "        # Get Tensors from loaded model\n",
    "        loaded_x = loaded_graph.get_tensor_by_name('x:0')\n",
    "        loaded_y = loaded_graph.get_tensor_by_name('y:0')\n",
    "        loaded_keep_prob = loaded_graph.get_tensor_by_name('keep_prob:0')\n",
    "        loaded_logits = loaded_graph.get_tensor_by_name('logits:0')\n",
    "        loaded_acc = loaded_graph.get_tensor_by_name('accuracy:0')\n",
    "        \n",
    "        # Get accuracy in batches for memory limitations\n",
    "        test_batch_acc_total = 0\n",
    "        test_batch_count = 0\n",
    "        \n",
    "        for test_feature_batch, test_label_batch in helper.batch_features_labels(test_features, test_labels, batch_size):\n",
    "            test_batch_acc_total += sess.run(\n",
    "                loaded_acc,\n",
    "                feed_dict={loaded_x: test_feature_batch, loaded_y: test_label_batch, loaded_keep_prob: 1.0})\n",
    "            test_batch_count += 1\n",
    "\n",
    "        print('Testing Accuracy: {}\\n'.format(test_batch_acc_total/test_batch_count))\n",
    "\n",
    "        # Print Random Samples\n",
    "        random_test_features, random_test_labels = tuple(zip(*random.sample(list(zip(test_features, test_labels)), n_samples)))\n",
    "        random_test_predictions = sess.run(\n",
    "            tf.nn.top_k(tf.nn.softmax(loaded_logits), top_n_predictions),\n",
    "            feed_dict={loaded_x: random_test_features, loaded_y: random_test_labels, loaded_keep_prob: 1.0})\n",
    "        helper.display_image_predictions(random_test_features, random_test_labels, random_test_predictions)\n",
    "\n",
    "\n",
    "test_model()"
   ]
  },
  {
   "cell_type": "markdown",
   "metadata": {},
   "source": [
    "## 为何准确率只有50-80%？\n",
    "\n",
    "你可能想问，为何准确率不能更高了？首先，对于简单的 CNN 网络来说，50% 已经不低了。纯粹猜测的准确率为10%。但是，你可能注意到有人的准确率[远远超过 80%](http://rodrigob.github.io/are_we_there_yet/build/classification_datasets_results.html#43494641522d3130)。这是因为我们还没有介绍所有的神经网络知识。我们还需要掌握一些其他技巧。\n",
    "\n",
    "## 提交项目\n",
    "\n",
    "提交项目时，确保先运行所有单元，然后再保存记事本。将 notebook 文件另存为“dlnd_image_classification.ipynb”，再在目录 \"File\" -> \"Download as\" 另存为 HTML 格式。请在提交的项目中包含 “helper.py” 和 “problem_unittests.py” 文件。\n"
   ]
  }
 ],
 "metadata": {
  "kernelspec": {
   "display_name": "Python 3",
   "language": "python",
   "name": "python3"
  },
  "language_info": {
   "codemirror_mode": {
    "name": "ipython",
    "version": 3
   },
   "file_extension": ".py",
   "mimetype": "text/x-python",
   "name": "python",
   "nbconvert_exporter": "python",
   "pygments_lexer": "ipython3",
   "version": "3.5.3"
  }
 },
 "nbformat": 4,
 "nbformat_minor": 1
}
