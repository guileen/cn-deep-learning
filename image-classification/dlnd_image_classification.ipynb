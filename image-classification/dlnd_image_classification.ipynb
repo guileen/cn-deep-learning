{
 "cells": [
  {
   "cell_type": "markdown",
   "metadata": {
    "collapsed": true
   },
   "source": [
    "# 图像分类\n",
    "\n",
    "在此项目中，你将对 [CIFAR-10 数据集](https://www.cs.toronto.edu/~kriz/cifar.html) 中的图片进行分类。该数据集包含飞机、猫狗和其他物体。你需要预处理这些图片，然后用所有样本训练一个卷积神经网络。图片需要标准化（normalized），标签需要采用 one-hot 编码。你需要应用所学的知识构建卷积的、最大池化（max pooling）、丢弃（dropout）和完全连接（fully connected）的层。最后，你需要在样本图片上看到神经网络的预测结果。\n",
    "\n",
    "\n",
    "## 获取数据\n",
    "\n",
    "请运行以下单元，以下载 [CIFAR-10 数据集（Python版）](https://www.cs.toronto.edu/~kriz/cifar-10-python.tar.gz)。\n"
   ]
  },
  {
   "cell_type": "code",
   "execution_count": 1,
   "metadata": {},
   "outputs": [
    {
     "name": "stdout",
     "output_type": "stream",
     "text": [
      "All files found!\n"
     ]
    }
   ],
   "source": [
    "\"\"\"\n",
    "DON'T MODIFY ANYTHING IN THIS CELL THAT IS BELOW THIS LINE\n",
    "\"\"\"\n",
    "from urllib.request import urlretrieve\n",
    "from os.path import isfile, isdir\n",
    "from tqdm import tqdm\n",
    "import problem_unittests as tests\n",
    "import tarfile\n",
    "\n",
    "cifar10_dataset_folder_path = 'cifar-10-batches-py'\n",
    "\n",
    "# Use Floyd's cifar-10 dataset if present\n",
    "floyd_cifar10_location = '/input/cifar-10/python.tar.gz'\n",
    "if isfile(floyd_cifar10_location):\n",
    "    tar_gz_path = floyd_cifar10_location\n",
    "else:\n",
    "    tar_gz_path = 'cifar-10-python.tar.gz'\n",
    "\n",
    "class DLProgress(tqdm):\n",
    "    last_block = 0\n",
    "\n",
    "    def hook(self, block_num=1, block_size=1, total_size=None):\n",
    "        self.total = total_size\n",
    "        self.update((block_num - self.last_block) * block_size)\n",
    "        self.last_block = block_num\n",
    "\n",
    "if not isfile(tar_gz_path):\n",
    "    with DLProgress(unit='B', unit_scale=True, miniters=1, desc='CIFAR-10 Dataset') as pbar:\n",
    "        urlretrieve(\n",
    "            'https://www.cs.toronto.edu/~kriz/cifar-10-python.tar.gz',\n",
    "            tar_gz_path,\n",
    "            pbar.hook)\n",
    "\n",
    "if not isdir(cifar10_dataset_folder_path):\n",
    "    with tarfile.open(tar_gz_path) as tar:\n",
    "        tar.extractall()\n",
    "        tar.close()\n",
    "\n",
    "\n",
    "tests.test_folder_path(cifar10_dataset_folder_path)"
   ]
  },
  {
   "cell_type": "markdown",
   "metadata": {},
   "source": [
    "## 探索数据\n",
    "\n",
    "该数据集分成了几部分／批次（batches），以免你的机器在计算时内存不足。CIFAR-10 数据集包含 5 个部分，名称分别为 `data_batch_1`、`data_batch_2`，以此类推。每个部分都包含以下某个类别的标签和图片：\n",
    "\n",
    "* 飞机\n",
    "* 汽车\n",
    "* 鸟类\n",
    "* 猫\n",
    "* 鹿\n",
    "* 狗\n",
    "* 青蛙\n",
    "* 马\n",
    "* 船只\n",
    "* 卡车\n",
    "\n",
    "了解数据集也是对数据进行预测的必经步骤。你可以通过更改 `batch_id` 和 `sample_id` 探索下面的代码单元。`batch_id` 是数据集一个部分的 ID（1 到 5）。`sample_id` 是该部分中图片和标签对（label pair）的 ID。\n",
    "\n",
    "问问你自己：“可能的标签有哪些？”、“图片数据的值范围是多少？”、“标签是按顺序排列，还是随机排列的？”。思考类似的问题，有助于你预处理数据，并使预测结果更准确。\n"
   ]
  },
  {
   "cell_type": "code",
   "execution_count": 2,
   "metadata": {},
   "outputs": [
    {
     "name": "stderr",
     "output_type": "stream",
     "text": [
      "/usr/local/lib/python3.5/site-packages/matplotlib/font_manager.py:280: UserWarning: Matplotlib is building the font cache using fc-list. This may take a moment.\n",
      "  'Matplotlib is building the font cache using fc-list. '\n"
     ]
    },
    {
     "name": "stdout",
     "output_type": "stream",
     "text": [
      "\n",
      "Stats of batch 1:\n",
      "Samples: 10000\n",
      "Label Counts: {0: 1005, 1: 974, 2: 1032, 3: 1016, 4: 999, 5: 937, 6: 1030, 7: 1001, 8: 1025, 9: 981}\n",
      "First 20 Labels: [6, 9, 9, 4, 1, 1, 2, 7, 8, 3, 4, 7, 7, 2, 9, 9, 9, 3, 2, 6]\n",
      "\n",
      "Example of Image 5:\n",
      "Image - Min Value: 0 Max Value: 252\n",
      "Image - Shape: (32, 32, 3)\n",
      "Label - Label Id: 1 Name: automobile\n"
     ]
    },
    {
     "data": {
      "image/png": "[encoded data removed]",
      "text/plain": [
       "<matplotlib.figure.Figure at 0x7f5b4e55ea58>"
      ]
     },
     "metadata": {
      "image/png": {
       "height": 250,
       "width": 253
      }
     },
     "output_type": "display_data"
    }
   ],
   "source": [
    "%matplotlib inline\n",
    "%config InlineBackend.figure_format = 'retina'\n",
    "\n",
    "import helper\n",
    "import numpy as np\n",
    "\n",
    "# Explore the dataset\n",
    "batch_id = 1\n",
    "sample_id = 5\n",
    "helper.display_stats(cifar10_dataset_folder_path, batch_id, sample_id)"
   ]
  },
  {
   "cell_type": "markdown",
   "metadata": {},
   "source": [
    "## 实现预处理函数\n",
    "\n",
    "### 标准化\n",
    "\n",
    "在下面的单元中，实现 `normalize` 函数，传入图片数据 `x`，并返回标准化 Numpy 数组。值应该在 0 到 1 的范围内（含 0 和 1）。返回对象应该和 `x` 的形状一样。\n"
   ]
  },
  {
   "cell_type": "code",
   "execution_count": 3,
   "metadata": {},
   "outputs": [
    {
     "name": "stdout",
     "output_type": "stream",
     "text": [
      "Tests Passed\n"
     ]
    }
   ],
   "source": [
    "def normalize(x):\n",
    "    \"\"\"\n",
    "    Normalize a list of sample image data in the range of 0 to 1\n",
    "    : x: List of image data.  The image shape is (32, 32, 3)\n",
    "    : return: Numpy array of normalize data\n",
    "    \"\"\"\n",
    "    # TODO: Implement Function\n",
    "    return x/255.\n",
    "\n",
    "\"\"\"\n",
    "DON'T MODIFY ANYTHING IN THIS CELL THAT IS BELOW THIS LINE\n",
    "\"\"\"\n",
    "tests.test_normalize(normalize)"
   ]
  },
  {
   "cell_type": "markdown",
   "metadata": {},
   "source": [
    "### One-hot 编码\n",
    "\n",
    "和之前的代码单元一样，你将为预处理实现一个函数。这次，你将实现 `one_hot_encode` 函数。输入，也就是 `x`，是一个标签列表。实现该函数，以返回为 one_hot 编码的 Numpy 数组的标签列表。标签的可能值为 0 到 9。每次调用 `one_hot_encode` 时，对于每个值，one_hot 编码函数应该返回相同的编码。确保将编码映射保存到该函数外面。\n",
    "\n",
    "提示：不要重复发明轮子。\n"
   ]
  },
  {
   "cell_type": "code",
   "execution_count": 4,
   "metadata": {},
   "outputs": [
    {
     "name": "stdout",
     "output_type": "stream",
     "text": [
      "Tests Passed\n"
     ]
    }
   ],
   "source": [
    "def one_hot_encode(x):\n",
    "    \"\"\"\n",
    "    One hot encode a list of sample labels. Return a one-hot encoded vector for each label.\n",
    "    : x: List of sample Labels\n",
    "    : return: Numpy array of one-hot encoded labels\n",
    "    \"\"\"\n",
    "    # TODO: Implement Function\n",
    "    return np.eye(10)[x]\n",
    "\n",
    "\n",
    "\"\"\"\n",
    "DON'T MODIFY ANYTHING IN THIS CELL THAT IS BELOW THIS LINE\n",
    "\"\"\"\n",
    "tests.test_one_hot_encode(one_hot_encode)"
   ]
  },
  {
   "cell_type": "markdown",
   "metadata": {},
   "source": [
    "### 随机化数据\n",
    "\n",
    "之前探索数据时，你已经了解到，样本的顺序是随机的。再随机化一次也不会有什么关系，但是对于这个数据集没有必要。\n"
   ]
  },
  {
   "cell_type": "markdown",
   "metadata": {},
   "source": [
    "## 预处理所有数据并保存\n",
    "\n",
    "运行下方的代码单元，将预处理所有 CIFAR-10 数据，并保存到文件中。下面的代码还使用了 10% 的训练数据，用来验证。\n"
   ]
  },
  {
   "cell_type": "code",
   "execution_count": 5,
   "metadata": {},
   "outputs": [],
   "source": [
    "\"\"\"\n",
    "DON'T MODIFY ANYTHING IN THIS CELL\n",
    "\"\"\"\n",
    "# Preprocess Training, Validation, and Testing Data\n",
    "helper.preprocess_and_save_data(cifar10_dataset_folder_path, normalize, one_hot_encode)"
   ]
  },
  {
   "cell_type": "markdown",
   "metadata": {},
   "source": [
    "# 检查点\n",
    "\n",
    "这是你的第一个检查点。如果你什么时候决定再回到该记事本，或需要重新启动该记事本，你可以从这里开始。预处理的数据已保存到本地。\n"
   ]
  },
  {
   "cell_type": "code",
   "execution_count": 6,
   "metadata": {
    "collapsed": true
   },
   "outputs": [],
   "source": [
    "\"\"\"\n",
    "DON'T MODIFY ANYTHING IN THIS CELL\n",
    "\"\"\"\n",
    "import pickle\n",
    "import problem_unittests as tests\n",
    "import helper\n",
    "\n",
    "# Load the Preprocessed Validation data\n",
    "valid_features, valid_labels = pickle.load(open('preprocess_validation.p', mode='rb'))"
   ]
  },
  {
   "cell_type": "markdown",
   "metadata": {},
   "source": [
    "## 构建网络\n",
    "\n",
    "对于该神经网络，你需要将每层都构建为一个函数。你看到的大部分代码都位于函数外面。要更全面地测试你的代码，我们需要你将每层放入一个函数中。这样使我们能够提供更好的反馈，并使用我们的统一测试检测简单的错误，然后再提交项目。\n",
    "\n",
    ">**注意**：如果你觉得每周很难抽出足够的时间学习这门课程，我们为此项目提供了一个小捷径。对于接下来的几个问题，你可以使用 [TensorFlow Layers](https://www.tensorflow.org/api_docs/python/tf/layers) 或 [TensorFlow Layers (contrib)](https://www.tensorflow.org/api_guides/python/contrib.layers) 程序包中的类来构建每个层级，但是“卷积和最大池化层级”部分的层级除外。TF Layers 和 Keras 及 TFLearn 层级类似，因此很容易学会。\n",
    "\n",
    ">但是，如果你想充分利用这门课程，请尝试自己解决所有问题，不使用 TF Layers 程序包中的任何类。你依然可以使用其他程序包中的类，这些类和你在 TF Layers 中的类名称是一样的！例如，你可以使用 TF Neural Network 版本的 `conv2d` 类 [tf.nn.conv2d](https://www.tensorflow.org/api_docs/python/tf/nn/conv2d)，而不是 TF Layers 版本的 `conv2d` 类 [tf.layers.conv2d](https://www.tensorflow.org/api_docs/python/tf/layers/conv2d)。\n",
    "\n",
    "我们开始吧！\n",
    "\n",
    "\n",
    "### 输入\n",
    "\n",
    "神经网络需要读取图片数据、one-hot 编码标签和丢弃保留概率（dropout keep probability）。请实现以下函数：\n",
    "\n",
    "* 实现 `neural_net_image_input`\n",
    " * 返回 [TF Placeholder](https://www.tensorflow.org/api_docs/python/tf/placeholder)\n",
    " * 使用 `image_shape` 设置形状，部分大小设为 `None`\n",
    " * 使用 [TF Placeholder](https://www.tensorflow.org/api_docs/python/tf/placeholder) 中的 TensorFlow `name` 参数对 TensorFlow 占位符 \"x\" 命名\n",
    "* 实现 `neural_net_label_input`\n",
    " * 返回 [TF Placeholder](https://www.tensorflow.org/api_docs/python/tf/placeholder)\n",
    " * 使用 `n_classes` 设置形状，部分大小设为 `None`\n",
    " * 使用 [TF Placeholder](https://www.tensorflow.org/api_docs/python/tf/placeholder) 中的 TensorFlow `name` 参数对 TensorFlow 占位符 \"y\" 命名\n",
    "* 实现 `neural_net_keep_prob_input`\n",
    " * 返回 [TF Placeholder](https://www.tensorflow.org/api_docs/python/tf/placeholder)，用于丢弃保留概率\n",
    " * 使用 [TF Placeholder](https://www.tensorflow.org/api_docs/python/tf/placeholder) 中的 TensorFlow `name` 参数对 TensorFlow 占位符 \"keep_prob\" 命名\n",
    "\n",
    "这些名称将在项目结束时，用于加载保存的模型。\n",
    "\n",
    "注意：TensorFlow 中的 `None` 表示形状可以是动态大小。"
   ]
  },
  {
   "cell_type": "code",
   "execution_count": 7,
   "metadata": {},
   "outputs": [
    {
     "name": "stdout",
     "output_type": "stream",
     "text": [
      "Image Input Tests Passed.\n",
      "Label Input Tests Passed.\n",
      "Keep Prob Tests Passed.\n"
     ]
    }
   ],
   "source": [
    "import tensorflow as tf\n",
    "\n",
    "def neural_net_image_input(image_shape):\n",
    "    \"\"\"\n",
    "    Return a Tensor for a batch of image input\n",
    "    : image_shape: Shape of the images\n",
    "    : return: Tensor for image input.\n",
    "    \"\"\"\n",
    "    # TODO: Implement Function\n",
    "    return tf.placeholder(tf.float32, (None, *image_shape), name='x')\n",
    "\n",
    "\n",
    "def neural_net_label_input(n_classes):\n",
    "    \"\"\"\n",
    "    Return a Tensor for a batch of label input\n",
    "    : n_classes: Number of classes\n",
    "    : return: Tensor for label input.\n",
    "    \"\"\"\n",
    "    # TODO: Implement Function\n",
    "    return tf.placeholder(tf.float32, (None, n_classes), name='y')\n",
    "\n",
    "\n",
    "def neural_net_keep_prob_input():\n",
    "    \"\"\"\n",
    "    Return a Tensor for keep probability\n",
    "    : return: Tensor for keep probability.\n",
    "    \"\"\"\n",
    "    # TODO: Implement Function\n",
    "    return tf.placeholder(tf.float32, name='keep_prob')\n",
    "\n",
    "\n",
    "\"\"\"\n",
    "DON'T MODIFY ANYTHING IN THIS CELL THAT IS BELOW THIS LINE\n",
    "\"\"\"\n",
    "tf.reset_default_graph()\n",
    "tests.test_nn_image_inputs(neural_net_image_input)\n",
    "tests.test_nn_label_inputs(neural_net_label_input)\n",
    "tests.test_nn_keep_prob_inputs(neural_net_keep_prob_input)"
   ]
  },
  {
   "cell_type": "markdown",
   "metadata": {},
   "source": [
    "### 卷积和最大池化层\n",
    "\n",
    "卷积层级适合处理图片。对于此代码单元，你应该实现函数 `conv2d_maxpool` 以便应用卷积然后进行最大池化：\n",
    "\n",
    "* 使用 `conv_ksize`、`conv_num_outputs` 和 `x_tensor` 的形状创建权重（weight）和偏置（bias）。\n",
    "* 使用权重和 `conv_strides` 对 `x_tensor` 应用卷积。\n",
    " * 建议使用我们建议的间距（padding），当然也可以使用任何其他间距。\n",
    "* 添加偏置\n",
    "* 向卷积中添加非线性激活（nonlinear activation）\n",
    "* 使用 `pool_ksize` 和 `pool_strides` 应用最大池化\n",
    " * 建议使用我们建议的间距（padding），当然也可以使用任何其他间距。\n",
    "\n",
    "**注意**：对于**此层**，**请勿使用** [TensorFlow Layers](https://www.tensorflow.org/api_docs/python/tf/layers) 或 [TensorFlow Layers (contrib)](https://www.tensorflow.org/api_guides/python/contrib.layers)，但是仍然可以使用 TensorFlow 的 [Neural Network](https://www.tensorflow.org/api_docs/python/tf/nn) 包。对于所有**其他层**，你依然可以使用快捷方法。\n"
   ]
  },
  {
   "cell_type": "code",
   "execution_count": 8,
   "metadata": {},
   "outputs": [
    {
     "name": "stdout",
     "output_type": "stream",
     "text": [
      "Tests Passed\n"
     ]
    }
   ],
   "source": [
    "def conv2d_maxpool(x_tensor, conv_num_outputs, conv_ksize, conv_strides, pool_ksize, pool_strides):\n",
    "    \"\"\"\n",
    "    Apply convolution then max pooling to x_tensor\n",
    "    :param x_tensor: TensorFlow Tensor\n",
    "    :param conv_num_outputs: Number of outputs for the convolutional layer\n",
    "    :param conv_ksize: kernal size 2-D Tuple for the convolutional layer\n",
    "    :param conv_strides: Stride 2-D Tuple for convolution\n",
    "    :param pool_ksize: kernal size 2-D Tuple for pool\n",
    "    :param pool_strides: Stride 2-D Tuple for pool\n",
    "    : return: A tensor that represents convolution and max pooling of x_tensor\n",
    "    \"\"\"\n",
    "    # TODO: Implement Function\n",
    "    weights = tf.Variable(tf.truncated_normal([conv_ksize[0], conv_ksize[1], int(x_tensor.shape[3]), conv_num_outputs]))\n",
    "    biases = tf.Variable(tf.zeros(conv_num_outputs))\n",
    "    layer = tf.nn.conv2d(x_tensor, weights, (1, conv_strides[0], conv_strides[1], 1), padding='SAME')\n",
    "    layer = tf.nn.bias_add(layer, biases)\n",
    "    layer = tf.nn.relu(layer)\n",
    "    return tf.nn.max_pool(layer, (1, pool_ksize[0], pool_ksize[1], 1), (1, pool_strides[0], pool_strides[1], 1), 'SAME')\n",
    "\n",
    "\n",
    "\"\"\"\n",
    "DON'T MODIFY ANYTHING IN THIS CELL THAT IS BELOW THIS LINE\n",
    "\"\"\"\n",
    "tests.test_con_pool(conv2d_maxpool)"
   ]
  },
  {
   "cell_type": "markdown",
   "metadata": {},
   "source": [
    "### 扁平化层\n",
    "\n",
    "实现 `flatten` 函数，将 `x_tensor` 的维度从四维张量（4-D tensor）变成二维张量。输出应该是形状（*部分大小（Batch Size）*，*扁平化图片大小（Flattened Image Size）*）。快捷方法：对于此层，你可以使用 [TensorFlow Layers](https://www.tensorflow.org/api_docs/python/tf/layers) 或 [TensorFlow Layers (contrib)](https://www.tensorflow.org/api_guides/python/contrib.layers) 包中的类。如果你想要更大挑战，可以仅使用其他 TensorFlow 程序包。\n"
   ]
  },
  {
   "cell_type": "code",
   "execution_count": 9,
   "metadata": {},
   "outputs": [
    {
     "name": "stdout",
     "output_type": "stream",
     "text": [
      "Tests Passed\n"
     ]
    }
   ],
   "source": [
    "def flatten(x_tensor):\n",
    "    \"\"\"\n",
    "    Flatten x_tensor to (Batch Size, Flattened Image Size)\n",
    "    : x_tensor: A tensor of size (Batch Size, ...), where ... are the image dimensions.\n",
    "    : return: A tensor of size (Batch Size, Flattened Image Size).\n",
    "    \"\"\"\n",
    "    # TODO: Implement Functio\n",
    "    return tf.contrib.layers.flatten(x_tensor)\n",
    "    # 诡异，以下code无法通过\n",
    "    #s = np.prod(x_tensor.shape[1:])\n",
    "    #return tf.reshape(x_tensor, (-1, s))\n",
    "\n",
    "\n",
    "\"\"\"\n",
    "DON'T MODIFY ANYTHING IN THIS CELL THAT IS BELOW THIS LINE\n",
    "\"\"\"\n",
    "tests.test_flatten(flatten)"
   ]
  },
  {
   "cell_type": "markdown",
   "metadata": {},
   "source": [
    "### 完全连接的层\n",
    "\n",
    "实现 `fully_conn` 函数，以向 `x_tensor` 应用完全连接的层级，形状为（*部分大小（Batch Size）*，*num_outputs*）。快捷方法：对于此层，你可以使用 [TensorFlow Layers](https://www.tensorflow.org/api_docs/python/tf/layers) 或 [TensorFlow Layers (contrib)](https://www.tensorflow.org/api_guides/python/contrib.layers) 包中的类。如果你想要更大挑战，可以仅使用其他 TensorFlow 程序包。"
   ]
  },
  {
   "cell_type": "code",
   "execution_count": 10,
   "metadata": {},
   "outputs": [
    {
     "name": "stdout",
     "output_type": "stream",
     "text": [
      "Tests Passed\n"
     ]
    }
   ],
   "source": [
    "def fully_conn(x_tensor, num_outputs):\n",
    "    \"\"\"\n",
    "    Apply a fully connected layer to x_tensor using weight and bias\n",
    "    : x_tensor: A 2-D tensor where the first dimension is batch size.\n",
    "    : num_outputs: The number of output that the new tensor should be.\n",
    "    : return: A 2-D tensor where the second dimension is num_outputs.\n",
    "    \"\"\"\n",
    "    # TODO: Implement Function\n",
    "    fc = tf.layers.dense(x_tensor, num_outputs, activation=tf.nn.relu)\n",
    "    tf.nn.dropout(fc, ke)\n",
    "\n",
    "\n",
    "\"\"\"\n",
    "DON'T MODIFY ANYTHING IN THIS CELL THAT IS BELOW THIS LINE\n",
    "\"\"\"\n",
    "tests.test_fully_conn(fully_conn)"
   ]
  },
  {
   "cell_type": "markdown",
   "metadata": {},
   "source": [
    "### 输出层\n",
    "\n",
    "实现 `output` 函数，向 x_tensor 应用完全连接的层级，形状为（*部分大小（Batch Size）*，*num_outputs*）。快捷方法：对于此层，你可以使用 [TensorFlow Layers](https://www.tensorflow.org/api_docs/python/tf/layers) 或 [TensorFlow Layers (contrib)](https://www.tensorflow.org/api_guides/python/contrib.layers) 包中的类。如果你想要更大挑战，可以仅使用其他 TensorFlow 程序包。\n",
    "\n",
    "**注意**：该层级不应应用 Activation、softmax 或交叉熵（cross entropy）。"
   ]
  },
  {
   "cell_type": "code",
   "execution_count": 11,
   "metadata": {},
   "outputs": [
    {
     "name": "stdout",
     "output_type": "stream",
     "text": [
      "Tests Passed\n"
     ]
    }
   ],
   "source": [
    "def output(x_tensor, num_outputs):\n",
    "    \"\"\"\n",
    "    Apply a output layer to x_tensor using weight and bias\n",
    "    : x_tensor: A 2-D tensor where the first dimension is batch size.\n",
    "    : num_outputs: The number of output that the new tensor should be.\n",
    "    : return: A 2-D tensor where the second dimension is num_outputs.\n",
    "    \"\"\"\n",
    "    # TODO: Implement Function\n",
    "    return tf.layers.dense(x_tensor, num_outputs)\n",
    "\n",
    "\n",
    "\"\"\"\n",
    "DON'T MODIFY ANYTHING IN THIS CELL THAT IS BELOW THIS LINE\n",
    "\"\"\"\n",
    "tests.test_output(output)"
   ]
  },
  {
   "cell_type": "markdown",
   "metadata": {},
   "source": [
    "### 创建卷积模型\n",
    "\n",
    "实现函数 `conv_net`， 创建卷积神经网络模型。该函数传入一批图片 `x`，并输出对数（logits）。使用你在上方创建的层创建此模型：\n",
    "\n",
    "* 应用 1、2 或 3 个卷积和最大池化层（Convolution and Max Pool layers）\n",
    "* 应用一个扁平层（Flatten Layer）\n",
    "* 应用 1、2 或 3 个完全连接层（Fully Connected Layers）\n",
    "* 应用一个输出层（Output Layer）\n",
    "* 返回输出\n",
    "* 使用 `keep_prob` 向模型中的一个或多个层应用 [TensorFlow 的 Dropout](https://www.tensorflow.org/api_docs/python/tf/nn/dropout)"
   ]
  },
  {
   "cell_type": "code",
   "execution_count": 87,
   "metadata": {},
   "outputs": [
    {
     "name": "stdout",
     "output_type": "stream",
     "text": [
      "Neural Network Built!\n"
     ]
    }
   ],
   "source": [
    "def conv_net(x, keep_prob):\n",
    "    \"\"\"\n",
    "    Create a convolutional neural network model\n",
    "    : x: Placeholder tensor that holds image data.\n",
    "    : keep_prob: Placeholder tensor that hold dropout keep probability.\n",
    "    : return: Tensor that represents logits\n",
    "    \"\"\"\n",
    "    # TODO: Apply 1, 2, or 3 Convolution and Max Pool layers\n",
    "    #    Play around with different number of outputs, kernel size and stride\n",
    "    # Function Definition from Above:\n",
    "    #    conv2d_maxpool(x_tensor, conv_num_outputs, conv_ksize, conv_strides, pool_ksize, pool_strides)\n",
    "    #32x32x3\n",
    "    conv = conv2d_maxpool(x, 32, (3, 3), (1, 1), (2, 2), (2, 2))\n",
    "    #conv = tf.nn.dropout(conv, keep_prob)\n",
    "    #16x16x16\n",
    "    conv = conv2d_maxpool(conv, 64, (3, 3), (1, 1), (2, 2), (2, 2))\n",
    "    #conv = tf.nn.dropout(conv, keep_prob)\n",
    "    #8x8x64\n",
    "    #conv = conv2d_maxpool(conv, 128, (3, 3), (1, 1), (2, 2), (2, 2))\n",
    "    #conv = tf.nn.dropout(conv, keep_prob)\n",
    "    #4x4x128\n",
    "    \n",
    "    # TODO: Apply a Flatten Layer\n",
    "    # Function Definition from Above:\n",
    "    #   flatten(x_tensor)\n",
    "    fc = flatten(conv)\n",
    "    #fc = tf.nn.dropout(fc, keep_prob)\n",
    "\n",
    "    # TODO: Apply 1, 2, or 3 Fully Connected Layers\n",
    "    #    Play around with different number of outputs\n",
    "    # Function Definition from Above:\n",
    "    #   fully_conn(x_tensor, num_outputs)\n",
    "    fc = fully_conn(fc, 1024)\n",
    "    fc = tf.nn.dropout(fc, keep_prob)\n",
    "    #fc = tf.nn.dropout(fc, keep_prob)\n",
    "    #fc = fully_conn(fc, 64)\n",
    "    #fc = fully_conn(fc, 32)\n",
    "    \n",
    "    # TODO: Apply an Output Layer\n",
    "    #    Set this to the number of classes\n",
    "    # Function Definition from Above:\n",
    "    #   output(x_tensor, num_outputs)\n",
    "    logits = output(fc, 10)\n",
    "    \n",
    "    # TODO: return output\n",
    "    return logits\n",
    "\n",
    "\n",
    "\"\"\"\n",
    "DON'T MODIFY ANYTHING IN THIS CELL THAT IS BELOW THIS LINE\n",
    "\"\"\"\n",
    "\n",
    "##############################\n",
    "## Build the Neural Network ##\n",
    "##############################\n",
    "\n",
    "# Remove previous weights, bias, inputs, etc..\n",
    "tf.reset_default_graph()\n",
    "\n",
    "# Inputs\n",
    "x = neural_net_image_input((32, 32, 3))\n",
    "y = neural_net_label_input(10)\n",
    "keep_prob = neural_net_keep_prob_input()\n",
    "\n",
    "# Model\n",
    "logits = conv_net(x, keep_prob)\n",
    "\n",
    "# Name logits Tensor, so that is can be loaded from disk after training\n",
    "logits = tf.identity(logits, name='logits')\n",
    "\n",
    "# Loss and Optimizer\n",
    "cost = tf.reduce_mean(tf.nn.softmax_cross_entropy_with_logits(logits=logits, labels=y))\n",
    "optimizer = tf.train.AdamOptimizer().minimize(cost)\n",
    "\n",
    "# Accuracy\n",
    "correct_pred = tf.equal(tf.argmax(logits, 1), tf.argmax(y, 1))\n",
    "accuracy = tf.reduce_mean(tf.cast(correct_pred, tf.float32), name='accuracy')\n",
    "\n",
    "tests.test_conv_net(conv_net)"
   ]
  },
  {
   "cell_type": "markdown",
   "metadata": {},
   "source": [
    "## 训练神经网络\n",
    "\n",
    "### 单次优化\n",
    "\n",
    "实现函数 `train_neural_network` 以进行单次优化（single optimization）。该优化应该使用 `optimizer` 优化 `session`，其中 `feed_dict` 具有以下参数：\n",
    "\n",
    "* `x` 表示图片输入\n",
    "* `y` 表示标签\n",
    "* `keep_prob` 表示丢弃的保留率\n",
    "\n",
    "每个部分都会调用该函数，所以 `tf.global_variables_initializer()` 已经被调用。\n",
    "\n",
    "注意：不需要返回任何内容。该函数只是用来优化神经网络。\n"
   ]
  },
  {
   "cell_type": "code",
   "execution_count": 88,
   "metadata": {},
   "outputs": [
    {
     "name": "stdout",
     "output_type": "stream",
     "text": [
      "Tests Passed\n"
     ]
    }
   ],
   "source": [
    "def train_neural_network(session, optimizer, keep_probability, feature_batch, label_batch):\n",
    "    \"\"\"\n",
    "    Optimize the session on a batch of images and labels\n",
    "    : session: Current TensorFlow session\n",
    "    : optimizer: TensorFlow optimizer function\n",
    "    : keep_probability: keep probability\n",
    "    : feature_batch: Batch of Numpy image data\n",
    "    : label_batch: Batch of Numpy label data\n",
    "    \"\"\"\n",
    "    # TODO: Implement Function\n",
    "    session.run(optimizer, feed_dict={x: feature_batch, y: label_batch, keep_prob: keep_probability})\n",
    "\n",
    "\n",
    "\"\"\"\n",
    "DON'T MODIFY ANYTHING IN THIS CELL THAT IS BELOW THIS LINE\n",
    "\"\"\"\n",
    "tests.test_train_nn(train_neural_network)"
   ]
  },
  {
   "cell_type": "markdown",
   "metadata": {},
   "source": [
    "### 显示数据\n",
    "\n",
    "实现函数 `print_stats` 以输出损失和验证准确率。使用全局变量 `valid_features` 和 `valid_labels` 计算验证准确率。使用保留率 `1.0` 计算损失和验证准确率（loss and validation accuracy）。\n"
   ]
  },
  {
   "cell_type": "code",
   "execution_count": 89,
   "metadata": {},
   "outputs": [],
   "source": [
    "def print_stats(session, feature_batch, label_batch, cost, accuracy):\n",
    "    \"\"\"\n",
    "    Print information about loss and validation accuracy\n",
    "    : session: Current TensorFlow session\n",
    "    : feature_batch: Batch of Numpy image data\n",
    "    : label_batch: Batch of Numpy label data\n",
    "    : cost: TensorFlow cost function\n",
    "    : accuracy: TensorFlow accuracy function\n",
    "    \"\"\"\n",
    "    # TODO: Implement Function\n",
    "    c = session.run(cost, feed_dict={\n",
    "            x: feature_batch,\n",
    "            y: label_batch,\n",
    "            keep_prob: 1.0\n",
    "        })\n",
    "    acc = session.run(accuracy, feed_dict={\n",
    "            x: feature_batch,\n",
    "            y: label_batch,\n",
    "            keep_prob: 1.0\n",
    "        })\n",
    "    print('Cost:{} Accuracy:{}'.format(c, acc))"
   ]
  },
  {
   "cell_type": "markdown",
   "metadata": {},
   "source": [
    "### 超参数\n",
    "\n",
    "调试以下超参数：\n",
    "* 设置 `epochs` 表示神经网络停止学习或开始过拟合的迭代次数\n",
    "* 设置 `batch_size`，表示机器内存允许的部分最大体积。大部分人设为以下常见内存大小：\n",
    "\n",
    " * 64\n",
    " * 128\n",
    " * 256\n",
    " * ...\n",
    "* 设置 `keep_probability` 表示使用丢弃时保留节点的概率"
   ]
  },
  {
   "cell_type": "code",
   "execution_count": 90,
   "metadata": {
    "collapsed": true
   },
   "outputs": [],
   "source": [
    "# TODO: Tune Parameters\n",
    "epochs = 50\n",
    "batch_size = 128\n",
    "keep_probability = 0.5"
   ]
  },
  {
   "cell_type": "markdown",
   "metadata": {},
   "source": [
    "### 在单个 CIFAR-10 部分上训练\n",
    "\n",
    "我们先用单个部分，而不是用所有的 CIFAR-10 批次训练神经网络。这样可以节省时间，并对模型进行迭代，以提高准确率。最终验证准确率达到 50% 或以上之后，在下一部分对所有数据运行模型。\n"
   ]
  },
  {
   "cell_type": "code",
   "execution_count": 91,
   "metadata": {},
   "outputs": [
    {
     "name": "stdout",
     "output_type": "stream",
     "text": [
      "Checking the Training on a Single Batch...\n",
      "Epoch  1, CIFAR-10 Batch 1:  Cost:2.0454280376434326 Accuracy:0.22500000894069672\n",
      "Epoch  2, CIFAR-10 Batch 1:  Cost:2.07412052154541 Accuracy:0.20000000298023224\n",
      "Epoch  3, CIFAR-10 Batch 1:  Cost:2.0264811515808105 Accuracy:0.15000000596046448\n",
      "Epoch  4, CIFAR-10 Batch 1:  Cost:1.9694530963897705 Accuracy:0.20000000298023224\n",
      "Epoch  5, CIFAR-10 Batch 1:  Cost:2.0466978549957275 Accuracy:0.30000001192092896\n",
      "Epoch  6, CIFAR-10 Batch 1:  Cost:1.9027700424194336 Accuracy:0.2750000059604645\n",
      "Epoch  7, CIFAR-10 Batch 1:  Cost:1.8500218391418457 Accuracy:0.375\n",
      "Epoch  8, CIFAR-10 Batch 1:  Cost:1.838265299797058 Accuracy:0.3500000238418579\n",
      "Epoch  9, CIFAR-10 Batch 1:  Cost:1.8549909591674805 Accuracy:0.3499999940395355\n",
      "Epoch 10, CIFAR-10 Batch 1:  Cost:1.7366694211959839 Accuracy:0.4000000059604645\n",
      "Epoch 11, CIFAR-10 Batch 1:  Cost:1.8028712272644043 Accuracy:0.42500001192092896\n",
      "Epoch 12, CIFAR-10 Batch 1:  Cost:1.752795696258545 Accuracy:0.32499998807907104\n",
      "Epoch 13, CIFAR-10 Batch 1:  Cost:1.716037631034851 Accuracy:0.2750000059604645\n",
      "Epoch 14, CIFAR-10 Batch 1:  Cost:1.7032889127731323 Accuracy:0.32499998807907104\n",
      "Epoch 15, CIFAR-10 Batch 1:  Cost:1.6117836236953735 Accuracy:0.42500001192092896\n",
      "Epoch 16, CIFAR-10 Batch 1:  Cost:1.6186469793319702 Accuracy:0.5\n",
      "Epoch 17, CIFAR-10 Batch 1:  Cost:1.630699634552002 Accuracy:0.375\n",
      "Epoch 18, CIFAR-10 Batch 1:  Cost:1.5919557809829712 Accuracy:0.3499999940395355\n",
      "Epoch 19, CIFAR-10 Batch 1:  Cost:1.564493179321289 Accuracy:0.42500001192092896\n",
      "Epoch 20, CIFAR-10 Batch 1:  Cost:1.4777584075927734 Accuracy:0.4999999701976776\n",
      "Epoch 21, CIFAR-10 Batch 1:  Cost:1.3695449829101562 Accuracy:0.5\n",
      "Epoch 22, CIFAR-10 Batch 1:  Cost:1.3133516311645508 Accuracy:0.4749999940395355\n",
      "Epoch 23, CIFAR-10 Batch 1:  Cost:1.3622850179672241 Accuracy:0.5250000357627869\n",
      "Epoch 24, CIFAR-10 Batch 1:  Cost:1.29764723777771 Accuracy:0.550000011920929\n",
      "Epoch 25, CIFAR-10 Batch 1:  Cost:1.2567627429962158 Accuracy:0.5\n",
      "Epoch 26, CIFAR-10 Batch 1:  Cost:1.3191534280776978 Accuracy:0.5\n",
      "Epoch 27, CIFAR-10 Batch 1:  Cost:1.3238751888275146 Accuracy:0.4749999940395355\n",
      "Epoch 28, CIFAR-10 Batch 1:  Cost:1.2484833002090454 Accuracy:0.5750000476837158\n",
      "Epoch 29, CIFAR-10 Batch 1:  Cost:1.2299449443817139 Accuracy:0.5750000476837158\n",
      "Epoch 30, CIFAR-10 Batch 1:  Cost:1.2259776592254639 Accuracy:0.5249999761581421\n",
      "Epoch 31, CIFAR-10 Batch 1:  Cost:1.1952636241912842 Accuracy:0.5250000357627869\n",
      "Epoch 32, CIFAR-10 Batch 1:  Cost:1.0646390914916992 Accuracy:0.6000000238418579\n",
      "Epoch 33, CIFAR-10 Batch 1:  Cost:1.139762282371521 Accuracy:0.5750000476837158\n",
      "Epoch 34, CIFAR-10 Batch 1:  Cost:1.0480676889419556 Accuracy:0.7250000238418579\n",
      "Epoch 35, CIFAR-10 Batch 1:  Cost:1.091322660446167 Accuracy:0.5\n",
      "Epoch 36, CIFAR-10 Batch 1:  Cost:1.0322679281234741 Accuracy:0.7250000238418579\n",
      "Epoch 37, CIFAR-10 Batch 1:  Cost:1.0043561458587646 Accuracy:0.6499999761581421\n",
      "Epoch 38, CIFAR-10 Batch 1:  Cost:1.0366759300231934 Accuracy:0.574999988079071\n",
      "Epoch 39, CIFAR-10 Batch 1:  Cost:0.9016565680503845 Accuracy:0.6749999523162842\n",
      "Epoch 40, CIFAR-10 Batch 1:  Cost:0.9749194979667664 Accuracy:0.8250000476837158\n",
      "Epoch 41, CIFAR-10 Batch 1:  Cost:0.939402163028717 Accuracy:0.7250000238418579\n",
      "Epoch 42, CIFAR-10 Batch 1:  Cost:0.9321957230567932 Accuracy:0.6499999761581421\n",
      "Epoch 43, CIFAR-10 Batch 1:  Cost:0.921673059463501 Accuracy:0.699999988079071\n",
      "Epoch 44, CIFAR-10 Batch 1:  Cost:0.8348482847213745 Accuracy:0.7250000238418579\n",
      "Epoch 45, CIFAR-10 Batch 1:  Cost:0.7474136352539062 Accuracy:0.7000000476837158\n",
      "Epoch 46, CIFAR-10 Batch 1:  Cost:0.8658856153488159 Accuracy:0.675000011920929\n",
      "Epoch 47, CIFAR-10 Batch 1:  Cost:0.8052211999893188 Accuracy:0.75\n",
      "Epoch 48, CIFAR-10 Batch 1:  Cost:0.7872506380081177 Accuracy:0.6749999523162842\n",
      "Epoch 49, CIFAR-10 Batch 1:  Cost:0.7063956260681152 Accuracy:0.7250000238418579\n",
      "Epoch 50, CIFAR-10 Batch 1:  Cost:0.7156732082366943 Accuracy:0.7000000476837158\n"
     ]
    }
   ],
   "source": [
    "\"\"\"\n",
    "DON'T MODIFY ANYTHING IN THIS CELL\n",
    "\"\"\"\n",
    "print('Checking the Training on a Single Batch...')\n",
    "with tf.Session() as sess:\n",
    "    # Initializing the variables\n",
    "    sess.run(tf.global_variables_initializer())\n",
    "    \n",
    "    # Training cycle\n",
    "    for epoch in range(epochs):\n",
    "        batch_i = 1\n",
    "        for batch_features, batch_labels in helper.load_preprocess_training_batch(batch_i, batch_size):\n",
    "            train_neural_network(sess, optimizer, keep_probability, batch_features, batch_labels)\n",
    "        print('Epoch {:>2}, CIFAR-10 Batch {}:  '.format(epoch + 1, batch_i), end='')\n",
    "        print_stats(sess, batch_features, batch_labels, cost, accuracy)"
   ]
  },
  {
   "cell_type": "markdown",
   "metadata": {},
   "source": [
    "### 完全训练模型\n",
    "\n",
    "现在，单个 CIFAR-10 部分的准确率已经不错了，试试所有五个部分吧。"
   ]
  },
  {
   "cell_type": "code",
   "execution_count": 92,
   "metadata": {},
   "outputs": [
    {
     "name": "stdout",
     "output_type": "stream",
     "text": [
      "Training...\n",
      "Epoch  1, CIFAR-10 Batch 1:  Cost:2.27677059173584 Accuracy:0.20000000298023224\n",
      "Epoch  1, CIFAR-10 Batch 2:  Cost:2.2647926807403564 Accuracy:0.05000000074505806\n",
      "Epoch  1, CIFAR-10 Batch 3:  Cost:2.2251152992248535 Accuracy:0.125\n",
      "Epoch  1, CIFAR-10 Batch 4:  Cost:2.136559009552002 Accuracy:0.25\n",
      "Epoch  1, CIFAR-10 Batch 5:  Cost:2.1832540035247803 Accuracy:0.22500000894069672\n",
      "Epoch  2, CIFAR-10 Batch 1:  Cost:2.1418983936309814 Accuracy:0.22500000894069672\n",
      "Epoch  2, CIFAR-10 Batch 2:  Cost:2.066014528274536 Accuracy:0.07500000298023224\n",
      "Epoch  2, CIFAR-10 Batch 3:  Cost:1.997452974319458 Accuracy:0.125\n",
      "Epoch  2, CIFAR-10 Batch 4:  Cost:1.8860758543014526 Accuracy:0.32500001788139343\n",
      "Epoch  2, CIFAR-10 Batch 5:  Cost:1.8549860715866089 Accuracy:0.30000001192092896\n",
      "Epoch  3, CIFAR-10 Batch 1:  Cost:2.0267984867095947 Accuracy:0.25\n",
      "Epoch  3, CIFAR-10 Batch 2:  Cost:1.9455101490020752 Accuracy:0.17499999701976776\n",
      "Epoch  3, CIFAR-10 Batch 3:  Cost:1.8128095865249634 Accuracy:0.25\n",
      "Epoch  3, CIFAR-10 Batch 4:  Cost:1.8671438694000244 Accuracy:0.30000001192092896\n",
      "Epoch  3, CIFAR-10 Batch 5:  Cost:1.7459994554519653 Accuracy:0.32500001788139343\n",
      "Epoch  4, CIFAR-10 Batch 1:  Cost:2.017484426498413 Accuracy:0.30000001192092896\n",
      "Epoch  4, CIFAR-10 Batch 2:  Cost:1.8738608360290527 Accuracy:0.2750000059604645\n",
      "Epoch  4, CIFAR-10 Batch 3:  Cost:1.7922580242156982 Accuracy:0.15000000596046448\n",
      "Epoch  4, CIFAR-10 Batch 4:  Cost:1.810491681098938 Accuracy:0.2750000059604645\n",
      "Epoch  4, CIFAR-10 Batch 5:  Cost:1.7425382137298584 Accuracy:0.3750000298023224\n",
      "Epoch  5, CIFAR-10 Batch 1:  Cost:1.9403104782104492 Accuracy:0.32499998807907104\n",
      "Epoch  5, CIFAR-10 Batch 2:  Cost:1.8332070112228394 Accuracy:0.3500000238418579\n",
      "Epoch  5, CIFAR-10 Batch 3:  Cost:1.7113256454467773 Accuracy:0.22500000894069672\n",
      "Epoch  5, CIFAR-10 Batch 4:  Cost:1.8121260404586792 Accuracy:0.22500000894069672\n",
      "Epoch  5, CIFAR-10 Batch 5:  Cost:1.6533743143081665 Accuracy:0.3500000238418579\n",
      "Epoch  6, CIFAR-10 Batch 1:  Cost:1.932379961013794 Accuracy:0.30000001192092896\n",
      "Epoch  6, CIFAR-10 Batch 2:  Cost:1.818372368812561 Accuracy:0.32500001788139343\n",
      "Epoch  6, CIFAR-10 Batch 3:  Cost:1.6585736274719238 Accuracy:0.2750000059604645\n",
      "Epoch  6, CIFAR-10 Batch 4:  Cost:1.8032987117767334 Accuracy:0.2750000059604645\n",
      "Epoch  6, CIFAR-10 Batch 5:  Cost:1.6367695331573486 Accuracy:0.45000001788139343\n",
      "Epoch  7, CIFAR-10 Batch 1:  Cost:1.8527332544326782 Accuracy:0.15000000596046448\n",
      "Epoch  7, CIFAR-10 Batch 2:  Cost:1.7489802837371826 Accuracy:0.42500001192092896\n",
      "Epoch  7, CIFAR-10 Batch 3:  Cost:1.6116290092468262 Accuracy:0.3500000238418579\n",
      "Epoch  7, CIFAR-10 Batch 4:  Cost:1.693498134613037 Accuracy:0.25\n",
      "Epoch  7, CIFAR-10 Batch 5:  Cost:1.665366530418396 Accuracy:0.40000003576278687\n",
      "Epoch  8, CIFAR-10 Batch 1:  Cost:1.819624900817871 Accuracy:0.30000001192092896\n",
      "Epoch  8, CIFAR-10 Batch 2:  Cost:1.7181950807571411 Accuracy:0.42499998211860657\n",
      "Epoch  8, CIFAR-10 Batch 3:  Cost:1.6190344095230103 Accuracy:0.3500000238418579\n",
      "Epoch  8, CIFAR-10 Batch 4:  Cost:1.687474250793457 Accuracy:0.25\n",
      "Epoch  8, CIFAR-10 Batch 5:  Cost:1.5668299198150635 Accuracy:0.5\n",
      "Epoch  9, CIFAR-10 Batch 1:  Cost:1.7879337072372437 Accuracy:0.2750000059604645\n",
      "Epoch  9, CIFAR-10 Batch 2:  Cost:1.692384958267212 Accuracy:0.2750000059604645\n",
      "Epoch  9, CIFAR-10 Batch 3:  Cost:1.5531411170959473 Accuracy:0.44999998807907104\n",
      "Epoch  9, CIFAR-10 Batch 4:  Cost:1.6803152561187744 Accuracy:0.25\n",
      "Epoch  9, CIFAR-10 Batch 5:  Cost:1.6333587169647217 Accuracy:0.375\n",
      "Epoch 10, CIFAR-10 Batch 1:  Cost:1.7412692308425903 Accuracy:0.25\n",
      "Epoch 10, CIFAR-10 Batch 2:  Cost:1.64603853225708 Accuracy:0.4000000059604645\n",
      "Epoch 10, CIFAR-10 Batch 3:  Cost:1.5551080703735352 Accuracy:0.32500001788139343\n",
      "Epoch 10, CIFAR-10 Batch 4:  Cost:1.6003860235214233 Accuracy:0.25\n",
      "Epoch 10, CIFAR-10 Batch 5:  Cost:1.4565904140472412 Accuracy:0.550000011920929\n",
      "Epoch 11, CIFAR-10 Batch 1:  Cost:1.7283223867416382 Accuracy:0.375\n",
      "Epoch 11, CIFAR-10 Batch 2:  Cost:1.6430068016052246 Accuracy:0.32500001788139343\n",
      "Epoch 11, CIFAR-10 Batch 3:  Cost:1.5323469638824463 Accuracy:0.44999998807907104\n",
      "Epoch 11, CIFAR-10 Batch 4:  Cost:1.6173195838928223 Accuracy:0.32499998807907104\n",
      "Epoch 11, CIFAR-10 Batch 5:  Cost:1.4114153385162354 Accuracy:0.6000000238418579\n",
      "Epoch 12, CIFAR-10 Batch 1:  Cost:1.6725784540176392 Accuracy:0.375\n",
      "Epoch 12, CIFAR-10 Batch 2:  Cost:1.5698145627975464 Accuracy:0.2750000059604645\n",
      "Epoch 12, CIFAR-10 Batch 3:  Cost:1.4941034317016602 Accuracy:0.42500001192092896\n",
      "Epoch 12, CIFAR-10 Batch 4:  Cost:1.5649058818817139 Accuracy:0.40000003576278687\n",
      "Epoch 12, CIFAR-10 Batch 5:  Cost:1.3575173616409302 Accuracy:0.574999988079071\n",
      "Epoch 13, CIFAR-10 Batch 1:  Cost:1.5841553211212158 Accuracy:0.4000000059604645\n",
      "Epoch 13, CIFAR-10 Batch 2:  Cost:1.462965965270996 Accuracy:0.375\n",
      "Epoch 13, CIFAR-10 Batch 3:  Cost:1.440298080444336 Accuracy:0.5\n",
      "Epoch 13, CIFAR-10 Batch 4:  Cost:1.5397711992263794 Accuracy:0.375\n",
      "Epoch 13, CIFAR-10 Batch 5:  Cost:1.3250412940979004 Accuracy:0.5750000476837158\n",
      "Epoch 14, CIFAR-10 Batch 1:  Cost:1.6296517848968506 Accuracy:0.32499998807907104\n",
      "Epoch 14, CIFAR-10 Batch 2:  Cost:1.3948167562484741 Accuracy:0.3500000238418579\n",
      "Epoch 14, CIFAR-10 Batch 3:  Cost:1.3633447885513306 Accuracy:0.47499996423721313\n",
      "Epoch 14, CIFAR-10 Batch 4:  Cost:1.4992340803146362 Accuracy:0.375\n",
      "Epoch 14, CIFAR-10 Batch 5:  Cost:1.2379841804504395 Accuracy:0.5249999761581421\n",
      "Epoch 15, CIFAR-10 Batch 1:  Cost:1.525071144104004 Accuracy:0.4000000059604645\n",
      "Epoch 15, CIFAR-10 Batch 2:  Cost:1.2438441514968872 Accuracy:0.625\n",
      "Epoch 15, CIFAR-10 Batch 3:  Cost:1.1684157848358154 Accuracy:0.550000011920929\n",
      "Epoch 15, CIFAR-10 Batch 4:  Cost:1.4025623798370361 Accuracy:0.5250000357627869\n",
      "Epoch 15, CIFAR-10 Batch 5:  Cost:1.2652583122253418 Accuracy:0.5750000476837158\n",
      "Epoch 16, CIFAR-10 Batch 1:  Cost:1.4774818420410156 Accuracy:0.5\n",
      "Epoch 16, CIFAR-10 Batch 2:  Cost:1.1399106979370117 Accuracy:0.6500000357627869\n",
      "Epoch 16, CIFAR-10 Batch 3:  Cost:1.1782478094100952 Accuracy:0.625\n",
      "Epoch 16, CIFAR-10 Batch 4:  Cost:1.3163561820983887 Accuracy:0.625\n",
      "Epoch 16, CIFAR-10 Batch 5:  Cost:1.0976570844650269 Accuracy:0.625\n",
      "Epoch 17, CIFAR-10 Batch 1:  Cost:1.4829180240631104 Accuracy:0.4000000059604645\n",
      "Epoch 17, CIFAR-10 Batch 2:  Cost:1.0294773578643799 Accuracy:0.6499999761581421\n",
      "Epoch 17, CIFAR-10 Batch 3:  Cost:1.0887064933776855 Accuracy:0.625\n",
      "Epoch 17, CIFAR-10 Batch 4:  Cost:1.243864893913269 Accuracy:0.625\n",
      "Epoch 17, CIFAR-10 Batch 5:  Cost:1.0330052375793457 Accuracy:0.699999988079071\n",
      "Epoch 18, CIFAR-10 Batch 1:  Cost:1.3207547664642334 Accuracy:0.44999998807907104\n",
      "Epoch 18, CIFAR-10 Batch 2:  Cost:0.9444354772567749 Accuracy:0.75\n",
      "Epoch 18, CIFAR-10 Batch 3:  Cost:1.0162760019302368 Accuracy:0.625\n",
      "Epoch 18, CIFAR-10 Batch 4:  Cost:1.2176977396011353 Accuracy:0.625\n",
      "Epoch 18, CIFAR-10 Batch 5:  Cost:0.9856429696083069 Accuracy:0.7250000238418579\n",
      "Epoch 19, CIFAR-10 Batch 1:  Cost:1.1748833656311035 Accuracy:0.5750000476837158\n",
      "Epoch 19, CIFAR-10 Batch 2:  Cost:0.9294189214706421 Accuracy:0.675000011920929\n",
      "Epoch 19, CIFAR-10 Batch 3:  Cost:0.9410033226013184 Accuracy:0.6749999523162842\n",
      "Epoch 19, CIFAR-10 Batch 4:  Cost:1.1201012134552002 Accuracy:0.574999988079071\n",
      "Epoch 19, CIFAR-10 Batch 5:  Cost:0.9325361847877502 Accuracy:0.7000000476837158\n",
      "Epoch 20, CIFAR-10 Batch 1:  Cost:1.1003751754760742 Accuracy:0.6000000238418579\n",
      "Epoch 20, CIFAR-10 Batch 2:  Cost:0.8526743650436401 Accuracy:0.7000000476837158\n",
      "Epoch 20, CIFAR-10 Batch 3:  Cost:0.8865304589271545 Accuracy:0.7250000238418579\n",
      "Epoch 20, CIFAR-10 Batch 4:  Cost:1.090078592300415 Accuracy:0.6500000357627869\n",
      "Epoch 20, CIFAR-10 Batch 5:  Cost:0.9358723163604736 Accuracy:0.625\n",
      "Epoch 21, CIFAR-10 Batch 1:  Cost:1.0196319818496704 Accuracy:0.7000000476837158\n",
      "Epoch 21, CIFAR-10 Batch 2:  Cost:0.795397937297821 Accuracy:0.75\n",
      "Epoch 21, CIFAR-10 Batch 3:  Cost:0.8967013359069824 Accuracy:0.7250000238418579\n",
      "Epoch 21, CIFAR-10 Batch 4:  Cost:1.0399091243743896 Accuracy:0.625\n",
      "Epoch 21, CIFAR-10 Batch 5:  Cost:0.8483805060386658 Accuracy:0.7750000953674316\n",
      "Epoch 22, CIFAR-10 Batch 1:  Cost:0.9739457368850708 Accuracy:0.7000000476837158\n",
      "Epoch 22, CIFAR-10 Batch 2:  Cost:0.7964140772819519 Accuracy:0.7250000238418579\n"
     ]
    },
    {
     "name": "stdout",
     "output_type": "stream",
     "text": [
      "Epoch 22, CIFAR-10 Batch 3:  Cost:0.8701959848403931 Accuracy:0.7750000357627869\n",
      "Epoch 22, CIFAR-10 Batch 4:  Cost:1.0035752058029175 Accuracy:0.6499999761581421\n",
      "Epoch 22, CIFAR-10 Batch 5:  Cost:0.7752343416213989 Accuracy:0.7500000596046448\n",
      "Epoch 23, CIFAR-10 Batch 1:  Cost:0.8287113904953003 Accuracy:0.7250000238418579\n",
      "Epoch 23, CIFAR-10 Batch 2:  Cost:0.7351977825164795 Accuracy:0.8000000715255737\n",
      "Epoch 23, CIFAR-10 Batch 3:  Cost:0.7905964851379395 Accuracy:0.7749999761581421\n",
      "Epoch 23, CIFAR-10 Batch 4:  Cost:0.9086025953292847 Accuracy:0.6500000357627869\n",
      "Epoch 23, CIFAR-10 Batch 5:  Cost:0.7871300578117371 Accuracy:0.7500000596046448\n",
      "Epoch 24, CIFAR-10 Batch 1:  Cost:0.869971513748169 Accuracy:0.7000000476837158\n",
      "Epoch 24, CIFAR-10 Batch 2:  Cost:0.6854711771011353 Accuracy:0.800000011920929\n",
      "Epoch 24, CIFAR-10 Batch 3:  Cost:0.7451983690261841 Accuracy:0.7750000357627869\n",
      "Epoch 24, CIFAR-10 Batch 4:  Cost:0.8970256447792053 Accuracy:0.6500000357627869\n",
      "Epoch 24, CIFAR-10 Batch 5:  Cost:0.728329062461853 Accuracy:0.7750000357627869\n",
      "Epoch 25, CIFAR-10 Batch 1:  Cost:0.7755860090255737 Accuracy:0.7500000596046448\n",
      "Epoch 25, CIFAR-10 Batch 2:  Cost:0.5939830541610718 Accuracy:0.8999999761581421\n",
      "Epoch 25, CIFAR-10 Batch 3:  Cost:0.6827305555343628 Accuracy:0.8500000238418579\n",
      "Epoch 25, CIFAR-10 Batch 4:  Cost:0.8091001510620117 Accuracy:0.800000011920929\n",
      "Epoch 25, CIFAR-10 Batch 5:  Cost:0.7152479290962219 Accuracy:0.7500000596046448\n",
      "Epoch 26, CIFAR-10 Batch 1:  Cost:0.7371251583099365 Accuracy:0.7000000476837158\n",
      "Epoch 26, CIFAR-10 Batch 2:  Cost:0.5485244393348694 Accuracy:0.8750000596046448\n",
      "Epoch 26, CIFAR-10 Batch 3:  Cost:0.5693871378898621 Accuracy:0.824999988079071\n",
      "Epoch 26, CIFAR-10 Batch 4:  Cost:0.7981235980987549 Accuracy:0.7749999761581421\n",
      "Epoch 26, CIFAR-10 Batch 5:  Cost:0.6527994871139526 Accuracy:0.7749999761581421\n",
      "Epoch 27, CIFAR-10 Batch 1:  Cost:0.7055888175964355 Accuracy:0.7000000476837158\n",
      "Epoch 27, CIFAR-10 Batch 2:  Cost:0.5274556279182434 Accuracy:0.8500000238418579\n",
      "Epoch 27, CIFAR-10 Batch 3:  Cost:0.5930565595626831 Accuracy:0.800000011920929\n",
      "Epoch 27, CIFAR-10 Batch 4:  Cost:0.7568472027778625 Accuracy:0.7750000357627869\n",
      "Epoch 27, CIFAR-10 Batch 5:  Cost:0.7141114473342896 Accuracy:0.7749999761581421\n",
      "Epoch 28, CIFAR-10 Batch 1:  Cost:0.6731778383255005 Accuracy:0.7749999761581421\n",
      "Epoch 28, CIFAR-10 Batch 2:  Cost:0.5314415097236633 Accuracy:0.875\n",
      "Epoch 28, CIFAR-10 Batch 3:  Cost:0.47067299485206604 Accuracy:0.8750000596046448\n",
      "Epoch 28, CIFAR-10 Batch 4:  Cost:0.6825418472290039 Accuracy:0.800000011920929\n",
      "Epoch 28, CIFAR-10 Batch 5:  Cost:0.5933365821838379 Accuracy:0.8500000238418579\n",
      "Epoch 29, CIFAR-10 Batch 1:  Cost:0.5545389652252197 Accuracy:0.824999988079071\n",
      "Epoch 29, CIFAR-10 Batch 2:  Cost:0.4815601706504822 Accuracy:0.8750000596046448\n",
      "Epoch 29, CIFAR-10 Batch 3:  Cost:0.5357747077941895 Accuracy:0.875\n",
      "Epoch 29, CIFAR-10 Batch 4:  Cost:0.6364543437957764 Accuracy:0.8499999642372131\n",
      "Epoch 29, CIFAR-10 Batch 5:  Cost:0.5582053661346436 Accuracy:0.8500000238418579\n",
      "Epoch 30, CIFAR-10 Batch 1:  Cost:0.5836524963378906 Accuracy:0.800000011920929\n",
      "Epoch 30, CIFAR-10 Batch 2:  Cost:0.4068889021873474 Accuracy:0.9000000357627869\n",
      "Epoch 30, CIFAR-10 Batch 3:  Cost:0.43499135971069336 Accuracy:0.925000011920929\n",
      "Epoch 30, CIFAR-10 Batch 4:  Cost:0.6243688464164734 Accuracy:0.824999988079071\n",
      "Epoch 30, CIFAR-10 Batch 5:  Cost:0.596680760383606 Accuracy:0.8500000238418579\n",
      "Epoch 31, CIFAR-10 Batch 1:  Cost:0.5426743030548096 Accuracy:0.8250000476837158\n",
      "Epoch 31, CIFAR-10 Batch 2:  Cost:0.35716119408607483 Accuracy:0.925000011920929\n",
      "Epoch 31, CIFAR-10 Batch 3:  Cost:0.42733240127563477 Accuracy:0.9000000357627869\n",
      "Epoch 31, CIFAR-10 Batch 4:  Cost:0.5895500779151917 Accuracy:0.824999988079071\n",
      "Epoch 31, CIFAR-10 Batch 5:  Cost:0.5584774017333984 Accuracy:0.8250000476837158\n",
      "Epoch 32, CIFAR-10 Batch 1:  Cost:0.5375797748565674 Accuracy:0.8250000476837158\n",
      "Epoch 32, CIFAR-10 Batch 2:  Cost:0.3446093499660492 Accuracy:0.9750000238418579\n",
      "Epoch 32, CIFAR-10 Batch 3:  Cost:0.3888847231864929 Accuracy:0.9000000357627869\n",
      "Epoch 32, CIFAR-10 Batch 4:  Cost:0.5179206728935242 Accuracy:0.8499999642372131\n",
      "Epoch 32, CIFAR-10 Batch 5:  Cost:0.5151057243347168 Accuracy:0.8500000238418579\n",
      "Epoch 33, CIFAR-10 Batch 1:  Cost:0.503490686416626 Accuracy:0.8000000715255737\n",
      "Epoch 33, CIFAR-10 Batch 2:  Cost:0.3445216715335846 Accuracy:0.925000011920929\n",
      "Epoch 33, CIFAR-10 Batch 3:  Cost:0.3498234450817108 Accuracy:0.949999988079071\n",
      "Epoch 33, CIFAR-10 Batch 4:  Cost:0.4929305911064148 Accuracy:0.875\n",
      "Epoch 33, CIFAR-10 Batch 5:  Cost:0.4999975562095642 Accuracy:0.8000000715255737\n",
      "Epoch 34, CIFAR-10 Batch 1:  Cost:0.4727669358253479 Accuracy:0.8250000476837158\n",
      "Epoch 34, CIFAR-10 Batch 2:  Cost:0.3540283441543579 Accuracy:0.925000011920929\n",
      "Epoch 34, CIFAR-10 Batch 3:  Cost:0.33947235345840454 Accuracy:0.949999988079071\n",
      "Epoch 34, CIFAR-10 Batch 4:  Cost:0.5022701025009155 Accuracy:0.824999988079071\n",
      "Epoch 34, CIFAR-10 Batch 5:  Cost:0.4463793635368347 Accuracy:0.8500000238418579\n",
      "Epoch 35, CIFAR-10 Batch 1:  Cost:0.4635254740715027 Accuracy:0.7749999761581421\n",
      "Epoch 35, CIFAR-10 Batch 2:  Cost:0.3383450210094452 Accuracy:0.925000011920929\n",
      "Epoch 35, CIFAR-10 Batch 3:  Cost:0.3151393234729767 Accuracy:0.925000011920929\n",
      "Epoch 35, CIFAR-10 Batch 4:  Cost:0.4514527916908264 Accuracy:0.875\n",
      "Epoch 35, CIFAR-10 Batch 5:  Cost:0.4291764199733734 Accuracy:0.875\n",
      "Epoch 36, CIFAR-10 Batch 1:  Cost:0.4527677297592163 Accuracy:0.8500000238418579\n",
      "Epoch 36, CIFAR-10 Batch 2:  Cost:0.32541635632514954 Accuracy:0.925000011920929\n",
      "Epoch 36, CIFAR-10 Batch 3:  Cost:0.291297048330307 Accuracy:0.949999988079071\n",
      "Epoch 36, CIFAR-10 Batch 4:  Cost:0.4404129087924957 Accuracy:0.8499999642372131\n",
      "Epoch 36, CIFAR-10 Batch 5:  Cost:0.39273935556411743 Accuracy:0.8750000596046448\n",
      "Epoch 37, CIFAR-10 Batch 1:  Cost:0.4481825530529022 Accuracy:0.7749999761581421\n",
      "Epoch 37, CIFAR-10 Batch 2:  Cost:0.29118719696998596 Accuracy:0.9000000357627869\n",
      "Epoch 37, CIFAR-10 Batch 3:  Cost:0.2806132435798645 Accuracy:0.925000011920929\n",
      "Epoch 37, CIFAR-10 Batch 4:  Cost:0.40467774868011475 Accuracy:0.9000000357627869\n",
      "Epoch 37, CIFAR-10 Batch 5:  Cost:0.3943980932235718 Accuracy:0.9000000357627869\n",
      "Epoch 38, CIFAR-10 Batch 1:  Cost:0.4412986934185028 Accuracy:0.8250000476837158\n",
      "Epoch 38, CIFAR-10 Batch 2:  Cost:0.25710099935531616 Accuracy:1.0\n",
      "Epoch 38, CIFAR-10 Batch 3:  Cost:0.2742169201374054 Accuracy:0.949999988079071\n",
      "Epoch 38, CIFAR-10 Batch 4:  Cost:0.40666890144348145 Accuracy:0.925000011920929\n",
      "Epoch 38, CIFAR-10 Batch 5:  Cost:0.3691640794277191 Accuracy:0.9000000357627869\n",
      "Epoch 39, CIFAR-10 Batch 1:  Cost:0.42313098907470703 Accuracy:0.8500000834465027\n",
      "Epoch 39, CIFAR-10 Batch 2:  Cost:0.28246602416038513 Accuracy:0.925000011920929\n",
      "Epoch 39, CIFAR-10 Batch 3:  Cost:0.24183674156665802 Accuracy:0.925000011920929\n",
      "Epoch 39, CIFAR-10 Batch 4:  Cost:0.3782760202884674 Accuracy:0.9000000357627869\n",
      "Epoch 39, CIFAR-10 Batch 5:  Cost:0.35496804118156433 Accuracy:0.9000000357627869\n",
      "Epoch 40, CIFAR-10 Batch 1:  Cost:0.3311370611190796 Accuracy:0.925000011920929\n",
      "Epoch 40, CIFAR-10 Batch 2:  Cost:0.24655193090438843 Accuracy:0.9750000238418579\n",
      "Epoch 40, CIFAR-10 Batch 3:  Cost:0.24867042899131775 Accuracy:0.949999988079071\n",
      "Epoch 40, CIFAR-10 Batch 4:  Cost:0.36228445172309875 Accuracy:0.9000000357627869\n",
      "Epoch 40, CIFAR-10 Batch 5:  Cost:0.3282269835472107 Accuracy:0.949999988079071\n",
      "Epoch 41, CIFAR-10 Batch 1:  Cost:0.34845757484436035 Accuracy:0.925000011920929\n",
      "Epoch 41, CIFAR-10 Batch 2:  Cost:0.2405390441417694 Accuracy:1.0\n",
      "Epoch 41, CIFAR-10 Batch 3:  Cost:0.19367681443691254 Accuracy:0.9749999642372131\n",
      "Epoch 41, CIFAR-10 Batch 4:  Cost:0.3718799948692322 Accuracy:0.9000000357627869\n",
      "Epoch 41, CIFAR-10 Batch 5:  Cost:0.29427021741867065 Accuracy:0.9749999642372131\n",
      "Epoch 42, CIFAR-10 Batch 1:  Cost:0.3706117272377014 Accuracy:0.8750000596046448\n",
      "Epoch 42, CIFAR-10 Batch 2:  Cost:0.21198907494544983 Accuracy:0.9749999642372131\n",
      "Epoch 42, CIFAR-10 Batch 3:  Cost:0.2254004180431366 Accuracy:0.925000011920929\n",
      "Epoch 42, CIFAR-10 Batch 4:  Cost:0.3359481692314148 Accuracy:0.9000000357627869\n",
      "Epoch 42, CIFAR-10 Batch 5:  Cost:0.27611789107322693 Accuracy:0.9749999642372131\n"
     ]
    },
    {
     "name": "stdout",
     "output_type": "stream",
     "text": [
      "Epoch 43, CIFAR-10 Batch 1:  Cost:0.3575894832611084 Accuracy:0.8250000476837158\n",
      "Epoch 43, CIFAR-10 Batch 2:  Cost:0.22110812366008759 Accuracy:0.9750000238418579\n",
      "Epoch 43, CIFAR-10 Batch 3:  Cost:0.15787790715694427 Accuracy:1.0\n",
      "Epoch 43, CIFAR-10 Batch 4:  Cost:0.33749502897262573 Accuracy:0.925000011920929\n",
      "Epoch 43, CIFAR-10 Batch 5:  Cost:0.2531842589378357 Accuracy:0.949999988079071\n",
      "Epoch 44, CIFAR-10 Batch 1:  Cost:0.3257804214954376 Accuracy:0.9000000357627869\n",
      "Epoch 44, CIFAR-10 Batch 2:  Cost:0.18936008214950562 Accuracy:0.949999988079071\n",
      "Epoch 44, CIFAR-10 Batch 3:  Cost:0.15847980976104736 Accuracy:0.949999988079071\n",
      "Epoch 44, CIFAR-10 Batch 4:  Cost:0.3301693797111511 Accuracy:0.925000011920929\n",
      "Epoch 44, CIFAR-10 Batch 5:  Cost:0.2569003105163574 Accuracy:0.925000011920929\n",
      "Epoch 45, CIFAR-10 Batch 1:  Cost:0.34529978036880493 Accuracy:0.9000000357627869\n",
      "Epoch 45, CIFAR-10 Batch 2:  Cost:0.17329953610897064 Accuracy:0.9749999642372131\n",
      "Epoch 45, CIFAR-10 Batch 3:  Cost:0.15247943997383118 Accuracy:0.9749999642372131\n",
      "Epoch 45, CIFAR-10 Batch 4:  Cost:0.3363935351371765 Accuracy:0.925000011920929\n",
      "Epoch 45, CIFAR-10 Batch 5:  Cost:0.2528117299079895 Accuracy:0.9749999642372131\n",
      "Epoch 46, CIFAR-10 Batch 1:  Cost:0.3003571629524231 Accuracy:0.9000000357627869\n",
      "Epoch 46, CIFAR-10 Batch 2:  Cost:0.1890188455581665 Accuracy:0.9749999642372131\n",
      "Epoch 46, CIFAR-10 Batch 3:  Cost:0.12116974592208862 Accuracy:1.0\n",
      "Epoch 46, CIFAR-10 Batch 4:  Cost:0.3274255394935608 Accuracy:0.925000011920929\n",
      "Epoch 46, CIFAR-10 Batch 5:  Cost:0.2450239658355713 Accuracy:0.949999988079071\n",
      "Epoch 47, CIFAR-10 Batch 1:  Cost:0.3128134310245514 Accuracy:0.8750000596046448\n",
      "Epoch 47, CIFAR-10 Batch 2:  Cost:0.14904090762138367 Accuracy:1.0\n",
      "Epoch 47, CIFAR-10 Batch 3:  Cost:0.1287918984889984 Accuracy:1.0\n",
      "Epoch 47, CIFAR-10 Batch 4:  Cost:0.3053722679615021 Accuracy:0.925000011920929\n",
      "Epoch 47, CIFAR-10 Batch 5:  Cost:0.24597492814064026 Accuracy:0.925000011920929\n",
      "Epoch 48, CIFAR-10 Batch 1:  Cost:0.2873905599117279 Accuracy:0.9000000357627869\n",
      "Epoch 48, CIFAR-10 Batch 2:  Cost:0.13889957964420319 Accuracy:1.0\n",
      "Epoch 48, CIFAR-10 Batch 3:  Cost:0.148564875125885 Accuracy:0.9749999642372131\n",
      "Epoch 48, CIFAR-10 Batch 4:  Cost:0.28108903765678406 Accuracy:0.925000011920929\n",
      "Epoch 48, CIFAR-10 Batch 5:  Cost:0.2353803515434265 Accuracy:0.949999988079071\n",
      "Epoch 49, CIFAR-10 Batch 1:  Cost:0.2836567759513855 Accuracy:0.8750000596046448\n",
      "Epoch 49, CIFAR-10 Batch 2:  Cost:0.15376178920269012 Accuracy:0.9749999642372131\n",
      "Epoch 49, CIFAR-10 Batch 3:  Cost:0.12942813336849213 Accuracy:0.949999988079071\n",
      "Epoch 49, CIFAR-10 Batch 4:  Cost:0.2823750376701355 Accuracy:0.925000011920929\n",
      "Epoch 49, CIFAR-10 Batch 5:  Cost:0.22341027855873108 Accuracy:0.949999988079071\n",
      "Epoch 50, CIFAR-10 Batch 1:  Cost:0.28241533041000366 Accuracy:0.9000000357627869\n",
      "Epoch 50, CIFAR-10 Batch 2:  Cost:0.16548314690589905 Accuracy:1.0\n",
      "Epoch 50, CIFAR-10 Batch 3:  Cost:0.10910994559526443 Accuracy:1.0\n",
      "Epoch 50, CIFAR-10 Batch 4:  Cost:0.29074612259864807 Accuracy:0.925000011920929\n",
      "Epoch 50, CIFAR-10 Batch 5:  Cost:0.22276997566223145 Accuracy:0.9749999642372131\n"
     ]
    }
   ],
   "source": [
    "\"\"\"\n",
    "DON'T MODIFY ANYTHING IN THIS CELL\n",
    "\"\"\"\n",
    "save_model_path = './image_classification'\n",
    "\n",
    "print('Training...')\n",
    "with tf.Session() as sess:\n",
    "    # Initializing the variables\n",
    "    sess.run(tf.global_variables_initializer())\n",
    "    \n",
    "    # Training cycle\n",
    "    for epoch in range(epochs):\n",
    "        # Loop over all batches\n",
    "        n_batches = 5\n",
    "        for batch_i in range(1, n_batches + 1):\n",
    "            for batch_features, batch_labels in helper.load_preprocess_training_batch(batch_i, batch_size):\n",
    "                train_neural_network(sess, optimizer, keep_probability, batch_features, batch_labels)\n",
    "            print('Epoch {:>2}, CIFAR-10 Batch {}:  '.format(epoch + 1, batch_i), end='')\n",
    "            print_stats(sess, batch_features, batch_labels, cost, accuracy)\n",
    "            \n",
    "    # Save Model\n",
    "    saver = tf.train.Saver()\n",
    "    save_path = saver.save(sess, save_model_path)"
   ]
  },
  {
   "cell_type": "markdown",
   "metadata": {},
   "source": [
    "# 检查点\n",
    "\n",
    "模型已保存到本地。\n",
    "\n",
    "## 测试模型\n",
    "\n",
    "利用测试数据集测试你的模型。这将是最终的准确率。你的准确率应该高于 50%。如果没达到，请继续调整模型结构和参数。"
   ]
  },
  {
   "cell_type": "code",
   "execution_count": 99,
   "metadata": {},
   "outputs": [
    {
     "name": "stdout",
     "output_type": "stream",
     "text": [
      "INFO:tensorflow:Restoring parameters from ./image_classification\n",
      "Testing Accuracy: 0.6400316455696202\n",
      "\n"
     ]
    },
    {
     "data": {
      "image/png": "[encoded data removed]",
      "text/plain": [
       "<matplotlib.figure.Figure at 0x7f5b30de2c18>"
      ]
     },
     "metadata": {
      "image/png": {
       "height": 319,
       "width": 355
      }
     },
     "output_type": "display_data"
    }
   ],
   "source": [
    "\"\"\"\n",
    "DON'T MODIFY ANYTHING IN THIS CELL\n",
    "\"\"\"\n",
    "%matplotlib inline\n",
    "%config InlineBackend.figure_format = 'retina'\n",
    "\n",
    "import tensorflow as tf\n",
    "import pickle\n",
    "import helper\n",
    "import random\n",
    "\n",
    "# Set batch size if not already set\n",
    "try:\n",
    "    if batch_size:\n",
    "        pass\n",
    "except NameError:\n",
    "    batch_size = 64\n",
    "\n",
    "save_model_path = './image_classification'\n",
    "n_samples = 4\n",
    "top_n_predictions = 3\n",
    "\n",
    "def test_model():\n",
    "    \"\"\"\n",
    "    Test the saved model against the test dataset\n",
    "    \"\"\"\n",
    "\n",
    "    test_features, test_labels = pickle.load(open('preprocess_test.p', mode='rb'))\n",
    "    loaded_graph = tf.Graph()\n",
    "\n",
    "    with tf.Session(graph=loaded_graph) as sess:\n",
    "        # Load model\n",
    "        loader = tf.train.import_meta_graph(save_model_path + '.meta')\n",
    "        loader.restore(sess, save_model_path)\n",
    "\n",
    "        # Get Tensors from loaded model\n",
    "        loaded_x = loaded_graph.get_tensor_by_name('x:0')\n",
    "        loaded_y = loaded_graph.get_tensor_by_name('y:0')\n",
    "        loaded_keep_prob = loaded_graph.get_tensor_by_name('keep_prob:0')\n",
    "        loaded_logits = loaded_graph.get_tensor_by_name('logits:0')\n",
    "        loaded_acc = loaded_graph.get_tensor_by_name('accuracy:0')\n",
    "        \n",
    "        # Get accuracy in batches for memory limitations\n",
    "        test_batch_acc_total = 0\n",
    "        test_batch_count = 0\n",
    "        \n",
    "        for test_feature_batch, test_label_batch in helper.batch_features_labels(test_features, test_labels, batch_size):\n",
    "            test_batch_acc_total += sess.run(\n",
    "                loaded_acc,\n",
    "                feed_dict={loaded_x: test_feature_batch, loaded_y: test_label_batch, loaded_keep_prob: 1.0})\n",
    "            test_batch_count += 1\n",
    "\n",
    "        print('Testing Accuracy: {}\\n'.format(test_batch_acc_total/test_batch_count))\n",
    "\n",
    "        # Print Random Samples\n",
    "        random_test_features, random_test_labels = tuple(zip(*random.sample(list(zip(test_features, test_labels)), n_samples)))\n",
    "        random_test_predictions = sess.run(\n",
    "            tf.nn.top_k(tf.nn.softmax(loaded_logits), top_n_predictions),\n",
    "            feed_dict={loaded_x: random_test_features, loaded_y: random_test_labels, loaded_keep_prob: 1.0})\n",
    "        helper.display_image_predictions(random_test_features, random_test_labels, random_test_predictions)\n",
    "\n",
    "\n",
    "test_model()"
   ]
  },
  {
   "cell_type": "markdown",
   "metadata": {},
   "source": [
    "## 为何准确率只有50-80%？\n",
    "\n",
    "你可能想问，为何准确率不能更高了？首先，对于简单的 CNN 网络来说，50% 已经不低了。纯粹猜测的准确率为10%。但是，你可能注意到有人的准确率[远远超过 80%](http://rodrigob.github.io/are_we_there_yet/build/classification_datasets_results.html#43494641522d3130)。这是因为我们还没有介绍所有的神经网络知识。我们还需要掌握一些其他技巧。\n",
    "\n",
    "## 提交项目\n",
    "\n",
    "提交项目时，确保先运行所有单元，然后再保存记事本。将 notebook 文件另存为“dlnd_image_classification.ipynb”，再在目录 \"File\" -> \"Download as\" 另存为 HTML 格式。请在提交的项目中包含 “helper.py” 和 “problem_unittests.py” 文件。\n"
   ]
  }
 ],
 "metadata": {
  "kernelspec": {
   "display_name": "Python 3",
   "language": "python",
   "name": "python3"
  },
  "language_info": {
   "codemirror_mode": {
    "name": "ipython",
    "version": 3
   },
   "file_extension": ".py",
   "mimetype": "text/x-python",
   "name": "python",
   "nbconvert_exporter": "python",
   "pygments_lexer": "ipython3",
   "version": "3.5.3"
  }
 },
 "nbformat": 4,
 "nbformat_minor": 1
}
