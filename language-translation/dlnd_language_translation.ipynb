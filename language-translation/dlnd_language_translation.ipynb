{
 "cells": [
  {
   "cell_type": "markdown",
   "metadata": {
    "collapsed": true
   },
   "source": [
    "# 语言翻译\n",
    "\n",
    "在此项目中，你将了解神经网络机器翻译这一领域。你将用由英语和法语语句组成的数据集，训练一个序列到序列模型（sequence to sequence model），该模型能够将新的英语句子翻译成法语。\n",
    "\n",
    "## 获取数据\n",
    "\n",
    "因为将整个英语语言内容翻译成法语需要大量训练时间，所以我们提供了一小部分的英语语料库。\n"
   ]
  },
  {
   "cell_type": "code",
   "execution_count": 1,
   "metadata": {
    "collapsed": true
   },
   "outputs": [],
   "source": [
    "\"\"\"\n",
    "DON'T MODIFY ANYTHING IN THIS CELL\n",
    "\"\"\"\n",
    "import helper\n",
    "import problem_unittests as tests\n",
    "\n",
    "source_path = 'data/small_vocab_en'\n",
    "target_path = 'data/small_vocab_fr'\n",
    "source_text = helper.load_data(source_path)\n",
    "target_text = helper.load_data(target_path)"
   ]
  },
  {
   "cell_type": "markdown",
   "metadata": {},
   "source": [
    "## 探索数据\n",
    "\n",
    "研究 view_sentence_range，查看并熟悉该数据的不同部分。\n"
   ]
  },
  {
   "cell_type": "code",
   "execution_count": 2,
   "metadata": {},
   "outputs": [
    {
     "name": "stdout",
     "output_type": "stream",
     "text": [
      "Dataset Stats\n",
      "Roughly the number of unique words: 227\n",
      "Number of sentences: 137861\n",
      "Average number of words in a sentence: 13.225277634719028\n",
      "\n",
      "English sentences 0 to 10:\n",
      "new jersey is sometimes quiet during autumn , and it is snowy in april .\n",
      "the united states is usually chilly during july , and it is usually freezing in november .\n",
      "california is usually quiet during march , and it is usually hot in june .\n",
      "the united states is sometimes mild during june , and it is cold in september .\n",
      "your least liked fruit is the grape , but my least liked is the apple .\n",
      "his favorite fruit is the orange , but my favorite is the grape .\n",
      "paris is relaxing during december , but it is usually chilly in july .\n",
      "new jersey is busy during spring , and it is never hot in march .\n",
      "our least liked fruit is the lemon , but my least liked is the grape .\n",
      "the united states is sometimes busy during january , and it is sometimes warm in november .\n",
      "\n",
      "French sentences 0 to 10:\n",
      "new jersey est parfois calme pendant l' automne , et il est neigeux en avril .\n",
      "les états-unis est généralement froid en juillet , et il gèle habituellement en novembre .\n",
      "california est généralement calme en mars , et il est généralement chaud en juin .\n",
      "les états-unis est parfois légère en juin , et il fait froid en septembre .\n",
      "votre moins aimé fruit est le raisin , mais mon moins aimé est la pomme .\n",
      "son fruit préféré est l'orange , mais mon préféré est le raisin .\n",
      "paris est relaxant en décembre , mais il est généralement froid en juillet .\n",
      "new jersey est occupé au printemps , et il est jamais chaude en mars .\n",
      "notre fruit est moins aimé le citron , mais mon moins aimé est le raisin .\n",
      "les états-unis est parfois occupé en janvier , et il est parfois chaud en novembre .\n"
     ]
    }
   ],
   "source": [
    "view_sentence_range = (0, 10)\n",
    "\n",
    "\"\"\"\n",
    "DON'T MODIFY ANYTHING IN THIS CELL\n",
    "\"\"\"\n",
    "import numpy as np\n",
    "\n",
    "print('Dataset Stats')\n",
    "print('Roughly the number of unique words: {}'.format(len({word: None for word in source_text.split()})))\n",
    "\n",
    "sentences = source_text.split('\\n')\n",
    "word_counts = [len(sentence.split()) for sentence in sentences]\n",
    "print('Number of sentences: {}'.format(len(sentences)))\n",
    "print('Average number of words in a sentence: {}'.format(np.average(word_counts)))\n",
    "\n",
    "print()\n",
    "print('English sentences {} to {}:'.format(*view_sentence_range))\n",
    "print('\\n'.join(source_text.split('\\n')[view_sentence_range[0]:view_sentence_range[1]]))\n",
    "print()\n",
    "print('French sentences {} to {}:'.format(*view_sentence_range))\n",
    "print('\\n'.join(target_text.split('\\n')[view_sentence_range[0]:view_sentence_range[1]]))"
   ]
  },
  {
   "cell_type": "markdown",
   "metadata": {},
   "source": [
    "## 实现预处理函数\n",
    "\n",
    "### 文本到单词 id\n",
    "\n",
    "和之前的 RNN 一样，你必须首先将文本转换为数字，这样计算机才能读懂。在函数 `text_to_ids()` 中，你需要将单词中的 `source_text` 和 `target_text` 转为 id。但是，你需要在 `target_text` 中每个句子的末尾，添加 `<EOS>` 单词 id。这样可以帮助神经网络预测句子应该在什么地方结束。\n",
    "\n",
    "\n",
    "你可以通过以下代码获取  `<EOS> ` 单词ID：\n",
    "\n",
    "```python\n",
    "target_vocab_to_int['<EOS>']\n",
    "```\n",
    "\n",
    "你可以使用 `source_vocab_to_int` 和 `target_vocab_to_int` 获得其他单词 id。\n"
   ]
  },
  {
   "cell_type": "code",
   "execution_count": 3,
   "metadata": {},
   "outputs": [
    {
     "name": "stdout",
     "output_type": "stream",
     "text": [
      "Tests Passed\n"
     ]
    }
   ],
   "source": [
    "from collections import Counter\n",
    "\n",
    "def text_to_ids(source_text, target_text, source_vocab_to_int, target_vocab_to_int):\n",
    "    \"\"\"\n",
    "    Convert source and target text to proper word ids\n",
    "    :param source_text: String that contains all the source text.\n",
    "    :param target_text: String that contains all the target text.\n",
    "    :param source_vocab_to_int: Dictionary to go from the source words to an id\n",
    "    :param target_vocab_to_int: Dictionary to go from the target words to an id\n",
    "    :return: A tuple of lists (source_id_text, target_id_text)\n",
    "    \"\"\"\n",
    "    source_id_text = [[source_vocab_to_int[w] for w in line.split()] for line in source_text.splitlines()]\n",
    "    target_id_text = [[target_vocab_to_int[w] for w in line.split()] + [target_vocab_to_int['<EOS>']] for line in target_text.splitlines()]\n",
    "    return source_id_text, target_id_text\n",
    "\n",
    "\"\"\"\n",
    "DON'T MODIFY ANYTHING IN THIS CELL THAT IS BELOW THIS LINE\n",
    "\"\"\"\n",
    "tests.test_text_to_ids(text_to_ids)"
   ]
  },
  {
   "cell_type": "markdown",
   "metadata": {},
   "source": [
    "### 预处理所有数据并保存\n",
    "\n",
    "运行以下代码单元，预处理所有数据，并保存到文件中。\n"
   ]
  },
  {
   "cell_type": "code",
   "execution_count": 4,
   "metadata": {
    "collapsed": true
   },
   "outputs": [],
   "source": [
    "\"\"\"\n",
    "DON'T MODIFY ANYTHING IN THIS CELL\n",
    "\"\"\"\n",
    "helper.preprocess_and_save_data(source_path, target_path, text_to_ids)"
   ]
  },
  {
   "cell_type": "markdown",
   "metadata": {},
   "source": [
    "# 检查点\n",
    "\n",
    "这是你的第一个检查点。如果你什么时候决定再回到该记事本，或需要重新启动该记事本，可以从这里继续。预处理的数据已保存到磁盘上。"
   ]
  },
  {
   "cell_type": "code",
   "execution_count": 5,
   "metadata": {
    "collapsed": true
   },
   "outputs": [],
   "source": [
    "\"\"\"\n",
    "DON'T MODIFY ANYTHING IN THIS CELL\n",
    "\"\"\"\n",
    "import numpy as np\n",
    "import helper\n",
    "\n",
    "(source_int_text, target_int_text), (source_vocab_to_int, target_vocab_to_int), _ = helper.load_preprocess()"
   ]
  },
  {
   "cell_type": "markdown",
   "metadata": {},
   "source": [
    "### 检查 TensorFlow 版本，确认可访问 GPU\n",
    "\n",
    "这一检查步骤，可以确保你使用的是正确版本的 TensorFlow，并且能够访问 GPU。\n"
   ]
  },
  {
   "cell_type": "code",
   "execution_count": 6,
   "metadata": {},
   "outputs": [
    {
     "name": "stdout",
     "output_type": "stream",
     "text": [
      "TensorFlow Version: 1.0.1\n",
      "Default GPU Device: /gpu:0\n"
     ]
    }
   ],
   "source": [
    "\"\"\"\n",
    "DON'T MODIFY ANYTHING IN THIS CELL\n",
    "\"\"\"\n",
    "from distutils.version import LooseVersion\n",
    "import warnings\n",
    "import tensorflow as tf\n",
    "\n",
    "# Check TensorFlow Version\n",
    "assert LooseVersion(tf.__version__) in [LooseVersion('1.0.0'), LooseVersion('1.0.1')], 'This project requires TensorFlow version 1.0  You are using {}'.format(tf.__version__)\n",
    "print('TensorFlow Version: {}'.format(tf.__version__))\n",
    "\n",
    "# Check for a GPU\n",
    "if not tf.test.gpu_device_name():\n",
    "    warnings.warn('No GPU found. Please use a GPU to train your neural network.')\n",
    "else:\n",
    "    print('Default GPU Device: {}'.format(tf.test.gpu_device_name()))"
   ]
  },
  {
   "cell_type": "markdown",
   "metadata": {},
   "source": [
    "## 构建神经网络\n",
    "\n",
    "你将通过实现以下函数，构建出要构建一个序列到序列模型所需的组件：\n",
    "\n",
    "- `model_inputs`\n",
    "- `process_decoding_input`\n",
    "- `encoding_layer`\n",
    "- `decoding_layer_train`\n",
    "- `decoding_layer_infer`\n",
    "- `decoding_layer`\n",
    "- `seq2seq_model`\n",
    "\n",
    "### 输入\n",
    "\n",
    "实现 `model_inputs()` 函数，为神经网络创建 TF 占位符。该函数应该创建以下占位符：\n",
    "\n",
    "- 名为 “input” 的输入文本占位符，并使用 TF Placeholder 名称参数（等级（Rank）为 2）。\n",
    "- 目标占位符（等级为 2）。\n",
    "- 学习速率占位符（等级为 0）。\n",
    "- 名为 “keep_prob” 的保留率占位符，并使用 TF Placeholder 名称参数（等级为 0）。\n",
    "\n",
    "在以下元祖（tuple）中返回占位符：（输入、目标、学习速率、保留率）\n"
   ]
  },
  {
   "cell_type": "code",
   "execution_count": 7,
   "metadata": {},
   "outputs": [
    {
     "name": "stdout",
     "output_type": "stream",
     "text": [
      "Tests Passed\n"
     ]
    }
   ],
   "source": [
    "def model_inputs():\n",
    "    \"\"\"\n",
    "    Create TF Placeholders for input, targets, and learning rate.\n",
    "    :return: Tuple (input, targets, learning rate, keep probability)\n",
    "    \"\"\"\n",
    "    # TODO: Implement Function\n",
    "    inputs = tf.placeholder(tf.int32, [None, None], name='input')\n",
    "    targets = tf.placeholder(tf.int32, [None, None], name='target')\n",
    "    lr = tf.placeholder(tf.float32, None, name='learning_rate')\n",
    "    keep_prob = tf.placeholder(tf.float32, None, name='keep_prob')\n",
    "    return inputs, targets, lr, keep_prob\n",
    "\n",
    "\"\"\"\n",
    "DON'T MODIFY ANYTHING IN THIS CELL THAT IS BELOW THIS LINE\n",
    "\"\"\"\n",
    "tests.test_model_inputs(model_inputs)"
   ]
  },
  {
   "cell_type": "markdown",
   "metadata": {},
   "source": [
    "### 处理解码输入\n",
    "\n",
    "使用 TensorFlow 实现 `process_decoding_input`，以便删掉 `target_data` 中每个批次的最后一个单词 ID，并将 GO ID 放到每个批次的开头。"
   ]
  },
  {
   "cell_type": "code",
   "execution_count": 8,
   "metadata": {},
   "outputs": [
    {
     "name": "stdout",
     "output_type": "stream",
     "text": [
      "Tests Passed\n"
     ]
    }
   ],
   "source": [
    "def process_decoding_input(target_data, target_vocab_to_int, batch_size):\n",
    "    \"\"\"\n",
    "    Preprocess target data for dencoding\n",
    "    :param target_data: Target Placehoder\n",
    "    :param target_vocab_to_int: Dictionary to go from the target words to an id\n",
    "    :param batch_size: Batch Size\n",
    "    :return: Preprocessed target data\n",
    "    \"\"\"\n",
    "    # TODO: Implement Function\n",
    "    cut_last = tf.strided_slice(target_data, [0, 0], [batch_size, -1], [1,1])\n",
    "    go = tf.fill([batch_size, 1], target_vocab_to_int['<GO>'])\n",
    "    return tf.concat([go, cut_last], 1)\n",
    "\n",
    "\"\"\"\n",
    "DON'T MODIFY ANYTHING IN THIS CELL THAT IS BELOW THIS LINE\n",
    "\"\"\"\n",
    "tests.test_process_decoding_input(process_decoding_input)"
   ]
  },
  {
   "cell_type": "markdown",
   "metadata": {},
   "source": [
    "### 编码\n",
    "\n",
    "实现 `encoding_layer()`，以使用 [`tf.nn.dynamic_rnn()`](https://www.tensorflow.org/api_docs/python/tf/nn/dynamic_rnn) 创建编码器 RNN 层级。"
   ]
  },
  {
   "cell_type": "code",
   "execution_count": 9,
   "metadata": {},
   "outputs": [
    {
     "name": "stdout",
     "output_type": "stream",
     "text": [
      "Tests Passed\n"
     ]
    }
   ],
   "source": [
    "def encoding_layer(rnn_inputs, rnn_size, num_layers, keep_prob):\n",
    "    \"\"\"\n",
    "    Create encoding layer\n",
    "    :param rnn_inputs: Inputs for the RNN\n",
    "    :param rnn_size: RNN Size\n",
    "    :param num_layers: Number of layers\n",
    "    :param keep_prob: Dropout keep probability\n",
    "    :return: RNN state\n",
    "    \"\"\"\n",
    "    cell = tf.contrib.rnn.MultiRNNCell([tf.contrib.rnn.BasicLSTMCell(rnn_size) for i in range(num_layers)])\n",
    "    cell = tf.contrib.rnn.DropoutWrapper(cell, 1.0, keep_prob)\n",
    "    _, rnn_state = tf.nn.dynamic_rnn(cell, rnn_inputs, dtype=tf.float32)\n",
    "    return rnn_state\n",
    "\n",
    "\"\"\"\n",
    "DON'T MODIFY ANYTHING IN THIS CELL THAT IS BELOW THIS LINE\n",
    "\"\"\"\n",
    "tests.test_encoding_layer(encoding_layer)"
   ]
  },
  {
   "cell_type": "markdown",
   "metadata": {},
   "source": [
    "### 解码 - 训练\n",
    "\n",
    "使用 [`tf.contrib.seq2seq.simple_decoder_fn_train()`](https://www.tensorflow.org/versions/r1.0/api_docs/python/tf/contrib/seq2seq/simple_decoder_fn_train) 和 [`tf.contrib.seq2seq.dynamic_rnn_decoder()`](https://www.tensorflow.org/versions/r1.0/api_docs/python/tf/contrib/seq2seq/dynamic_rnn_decoder) 创建训练分对数（training logits）。将 `output_fn` 应用到 [`tf.contrib.seq2seq.dynamic_rnn_decoder()`](https://www.tensorflow.org/versions/r1.0/api_docs/python/tf/contrib/seq2seq/dynamic_rnn_decoder) 输出上。"
   ]
  },
  {
   "cell_type": "code",
   "execution_count": 10,
   "metadata": {},
   "outputs": [
    {
     "name": "stdout",
     "output_type": "stream",
     "text": [
      "Tests Passed\n"
     ]
    }
   ],
   "source": [
    "def decoding_layer_train(encoder_state, dec_cell, dec_embed_input, sequence_length, decoding_scope,\n",
    "                         output_fn, keep_prob):\n",
    "    \"\"\"\n",
    "    Create a decoding layer for training\n",
    "    :param encoder_state: Encoder State\n",
    "    :param dec_cell: Decoder RNN Cell\n",
    "    :param dec_embed_input: Decoder embedded input\n",
    "    :param sequence_length: Sequence Length\n",
    "    :param decoding_scope: TenorFlow Variable Scope for decoding\n",
    "    :param output_fn: Function to apply the output layer\n",
    "    :param keep_prob: Dropout keep probability\n",
    "    :return: Train Logits\n",
    "    \"\"\"\n",
    "    # TODO: Implement Function\n",
    "    dec_fn_train = tf.contrib.seq2seq.simple_decoder_fn_train(encoder_state)\n",
    "    outputs, final_state, final_context_state = tf.contrib.seq2seq.dynamic_rnn_decoder(\n",
    "        dec_cell, dec_fn_train, inputs=dec_embed_input, sequence_length=sequence_length, scope=decoding_scope)\n",
    "    return output_fn(tf.nn.dropout(outputs, keep_prob))\n",
    "\n",
    "\"\"\"\n",
    "DON'T MODIFY ANYTHING IN THIS CELL THAT IS BELOW THIS LINE\n",
    "\"\"\"\n",
    "tests.test_decoding_layer_train(decoding_layer_train)"
   ]
  },
  {
   "cell_type": "markdown",
   "metadata": {},
   "source": [
    "### 解码 - 推论\n",
    "\n",
    "使用 [`tf.contrib.seq2seq.simple_decoder_fn_inference()`](https://www.tensorflow.org/versions/r1.0/api_docs/python/tf/contrib/seq2seq/simple_decoder_fn_inference) 和 [`tf.contrib.seq2seq.dynamic_rnn_decoder()`](https://www.tensorflow.org/versions/r1.0/api_docs/python/tf/contrib/seq2seq/dynamic_rnn_decoder) 创建推论分对数（inference logits）。"
   ]
  },
  {
   "cell_type": "code",
   "execution_count": 11,
   "metadata": {},
   "outputs": [
    {
     "name": "stdout",
     "output_type": "stream",
     "text": [
      "Tests Passed\n"
     ]
    }
   ],
   "source": [
    "def decoding_layer_infer(encoder_state, dec_cell, dec_embeddings, start_of_sequence_id, end_of_sequence_id,\n",
    "                         maximum_length, vocab_size, decoding_scope, output_fn, keep_prob):\n",
    "    \"\"\"\n",
    "    Create a decoding layer for inference\n",
    "    :param encoder_state: Encoder state\n",
    "    :param dec_cell: Decoder RNN Cell\n",
    "    :param dec_embeddings: Decoder embeddings\n",
    "    :param start_of_sequence_id: GO ID\n",
    "    :param end_of_sequence_id: EOS Id\n",
    "    :param maximum_length: The maximum allowed time steps to decode\n",
    "    :param vocab_size: Size of vocabulary\n",
    "    :param decoding_scope: TensorFlow Variable Scope for decoding\n",
    "    :param output_fn: Function to apply the output layer\n",
    "    :param keep_prob: Dropout keep probability\n",
    "    :return: Inference Logits\n",
    "    \"\"\"\n",
    "    # TODO: Implement Function\n",
    "    dynamic_fn_inference = tf.contrib.seq2seq.simple_decoder_fn_inference(\n",
    "        output_fn, encoder_state, dec_embeddings, start_of_sequence_id, end_of_sequence_id,\n",
    "        maximum_length, vocab_size)\n",
    "    outputs, final_state, final_context_state = tf.contrib.seq2seq.dynamic_rnn_decoder(\n",
    "        dec_cell, dynamic_fn_inference, scope=decoding_scope)\n",
    "    return tf.nn.dropout(outputs, keep_prob)\n",
    "\n",
    "\n",
    "\"\"\"\n",
    "DON'T MODIFY ANYTHING IN THIS CELL THAT IS BELOW THIS LINE\n",
    "\"\"\"\n",
    "tests.test_decoding_layer_infer(decoding_layer_infer)"
   ]
  },
  {
   "cell_type": "markdown",
   "metadata": {},
   "source": [
    "### 构建解码层级\n",
    "\n",
    "实现 `decoding_layer()` 以创建解码器 RNN 层级。\n",
    "\n",
    "- 使用 `rnn_size` 和 `num_layers` 创建解码 RNN 单元。\n",
    "- 使用 [`lambda`](https://docs.python.org/3/tutorial/controlflow.html#lambda-expressions) 创建输出函数，将输入，也就是分对数转换为类分对数（class logits）。\n",
    "- 使用 `decoding_layer_train(encoder_state, dec_cell, dec_embed_input, sequence_length, decoding_scope, output_fn, keep_prob)` 函数获取训练分对数。\n",
    "- 使用 `decoding_layer_infer(encoder_state, dec_cell, dec_embeddings, start_of_sequence_id, end_of_sequence_id, maximum_length, vocab_size, decoding_scope, output_fn, keep_prob)` 函数获取推论分对数。\n",
    "\n",
    "注意：你将需要使用 [tf.variable_scope](https://www.tensorflow.org/api_docs/python/tf/variable_scope) 在训练和推论分对数间分享变量。"
   ]
  },
  {
   "cell_type": "code",
   "execution_count": 12,
   "metadata": {},
   "outputs": [
    {
     "name": "stdout",
     "output_type": "stream",
     "text": [
      "Tests Passed\n"
     ]
    }
   ],
   "source": [
    "def decoding_layer(dec_embed_input, dec_embeddings, encoder_state, vocab_size, sequence_length, rnn_size,\n",
    "                   num_layers, target_vocab_to_int, keep_prob):\n",
    "    \"\"\"\n",
    "    Create decoding layer\n",
    "    :param dec_embed_input: Decoder embedded input\n",
    "    :param dec_embeddings: Decoder embeddings\n",
    "    :param encoder_state: The encoded state\n",
    "    :param vocab_size: Size of vocabulary\n",
    "    :param sequence_length: Sequence Length\n",
    "    :param rnn_size: RNN Size\n",
    "    :param num_layers: Number of layers\n",
    "    :param target_vocab_to_int: Dictionary to go from the target words to an id\n",
    "    :param keep_prob: Dropout keep probability\n",
    "    :return: Tuple of (Training Logits, Inference Logits)\n",
    "    \"\"\"\n",
    "    # TODO: Implement Function\n",
    "    dec_cell = tf.contrib.rnn.MultiRNNCell([tf.contrib.rnn.BasicLSTMCell(rnn_size) for i in range(num_layers)])\n",
    "    \n",
    "\n",
    "    with tf.variable_scope('decoding') as decoding_scope:\n",
    "        output_fn = lambda x: tf.contrib.layers.fully_connected(x, vocab_size, scope=decoding_scope)\n",
    "        train_logits = decoding_layer_train(encoder_state, dec_cell, dec_embed_input, sequence_length,\n",
    "                                            decoding_scope, output_fn, keep_prob)\n",
    "    with tf.variable_scope('decoding', reuse=True) as decoding_scope:\n",
    "        inference_logits = decoding_layer_infer(encoder_state, dec_cell, dec_embeddings,\n",
    "                                                target_vocab_to_int['<GO>'], target_vocab_to_int['<EOS>'],\n",
    "                                                sequence_length, vocab_size, decoding_scope, output_fn, keep_prob)\n",
    "    return train_logits, inference_logits\n",
    "\n",
    "\n",
    "\"\"\"\n",
    "DON'T MODIFY ANYTHING IN THIS CELL THAT IS BELOW THIS LINE\n",
    "\"\"\"\n",
    "tests.test_decoding_layer(decoding_layer)"
   ]
  },
  {
   "cell_type": "markdown",
   "metadata": {},
   "source": [
    "### 构建神经网络\n",
    "\n",
    "应用你在上方实现的函数，以：\n",
    "\n",
    "- 向编码器的输入数据应用嵌入。\n",
    "- 使用 `encoding_layer(rnn_inputs, rnn_size, num_layers, keep_prob)` 编码输入。\n",
    "- 使用 `process_decoding_input(target_data, target_vocab_to_int, batch_size)` 函数处理目标数据。\n",
    "- 向解码器的目标数据应用嵌入。\n",
    "- 使用 `decoding_layer(dec_embed_input, dec_embeddings, encoder_state, vocab_size, sequence_length, rnn_size, num_layers, target_vocab_to_int, keep_prob)` 解码编码的输入数据。"
   ]
  },
  {
   "cell_type": "code",
   "execution_count": 13,
   "metadata": {},
   "outputs": [
    {
     "name": "stdout",
     "output_type": "stream",
     "text": [
      "Tests Passed\n"
     ]
    }
   ],
   "source": [
    "def seq2seq_model(input_data, target_data, keep_prob, batch_size, sequence_length, source_vocab_size, target_vocab_size,\n",
    "                  enc_embedding_size, dec_embedding_size, rnn_size, num_layers, target_vocab_to_int):\n",
    "    \"\"\"\n",
    "    Build the Sequence-to-Sequence part of the neural network\n",
    "    :param input_data: Input placeholder\n",
    "    :param target_data: Target placeholder\n",
    "    :param keep_prob: Dropout keep probability placeholder\n",
    "    :param batch_size: Batch Size\n",
    "    :param sequence_length: Sequence Length\n",
    "    :param source_vocab_size: Source vocabulary size\n",
    "    :param target_vocab_size: Target vocabulary size\n",
    "    :param enc_embedding_size: Decoder embedding size\n",
    "    :param dec_embedding_size: Encoder embedding size\n",
    "    :param rnn_size: RNN Size\n",
    "    :param num_layers: Number of layers\n",
    "    :param target_vocab_to_int: Dictionary to go from the target words to an id\n",
    "    :return: Tuple of (Training Logits, Inference Logits)\n",
    "    \"\"\"\n",
    "    # TODO: Implement Function\n",
    "    # embed_sequence\n",
    "    enc_embed_input = tf.contrib.layers.embed_sequence(input_data, source_vocab_size, enc_embedding_size)\n",
    "    enc_state = encoding_layer(enc_embed_input, rnn_size, num_layers, keep_prob)\n",
    "    \n",
    "    # embed lookup\n",
    "    dec_input = process_decoding_input(target_data, target_vocab_to_int, batch_size)\n",
    "    dec_embeddings = tf.Variable(tf.random_uniform([target_vocab_size, dec_embedding_size]))\n",
    "    dec_embed_input = tf.nn.embedding_lookup(dec_embeddings, dec_input)\n",
    "    \n",
    "    train_logits, refer_logits = decoding_layer(\n",
    "        dec_embed_input, dec_embeddings, enc_state, target_vocab_size, \n",
    "        sequence_length, rnn_size, num_layers, target_vocab_to_int, keep_prob)\n",
    "    \n",
    "    return train_logits, refer_logits\n",
    "\n",
    "\"\"\"\n",
    "DON'T MODIFY ANYTHING IN THIS CELL THAT IS BELOW THIS LINE\n",
    "\"\"\"\n",
    "tests.test_seq2seq_model(seq2seq_model)"
   ]
  },
  {
   "cell_type": "markdown",
   "metadata": {},
   "source": [
    "## 训练神经网络\n",
    "\n",
    "### 超参数\n",
    "\n",
    "调试以下参数：\n",
    "\n",
    "- 将 `epochs` 设为 epoch 次数。\n",
    "- 将 `batch_size` 设为批次大小。\n",
    "- 将 `rnn_size` 设为 RNN 的大小。\n",
    "- 将 `num_layers` 设为层级数量。\n",
    "- 将 `encoding_embedding_size` 设为编码器嵌入大小。\n",
    "- 将 `decoding_embedding_size` 设为解码器嵌入大小\n",
    "- 将 `learning_rate` 设为训练速率。\n",
    "- 将 `keep_probability` 设为丢弃保留率（Dropout keep probability）。"
   ]
  },
  {
   "cell_type": "code",
   "execution_count": 27,
   "metadata": {
    "collapsed": true
   },
   "outputs": [],
   "source": [
    "# Number of Epochs\n",
    "epochs = 10\n",
    "# Batch Size\n",
    "batch_size = 512\n",
    "# RNN Size\n",
    "rnn_size = 128\n",
    "# Number of Layers\n",
    "num_layers = 2\n",
    "# Embedding Size\n",
    "encoding_embedding_size = 64\n",
    "decoding_embedding_size = 64\n",
    "# Learning Rate\n",
    "learning_rate = 0.01\n",
    "# Dropout Keep Probability\n",
    "keep_probability = 0.9"
   ]
  },
  {
   "cell_type": "markdown",
   "metadata": {},
   "source": [
    "### 构建图表\n",
    "\n",
    "使用你实现的神经网络构建图表。"
   ]
  },
  {
   "cell_type": "code",
   "execution_count": 28,
   "metadata": {
    "collapsed": true
   },
   "outputs": [],
   "source": [
    "\"\"\"\n",
    "DON'T MODIFY ANYTHING IN THIS CELL\n",
    "\"\"\"\n",
    "#save_path = 'checkpoints/dev'\n",
    "save_path = 'dev'\n",
    "(source_int_text, target_int_text), (source_vocab_to_int, target_vocab_to_int), _ = helper.load_preprocess()\n",
    "max_source_sentence_length = max([len(sentence) for sentence in source_int_text])\n",
    "\n",
    "train_graph = tf.Graph()\n",
    "with train_graph.as_default():\n",
    "    input_data, targets, lr, keep_prob = model_inputs()\n",
    "    sequence_length = tf.placeholder_with_default(max_source_sentence_length, None, name='sequence_length')\n",
    "    input_shape = tf.shape(input_data)\n",
    "    \n",
    "    train_logits, inference_logits = seq2seq_model(\n",
    "        tf.reverse(input_data, [-1]), targets, keep_prob, batch_size, sequence_length, len(source_vocab_to_int), len(target_vocab_to_int),\n",
    "        encoding_embedding_size, decoding_embedding_size, rnn_size, num_layers, target_vocab_to_int)\n",
    "\n",
    "    tf.identity(inference_logits, 'logits')\n",
    "    with tf.name_scope(\"optimization\"):\n",
    "        # Loss function\n",
    "        cost = tf.contrib.seq2seq.sequence_loss(\n",
    "            train_logits,\n",
    "            targets,\n",
    "            tf.ones([input_shape[0], sequence_length]))\n",
    "\n",
    "        # Optimizer\n",
    "        optimizer = tf.train.AdamOptimizer(lr)\n",
    "\n",
    "        # Gradient Clipping\n",
    "        gradients = optimizer.compute_gradients(cost)\n",
    "        capped_gradients = [(tf.clip_by_value(grad, -1., 1.), var) for grad, var in gradients if grad is not None]\n",
    "        train_op = optimizer.apply_gradients(capped_gradients)"
   ]
  },
  {
   "cell_type": "markdown",
   "metadata": {},
   "source": [
    "### 训练\n",
    "\n",
    "利用预处理的数据训练神经网络。如果很难获得低损失值，请访问我们的论坛，看看其他人是否遇到了相同的问题。"
   ]
  },
  {
   "cell_type": "code",
   "execution_count": 29,
   "metadata": {
    "scrolled": true
   },
   "outputs": [
    {
     "name": "stdout",
     "output_type": "stream",
     "text": [
      "Epoch   0 Batch  267/269 - Train Accuracy:  0.625, Validation Accuracy:  0.622, Loss:  0.899\n",
      "Epoch   1 Batch  267/269 - Train Accuracy:  0.713, Validation Accuracy:  0.701, Loss:  0.629\n",
      "Epoch   2 Batch  267/269 - Train Accuracy:  0.700, Validation Accuracy:  0.706, Loss:  0.576\n",
      "Epoch   3 Batch  267/269 - Train Accuracy:  0.690, Validation Accuracy:  0.694, Loss:  0.562\n",
      "Epoch   4 Batch  267/269 - Train Accuracy:  0.696, Validation Accuracy:  0.696, Loss:  0.555\n",
      "Epoch   5 Batch  267/269 - Train Accuracy:  0.711, Validation Accuracy:  0.709, Loss:  0.547\n",
      "Epoch   6 Batch  267/269 - Train Accuracy:  0.683, Validation Accuracy:  0.694, Loss:  0.534\n",
      "Epoch   7 Batch  267/269 - Train Accuracy:  0.681, Validation Accuracy:  0.685, Loss:  0.535\n",
      "Epoch   8 Batch  267/269 - Train Accuracy:  0.681, Validation Accuracy:  0.679, Loss:  0.531\n",
      "Epoch   9 Batch  267/269 - Train Accuracy:  0.685, Validation Accuracy:  0.686, Loss:  0.534\n",
      "Model Trained and Saved\n"
     ]
    }
   ],
   "source": [
    "\"\"\"\n",
    "DON'T MODIFY ANYTHING IN THIS CELL\n",
    "\"\"\"\n",
    "import time\n",
    "\n",
    "def get_accuracy(target, logits):\n",
    "    \"\"\"\n",
    "    Calculate accuracy\n",
    "    \"\"\"\n",
    "    max_seq = max(target.shape[1], logits.shape[1])\n",
    "    if max_seq - target.shape[1]:\n",
    "        target = np.pad(\n",
    "            target,\n",
    "            [(0,0),(0,max_seq - target.shape[1])],\n",
    "            'constant')\n",
    "    if max_seq - logits.shape[1]:\n",
    "        logits = np.pad(\n",
    "            logits,\n",
    "            [(0,0),(0,max_seq - logits.shape[1]), (0,0)],\n",
    "            'constant')\n",
    "\n",
    "    return np.mean(np.equal(target, np.argmax(logits, 2)))\n",
    "\n",
    "train_source = source_int_text[batch_size:]\n",
    "train_target = target_int_text[batch_size:]\n",
    "\n",
    "valid_source = helper.pad_sentence_batch(source_int_text[:batch_size])\n",
    "valid_target = helper.pad_sentence_batch(target_int_text[:batch_size])\n",
    "\n",
    "with tf.Session(graph=train_graph) as sess:\n",
    "    sess.run(tf.global_variables_initializer())\n",
    "\n",
    "    for epoch_i in range(epochs):\n",
    "        for batch_i, (source_batch, target_batch) in enumerate(\n",
    "                helper.batch_data(train_source, train_target, batch_size)):\n",
    "            start_time = time.time()\n",
    "            \n",
    "            _, loss = sess.run(\n",
    "                [train_op, cost],\n",
    "                {input_data: source_batch,\n",
    "                 targets: target_batch,\n",
    "                 lr: learning_rate,\n",
    "                 sequence_length: target_batch.shape[1],\n",
    "                 keep_prob: keep_probability})\n",
    "            \n",
    "            batch_train_logits = sess.run(\n",
    "                inference_logits,\n",
    "                {input_data: source_batch, keep_prob: 1.0})\n",
    "            batch_valid_logits = sess.run(\n",
    "                inference_logits,\n",
    "                {input_data: valid_source, keep_prob: 1.0})\n",
    "                \n",
    "            train_acc = get_accuracy(target_batch, batch_train_logits)\n",
    "            valid_acc = get_accuracy(np.array(valid_target), batch_valid_logits)\n",
    "            end_time = time.time()\n",
    "            #print('Epoch {:>3} Batch {:>4}/{} - Train Accuracy: {:>6.3f}, Validation Accuracy: {:>6.3f}, Loss: {:>6.3f}'\n",
    "            #      .format(epoch_i, batch_i, len(source_int_text) // batch_size, train_acc, valid_acc, loss))\n",
    "        print('Epoch {:>3} Batch {:>4}/{} - Train Accuracy: {:>6.3f}, Validation Accuracy: {:>6.3f}, Loss: {:>6.3f}'\n",
    "                  .format(epoch_i, batch_i, len(source_int_text) // batch_size, train_acc, valid_acc, loss))\n",
    "\n",
    "    # Save Model\n",
    "    saver = tf.train.Saver()\n",
    "    saver.save(sess, save_path)\n",
    "    print('Model Trained and Saved')"
   ]
  },
  {
   "cell_type": "markdown",
   "metadata": {},
   "source": [
    "## 参数\n",
    "### 1\n",
    "epochs = 20\n",
    "batch_size = 256\n",
    "rnn_size = 30\n",
    "num_layers = 4\n",
    "encoding_embedding_size = 60\n",
    "decoding_embedding_size = 60\n",
    "learning_rate = 0.01\n",
    "keep_probability = 0.9\n",
    "Epoch   0 Batch  536/538 - Train Accuracy:  0.520, Validation Accuracy:  0.523, Loss:  1.460\n",
    "Epoch   1 Batch  536/538 - Train Accuracy:  0.577, Validation Accuracy:  0.573, Loss:  1.047\n",
    "Epoch   2 Batch  536/538 - Train Accuracy:  0.576, Validation Accuracy:  0.570, Loss:  0.934\n",
    "Epoch   5 Batch  536/538 - Train Accuracy:  0.585, Validation Accuracy:  0.562, Loss:  0.843\n",
    "Epoch  10 Batch  536/538 - Train Accuracy:  0.592, Validation Accuracy:  0.580, Loss:  0.809\n",
    "Epoch  19 Batch  536/538 - Train Accuracy:  0.607, Validation Accuracy:  0.607, Loss:  0.798\n",
    "\n",
    "### 2 (faster, better)\n",
    "epochs = 20\n",
    "batch_size = 512\n",
    "rnn_size = 30\n",
    "num_layers = 4\n",
    "encoding_embedding_size = 60\n",
    "decoding_embedding_size = 60\n",
    "learning_rate = 0.01\n",
    "keep_probability = 0.9\n",
    "Epoch   0 Batch  267/269 - Train Accuracy:  0.531, Validation Accuracy:  0.557, Loss:  2.359\n",
    "Epoch   1 Batch  267/269 - Train Accuracy:  0.570, Validation Accuracy:  0.586, Loss:  1.510\n",
    "Epoch   2 Batch  267/269 - Train Accuracy:  0.597, Validation Accuracy:  0.630, Loss:  1.196\n",
    "Epoch   3 Batch  267/269 - Train Accuracy:  0.603, Validation Accuracy:  0.640, Loss:  1.061\n",
    "Epoch   4 Batch  267/269 - Train Accuracy:  0.601, Validation Accuracy:  0.620, Loss:  0.978\n",
    "Epoch   5 Batch  267/269 - Train Accuracy:  0.608, Validation Accuracy:  0.626, Loss:  0.926\n",
    "Epoch   8 Batch  267/269 - Train Accuracy:  0.556, Validation Accuracy:  0.592, Loss:  0.856\n",
    "Epoch   9 Batch  267/269 - Train Accuracy:  0.552, Validation Accuracy:  0.583, Loss:  0.840\n",
    "\n",
    "### 3 (slower, \n",
    "epochs = 20\n",
    "batch_size = 512\n",
    "rnn_size = 60\n",
    "num_layers = 4\n",
    "encoding_embedding_size = 60\n",
    "decoding_embedding_size = 60\n",
    "learning_rate = 0.01\n",
    "keep_probability = 0.9\n",
    "Epoch   0 Batch  267/269 - Train Accuracy:  0.504, Validation Accuracy:  0.537, Loss:  1.892\n",
    "Epoch   1 Batch  267/269 - Train Accuracy:  0.551, Validation Accuracy:  0.569, Loss:  1.234\n",
    "Epoch   2 Batch  267/269 - Train Accuracy:  0.586, Validation Accuracy:  0.574, Loss:  1.056\n",
    "Epoch   3 Batch  267/269 - Train Accuracy:  0.637, Validation Accuracy:  0.656, Loss:  0.941\n",
    "Epoch   4 Batch  267/269 - Train Accuracy:  0.606, Validation Accuracy:  0.611, Loss:  0.882\n",
    "Epoch   5 Batch  267/269 - Train Accuracy:  0.584, Validation Accuracy:  0.593, Loss:  0.860\n",
    "Epoch   6 Batch  267/269 - Train Accuracy:  0.572, Validation Accuracy:  0.591, Loss:  0.845\n",
    "Epoch   7 Batch  267/269 - Train Accuracy:  0.559, Validation Accuracy:  0.575, Loss:  0.827\n",
    "Epoch   8 Batch  267/269 - Train Accuracy:  0.575, Validation Accuracy:  0.584, Loss:  0.825\n",
    "Epoch   9 Batch  267/269 - Train Accuracy:  0.572, Validation Accuracy:  0.580, Loss:  0.817\n",
    "Epoch  10 Batch  267/269 - Train Accuracy:  0.553, Validation Accuracy:  0.574, Loss:  0.816\n",
    "Epoch  11 Batch  267/269 - Train Accuracy:  0.559, Validation Accuracy:  0.578, Loss:  0.812\n",
    "Epoch  12 Batch  267/269 - Train Accuracy:  0.557, Validation Accuracy:  0.583, Loss:  0.809\n",
    "\n",
    "### 4(faster\n",
    "epochs = 20\n",
    "batch_size = 512\n",
    "rnn_size = 15\n",
    "num_layers = 4\n",
    "encoding_embedding_size = 60\n",
    "decoding_embedding_size = 60\n",
    "learning_rate = 0.01\n",
    "keep_probability = 0.9\n",
    "Epoch   0 Batch  267/269 - Train Accuracy:  0.424, Validation Accuracy:  0.455, Loss:  2.457\n",
    "Epoch   1 Batch  267/269 - Train Accuracy:  0.509, Validation Accuracy:  0.527, Loss:  1.350\n",
    "Epoch   2 Batch  267/269 - Train Accuracy:  0.543, Validation Accuracy:  0.552, Loss:  1.109\n",
    "Epoch   3 Batch  267/269 - Train Accuracy:  0.550, Validation Accuracy:  0.551, Loss:  1.004\n",
    "Epoch   4 Batch  267/269 - Train Accuracy:  0.503, Validation Accuracy:  0.521, Loss:  0.935\n",
    "Epoch   5 Batch  267/269 - Train Accuracy:  0.527, Validation Accuracy:  0.546, Loss:  0.890\n",
    "Epoch   6 Batch  267/269 - Train Accuracy:  0.549, Validation Accuracy:  0.565, Loss:  0.864\n",
    "\n",
    "### 5\n",
    "epochs = 20\n",
    "batch_size = 512\n",
    "rnn_size = 30\n",
    "num_layers = 4\n",
    "encoding_embedding_size = 30\n",
    "decoding_embedding_size = 30\n",
    "learning_rate = 0.01\n",
    "keep_probability = 0.9\n",
    "Epoch   0 Batch  267/269 - Train Accuracy:  0.501, Validation Accuracy:  0.529, Loss:  2.341\n",
    "Epoch   1 Batch  267/269 - Train Accuracy:  0.564, Validation Accuracy:  0.586, Loss:  1.415\n",
    "Epoch   2 Batch  267/269 - Train Accuracy:  0.609, Validation Accuracy:  0.624, Loss:  1.188\n",
    "Epoch   3 Batch  267/269 - Train Accuracy:  0.621, Validation Accuracy:  0.628, Loss:  1.028\n",
    "Epoch   4 Batch  267/269 - Train Accuracy:  0.655, Validation Accuracy:  0.663, Loss:  0.933\n",
    "Epoch   5 Batch  267/269 - Train Accuracy:  0.656, Validation Accuracy:  0.682, Loss:  0.865\n",
    "Epoch   6 Batch  267/269 - Train Accuracy:  0.667, Validation Accuracy:  0.677, Loss:  0.828\n",
    "Epoch   7 Batch  267/269 - Train Accuracy:  0.673, Validation Accuracy:  0.679, Loss:  0.794\n",
    "Epoch   8 Batch  267/269 - Train Accuracy:  0.645, Validation Accuracy:  0.660, Loss:  0.773\n",
    "Epoch   9 Batch  267/269 - Train Accuracy:  0.639, Validation Accuracy:  0.641, Loss:  0.750\n",
    "\n",
    "### 6\n",
    "epochs = 20\n",
    "batch_size = 512\n",
    "rnn_size = 30\n",
    "num_layers = 4\n",
    "encoding_embedding_size = 30\n",
    "decoding_embedding_size = 30\n",
    "learning_rate = 0.01\n",
    "keep_probability = 0.8\n",
    "Epoch   0 Batch  267/269 - Train Accuracy:  0.429, Validation Accuracy:  0.458, Loss:  2.275\n",
    "Epoch   1 Batch  267/269 - Train Accuracy:  0.427, Validation Accuracy:  0.449, Loss:  1.496\n",
    "Epoch   2 Batch  267/269 - Train Accuracy:  0.521, Validation Accuracy:  0.543, Loss:  1.169\n",
    "Epoch   3 Batch  267/269 - Train Accuracy:  0.588, Validation Accuracy:  0.601, Loss:  0.985\n",
    "Epoch   4 Batch  267/269 - Train Accuracy:  0.599, Validation Accuracy:  0.607, Loss:  0.867\n",
    "Epoch   5 Batch  267/269 - Train Accuracy:  0.621, Validation Accuracy:  0.636, Loss:  0.777\n",
    "Epoch   6 Batch  267/269 - Train Accuracy:  0.646, Validation Accuracy:  0.658, Loss:  0.712\n",
    "Epoch   7 Batch  267/269 - Train Accuracy:  0.644, Validation Accuracy:  0.649, Loss:  0.683\n",
    "Epoch   8 Batch  267/269 - Train Accuracy:  0.637, Validation Accuracy:  0.647, Loss:  0.652\n",
    "Epoch   9 Batch  267/269 - Train Accuracy:  0.658, Validation Accuracy:  0.659, Loss:  0.626\n",
    "Epoch  10 Batch  267/269 - Train Accuracy:  0.651, Validation Accuracy:  0.680, Loss:  0.617\n",
    "Epoch  11 Batch  267/269 - Train Accuracy:  0.625, Validation Accuracy:  0.645, Loss:  0.608\n",
    "Epoch  12 Batch  267/269 - Train Accuracy:  0.643, Validation Accuracy:  0.665, Loss:  0.588\n",
    "Epoch  13 Batch  267/269 - Train Accuracy:  0.649, Validation Accuracy:  0.673, Loss:  0.584\n",
    "Epoch  14 Batch  267/269 - Train Accuracy:  0.628, Validation Accuracy:  0.652, Loss:  0.575\n",
    "\n",
    "### 7\n",
    "epochs = 20\n",
    "batch_size = 512\n",
    "rnn_size = 30\n",
    "num_layers = 3\n",
    "encoding_embedding_size = 30\n",
    "decoding_embedding_size = 30\n",
    "learning_rate = 0.01\n",
    "keep_probability = 0.9\n",
    "Epoch   0 Batch  267/269 - Train Accuracy:  0.416, Validation Accuracy:  0.445, Loss:  2.120\n",
    "Epoch   1 Batch  267/269 - Train Accuracy:  0.512, Validation Accuracy:  0.528, Loss:  1.398\n",
    "Epoch   2 Batch  267/269 - Train Accuracy:  0.489, Validation Accuracy:  0.519, Loss:  1.179\n",
    "Epoch   3 Batch  267/269 - Train Accuracy:  0.505, Validation Accuracy:  0.545, Loss:  1.054\n",
    "Epoch   4 Batch  267/269 - Train Accuracy:  0.532, Validation Accuracy:  0.569, Loss:  0.952\n",
    "Epoch   5 Batch  267/269 - Train Accuracy:  0.530, Validation Accuracy:  0.577, Loss:  0.910\n",
    "Epoch   6 Batch  267/269 - Train Accuracy:  0.515, Validation Accuracy:  0.568, Loss:  0.884\n",
    "Epoch   7 Batch  267/269 - Train Accuracy:  0.524, Validation Accuracy:  0.574, Loss:  0.871\n",
    "Epoch   8 Batch  267/269 - Train Accuracy:  0.533, Validation Accuracy:  0.567, Loss:  0.844\n",
    "Epoch   9 Batch  267/269 - Train Accuracy:  0.564, Validation Accuracy:  0.586, Loss:  0.827\n",
    "Epoch  10 Batch  267/269 - Train Accuracy:  0.546, Validation Accuracy:  0.580, Loss:  0.822\n",
    "Epoch  19 Batch  267/269 - Train Accuracy:  0.574, Validation Accuracy:  0.621, Loss:  0.795\n",
    "\n",
    "### 8\n",
    "epochs = 20\n",
    "batch_size = 512\n",
    "rnn_size = 60\n",
    "num_layers = 3\n",
    "encoding_embedding_size = 30\n",
    "decoding_embedding_size = 30\n",
    "learning_rate = 0.01\n",
    "keep_probability = 0.9\n",
    "Epoch   0 Batch  267/269 - Train Accuracy:  0.495, Validation Accuracy:  0.528, Loss:  1.479\n",
    "Epoch   1 Batch  267/269 - Train Accuracy:  0.609, Validation Accuracy:  0.627, Loss:  0.964\n",
    "Epoch   2 Batch  267/269 - Train Accuracy:  0.617, Validation Accuracy:  0.636, Loss:  0.758\n",
    "Epoch   3 Batch  267/269 - Train Accuracy:  0.666, Validation Accuracy:  0.670, Loss:  0.661\n",
    "Epoch   4 Batch  267/269 - Train Accuracy:  0.690, Validation Accuracy:  0.696, Loss:  0.609\n",
    "Epoch   5 Batch  267/269 - Train Accuracy:  0.684, Validation Accuracy:  0.678, Loss:  0.578\n",
    "Epoch   6 Batch  267/269 - Train Accuracy:  0.680, Validation Accuracy:  0.688, Loss:  0.559\n",
    "Epoch   7 Batch  267/269 - Train Accuracy:  0.685, Validation Accuracy:  0.684, Loss:  0.553\n",
    "Epoch   8 Batch  267/269 - Train Accuracy:  0.696, Validation Accuracy:  0.701, Loss:  0.549\n",
    "Epoch   9 Batch  267/269 - Train Accuracy:  0.687, Validation Accuracy:  0.696, Loss:  0.541\n",
    "Epoch  10 Batch  267/269 - Train Accuracy:  0.690, Validation Accuracy:  0.688, Loss:  0.537\n",
    "Epoch  11 Batch  267/269 - Train Accuracy:  0.702, Validation Accuracy:  0.695, Loss:  0.535\n",
    "Epoch  12 Batch  267/269 - Train Accuracy:  0.691, Validation Accuracy:  0.692, Loss:  0.533\n",
    "Epoch  13 Batch  267/269 - Train Accuracy:  0.682, Validation Accuracy:  0.697, Loss:  0.523\n",
    "Epoch  14 Batch  267/269 - Train Accuracy:  0.691, Validation Accuracy:  0.702, Loss:  0.518\n",
    "Epoch  19 Batch  267/269 - Train Accuracy:  0.666, Validation Accuracy:  0.666, Loss:  0.511\n",
    "\n",
    "### 9\n",
    "epochs = 20\n",
    "batch_size = 512\n",
    "rnn_size = 60\n",
    "num_layers = 3\n",
    "encoding_embedding_size = 60\n",
    "decoding_embedding_size = 60\n",
    "learning_rate = 0.01\n",
    "keep_probability = 0.9\n",
    "Epoch   0 Batch  267/269 - Train Accuracy:  0.534, Validation Accuracy:  0.557, Loss:  1.437\n",
    "Epoch   1 Batch  267/269 - Train Accuracy:  0.646, Validation Accuracy:  0.650, Loss:  0.969\n",
    "Epoch   2 Batch  267/269 - Train Accuracy:  0.632, Validation Accuracy:  0.627, Loss:  0.852\n",
    "Epoch   3 Batch  267/269 - Train Accuracy:  0.663, Validation Accuracy:  0.661, Loss:  0.807\n",
    "Epoch   4 Batch  267/269 - Train Accuracy:  0.664, Validation Accuracy:  0.674, Loss:  0.781\n",
    "Epoch   5 Batch  267/269 - Train Accuracy:  0.687, Validation Accuracy:  0.695, Loss:  0.777\n",
    "Epoch  10 Batch  267/269 - Train Accuracy:  0.709, Validation Accuracy:  0.726, Loss:  0.737\n",
    "Epoch  13 Batch  267/269 - Train Accuracy:  0.709, Validation Accuracy:  0.711, Loss:  0.733\n",
    "Epoch  14 Batch  267/269 - Train Accuracy:  0.705, Validation Accuracy:  0.716, Loss:  0.734\n",
    "Epoch  15 Batch  240/269 - Train Accuracy:  0.723, Validation Accuracy:  0.703, Loss:  0.668\n",
    "Epoch  18 Batch  267/269 - Train Accuracy:  0.685, Validation Accuracy:  0.701, Loss:  0.732\n",
    "Epoch  19 Batch  267/269 - Train Accuracy:  0.684, Validation Accuracy:  0.684, Loss:  0.730\n",
    "\n",
    "### 10\n",
    "epochs = 20\n",
    "batch_size = 512\n",
    "rnn_size = 128\n",
    "num_layers = 3\n",
    "encoding_embedding_size = 128\n",
    "decoding_embedding_size = 128\n",
    "learning_rate = 0.01\n",
    "keep_probability = 0.9\n",
    "Epoch   0 Batch  267/269 - Train Accuracy:  0.593, Validation Accuracy:  0.603, Loss:  1.069\n",
    "Epoch   1 Batch  267/269 - Train Accuracy:  0.674, Validation Accuracy:  0.675, Loss:  0.735\n",
    "Epoch   2 Batch  267/269 - Train Accuracy:  0.671, Validation Accuracy:  0.673, Loss:  0.652\n",
    "Epoch   3 Batch  267/269 - Train Accuracy:  0.672, Validation Accuracy:  0.695, Loss:  0.631\n",
    "Epoch   4 Batch  267/269 - Train Accuracy:  0.689, Validation Accuracy:  0.684, Loss:  0.621\n",
    "Epoch   5 Batch  267/269 - Train Accuracy:  0.670, Validation Accuracy:  0.682, Loss:  0.617\n",
    "Epoch   6 Batch  267/269 - Train Accuracy:  0.682, Validation Accuracy:  0.687, Loss:  0.615\n",
    "Epoch   7 Batch  267/269 - Train Accuracy:  0.684, Validation Accuracy:  0.696, Loss:  0.610\n",
    "Epoch   8 Batch  267/269 - Train Accuracy:  0.685, Validation Accuracy:  0.702, Loss:  0.609\n",
    "Epoch   9 Batch  267/269 - Train Accuracy:  0.694, Validation Accuracy:  0.700, Loss:  0.610\n",
    "Epoch  10 Batch  267/269 - Train Accuracy:  0.695, Validation Accuracy:  0.706, Loss:  0.608\n",
    "Epoch  11 Batch  267/269 - Train Accuracy:  0.702, Validation Accuracy:  0.694, Loss:  0.610\n",
    "Epoch  12 Batch  267/269 - Train Accuracy:  0.685, Validation Accuracy:  0.696, Loss:  0.609\n",
    "Epoch  13 Batch  267/269 - Train Accuracy:  0.677, Validation Accuracy:  0.690, Loss:  0.607\n",
    "Epoch  14 Batch  267/269 - Train Accuracy:  0.706, Validation Accuracy:  0.706, Loss:  0.608\n",
    "Epoch  15 Batch  267/269 - Train Accuracy:  0.704, Validation Accuracy:  0.705, Loss:  0.605\n",
    "Epoch  16 Batch  267/269 - Train Accuracy:  0.683, Validation Accuracy:  0.690, Loss:  0.608\n",
    "Epoch  17 Batch  267/269 - Train Accuracy:  0.731, Validation Accuracy:  0.733, Loss:  0.606\n",
    "Epoch  18 Batch  267/269 - Train Accuracy:  0.699, Validation Accuracy:  0.701, Loss:  0.600\n",
    "Epoch  19 Batch  267/269 - Train Accuracy:  0.721, Validation Accuracy:  0.729, Loss:  0.601\n",
    "\n",
    "### 11\n",
    "epochs = 10\n",
    "batch_size = 512\n",
    "rnn_size = 128\n",
    "num_layers = 3\n",
    "encoding_embedding_size = 64\n",
    "decoding_embedding_size = 64\n",
    "learning_rate = 0.01\n",
    "keep_probability = 0.9\n",
    "Epoch   0 Batch  267/269 - Train Accuracy:  0.580, Validation Accuracy:  0.589, Loss:  1.073\n",
    "Epoch   1 Batch  267/269 - Train Accuracy:  0.607, Validation Accuracy:  0.596, Loss:  0.703\n",
    "Epoch   2 Batch  267/269 - Train Accuracy:  0.609, Validation Accuracy:  0.605, Loss:  0.577\n",
    "Epoch   3 Batch  267/269 - Train Accuracy:  0.618, Validation Accuracy:  0.621, Loss:  0.556\n",
    "Epoch   4 Batch  267/269 - Train Accuracy:  0.603, Validation Accuracy:  0.610, Loss:  0.548\n",
    "Epoch   5 Batch  267/269 - Train Accuracy:  0.603, Validation Accuracy:  0.619, Loss:  0.541\n",
    "Epoch   6 Batch  267/269 - Train Accuracy:  0.605, Validation Accuracy:  0.626, Loss:  0.536\n",
    "Epoch   7 Batch  267/269 - Train Accuracy:  0.611, Validation Accuracy:  0.623, Loss:  0.537\n",
    "Epoch   8 Batch  267/269 - Train Accuracy:  0.604, Validation Accuracy:  0.625, Loss:  0.533\n",
    "Epoch   9 Batch  267/269 - Train Accuracy:  0.602, Validation Accuracy:  0.615, Loss:  0.533\n",
    "Epoch  10 Batch  267/269 - Train Accuracy:  0.606, Validation Accuracy:  0.626, Loss:  0.533\n",
    "Epoch  11 Batch  267/269 - Train Accuracy:  0.612, Validation Accuracy:  0.621, Loss:  0.527\n",
    "Epoch  12 Batch  267/269 - Train Accuracy:  0.611, Validation Accuracy:  0.632, Loss:  0.525\n",
    "Epoch  13 Batch  267/269 - Train Accuracy:  0.617, Validation Accuracy:  0.621, Loss:  0.531\n",
    "Epoch  14 Batch  267/269 - Train Accuracy:  0.620, Validation Accuracy:  0.644, Loss:  0.530\n",
    "Epoch  15 Batch  267/269 - Train Accuracy:  0.624, Validation Accuracy:  0.630, Loss:  0.529\n",
    "Epoch  16 Batch  267/269 - Train Accuracy:  0.618, Validation Accuracy:  0.622, Loss:  0.527\n",
    "Epoch  17 Batch  267/269 - Train Accuracy:  0.604, Validation Accuracy:  0.618, Loss:  0.526\n",
    "Epoch  18 Batch  267/269 - Train Accuracy:  0.615, Validation Accuracy:  0.621, Loss:  0.526\n",
    "Epoch  19 Batch  267/269 - Train Accuracy:  0.614, Validation Accuracy:  0.622, Loss:  0.525\n",
    "\n",
    "### 12\n",
    "epochs = 10\n",
    "batch_size = 512\n",
    "rnn_size = 64\n",
    "num_layers = 2\n",
    "encoding_embedding_size = 64\n",
    "decoding_embedding_size = 64\n",
    "learning_rate = 0.01\n",
    "keep_probability = 0.9\n",
    "Epoch   0 Batch  267/269 - Train Accuracy:  0.547, Validation Accuracy:  0.577, Loss:  1.126\n",
    "Epoch   1 Batch  267/269 - Train Accuracy:  0.623, Validation Accuracy:  0.636, Loss:  0.785\n",
    "Epoch   2 Batch  267/269 - Train Accuracy:  0.639, Validation Accuracy:  0.641, Loss:  0.666\n",
    "Epoch   3 Batch  267/269 - Train Accuracy:  0.639, Validation Accuracy:  0.649, Loss:  0.628\n",
    "Epoch   4 Batch  267/269 - Train Accuracy:  0.653, Validation Accuracy:  0.643, Loss:  0.610\n",
    "Epoch   5 Batch  267/269 - Train Accuracy:  0.641, Validation Accuracy:  0.636, Loss:  0.601\n",
    "Epoch   6 Batch  267/269 - Train Accuracy:  0.656, Validation Accuracy:  0.627, Loss:  0.596\n",
    "Epoch   7 Batch  267/269 - Train Accuracy:  0.631, Validation Accuracy:  0.640, Loss:  0.595\n",
    "Epoch   8 Batch  267/269 - Train Accuracy:  0.640, Validation Accuracy:  0.643, Loss:  0.589\n",
    "Epoch   9 Batch  267/269 - Train Accuracy:  0.637, Validation Accuracy:  0.634, Loss:  0.587\n",
    "\n",
    "### 13\n",
    "epochs = 10\n",
    "batch_size = 512\n",
    "rnn_size = 128\n",
    "num_layers = 2\n",
    "encoding_embedding_size = 64\n",
    "decoding_embedding_size = 64\n",
    "learning_rate = 0.01\n",
    "keep_probability = 0.9\n",
    "Epoch   0 Batch  267/269 - Train Accuracy:  0.625, Validation Accuracy:  0.622, Loss:  0.899\n",
    "Epoch   1 Batch  267/269 - Train Accuracy:  0.713, Validation Accuracy:  0.701, Loss:  0.629\n",
    "Epoch   2 Batch  267/269 - Train Accuracy:  0.700, Validation Accuracy:  0.706, Loss:  0.576\n",
    "Epoch   3 Batch  267/269 - Train Accuracy:  0.690, Validation Accuracy:  0.694, Loss:  0.562\n",
    "Epoch   4 Batch  267/269 - Train Accuracy:  0.696, Validation Accuracy:  0.696, Loss:  0.555\n",
    "Epoch   5 Batch  267/269 - Train Accuracy:  0.711, Validation Accuracy:  0.709, Loss:  0.547\n",
    "Epoch   6 Batch  267/269 - Train Accuracy:  0.683, Validation Accuracy:  0.694, Loss:  0.534\n",
    "Epoch   7 Batch  267/269 - Train Accuracy:  0.681, Validation Accuracy:  0.685, Loss:  0.535\n",
    "Epoch   8 Batch  267/269 - Train Accuracy:  0.681, Validation Accuracy:  0.679, Loss:  0.531\n",
    "Epoch   9 Batch  267/269 - Train Accuracy:  0.685, Validation Accuracy:  0.686, Loss:  0.534"
   ]
  },
  {
   "cell_type": "markdown",
   "metadata": {},
   "source": [
    "### 保存参数\n",
    "\n",
    "保存 `batch_size` 和 `save_path` 参数以进行推论（for inference）。"
   ]
  },
  {
   "cell_type": "code",
   "execution_count": 17,
   "metadata": {
    "collapsed": true
   },
   "outputs": [],
   "source": [
    "\"\"\"\n",
    "DON'T MODIFY ANYTHING IN THIS CELL\n",
    "\"\"\"\n",
    "# Save parameters for checkpoint\n",
    "helper.save_params(save_path)"
   ]
  },
  {
   "cell_type": "markdown",
   "metadata": {},
   "source": [
    "# 检查点"
   ]
  },
  {
   "cell_type": "code",
   "execution_count": 18,
   "metadata": {
    "collapsed": true
   },
   "outputs": [],
   "source": [
    "\"\"\"\n",
    "DON'T MODIFY ANYTHING IN THIS CELL\n",
    "\"\"\"\n",
    "import tensorflow as tf\n",
    "import numpy as np\n",
    "import helper\n",
    "import problem_unittests as tests\n",
    "\n",
    "_, (source_vocab_to_int, target_vocab_to_int), (source_int_to_vocab, target_int_to_vocab) = helper.load_preprocess()\n",
    "load_path = helper.load_params()"
   ]
  },
  {
   "cell_type": "markdown",
   "metadata": {},
   "source": [
    "## 句子到序列\n",
    "\n",
    "要向模型提供要翻译的句子，你首先需要预处理该句子。实现函数 `sentence_to_seq()` 以预处理新的句子。\n",
    "\n",
    "- 将句子转换为小写形式\n",
    "- 使用 `vocab_to_int` 将单词转换为 id\n",
    " - 如果单词不在词汇表中，将其转换为`<UNK>` 单词 id"
   ]
  },
  {
   "cell_type": "code",
   "execution_count": 19,
   "metadata": {},
   "outputs": [
    {
     "name": "stdout",
     "output_type": "stream",
     "text": [
      "Tests Passed\n"
     ]
    }
   ],
   "source": [
    "def sentence_to_seq(sentence, vocab_to_int):\n",
    "    \"\"\"\n",
    "    Convert a sentence to a sequence of ids\n",
    "    :param sentence: String\n",
    "    :param vocab_to_int: Dictionary to go from the words to an id\n",
    "    :return: List of word ids\n",
    "    \"\"\"\n",
    "    # TODO: Implement Function\n",
    "    sentence = sentence.lower()\n",
    "    words = sentence.split()\n",
    "    ids = [vocab_to_int.get(word, vocab_to_int['<UNK>']) for word in words]\n",
    "    return ids\n",
    "\n",
    "\n",
    "\"\"\"\n",
    "DON'T MODIFY ANYTHING IN THIS CELL THAT IS BELOW THIS LINE\n",
    "\"\"\"\n",
    "tests.test_sentence_to_seq(sentence_to_seq)"
   ]
  },
  {
   "cell_type": "markdown",
   "metadata": {},
   "source": [
    "## 翻译\n",
    "\n",
    "将 `translate_sentence` 从英语翻译成法语。"
   ]
  },
  {
   "cell_type": "code",
   "execution_count": 20,
   "metadata": {},
   "outputs": [
    {
     "ename": "NotFoundError",
     "evalue": "Unsuccessful TensorSliceReader constructor: Failed to find any matching files for dev\n\t [[Node: save/RestoreV2_37 = RestoreV2[dtypes=[DT_FLOAT], _device=\"/job:localhost/replica:0/task:0/cpu:0\"](_recv_save/Const_0, save/RestoreV2_37/tensor_names, save/RestoreV2_37/shape_and_slices)]]\n\t [[Node: save/RestoreV2_30/_67 = _Recv[client_terminated=false, recv_device=\"/job:localhost/replica:0/task:0/gpu:0\", send_device=\"/job:localhost/replica:0/task:0/cpu:0\", send_device_incarnation=1, tensor_name=\"edge_291_save/RestoreV2_30\", tensor_type=DT_FLOAT, _device=\"/job:localhost/replica:0/task:0/gpu:0\"]()]]\n\nCaused by op 'save/RestoreV2_37', defined at:\n  File \"/usr/local/lib/python3.5/runpy.py\", line 193, in _run_module_as_main\n    \"__main__\", mod_spec)\n  File \"/usr/local/lib/python3.5/runpy.py\", line 85, in _run_code\n    exec(code, run_globals)\n  File \"/usr/local/lib/python3.5/site-packages/ipykernel_launcher.py\", line 16, in <module>\n    app.launch_new_instance()\n  File \"/usr/local/lib/python3.5/site-packages/traitlets/config/application.py\", line 658, in launch_instance\n    app.start()\n  File \"/usr/local/lib/python3.5/site-packages/ipykernel/kernelapp.py\", line 477, in start\n    ioloop.IOLoop.instance().start()\n  File \"/usr/local/lib/python3.5/site-packages/zmq/eventloop/ioloop.py\", line 177, in start\n    super(ZMQIOLoop, self).start()\n  File \"/usr/local/lib/python3.5/site-packages/tornado/ioloop.py\", line 888, in start\n    handler_func(fd_obj, events)\n  File \"/usr/local/lib/python3.5/site-packages/tornado/stack_context.py\", line 277, in null_wrapper\n    return fn(*args, **kwargs)\n  File \"/usr/local/lib/python3.5/site-packages/zmq/eventloop/zmqstream.py\", line 440, in _handle_events\n    self._handle_recv()\n  File \"/usr/local/lib/python3.5/site-packages/zmq/eventloop/zmqstream.py\", line 472, in _handle_recv\n    self._run_callback(callback, msg)\n  File \"/usr/local/lib/python3.5/site-packages/zmq/eventloop/zmqstream.py\", line 414, in _run_callback\n    callback(*args, **kwargs)\n  File \"/usr/local/lib/python3.5/site-packages/tornado/stack_context.py\", line 277, in null_wrapper\n    return fn(*args, **kwargs)\n  File \"/usr/local/lib/python3.5/site-packages/ipykernel/kernelbase.py\", line 283, in dispatcher\n    return self.dispatch_shell(stream, msg)\n  File \"/usr/local/lib/python3.5/site-packages/ipykernel/kernelbase.py\", line 235, in dispatch_shell\n    handler(stream, idents, msg)\n  File \"/usr/local/lib/python3.5/site-packages/ipykernel/kernelbase.py\", line 399, in execute_request\n    user_expressions, allow_stdin)\n  File \"/usr/local/lib/python3.5/site-packages/ipykernel/ipkernel.py\", line 196, in do_execute\n    res = shell.run_cell(code, store_history=store_history, silent=silent)\n  File \"/usr/local/lib/python3.5/site-packages/ipykernel/zmqshell.py\", line 533, in run_cell\n    return super(ZMQInteractiveShell, self).run_cell(*args, **kwargs)\n  File \"/usr/local/lib/python3.5/site-packages/IPython/core/interactiveshell.py\", line 2698, in run_cell\n    interactivity=interactivity, compiler=compiler, result=result)\n  File \"/usr/local/lib/python3.5/site-packages/IPython/core/interactiveshell.py\", line 2802, in run_ast_nodes\n    if self.run_code(code, result):\n  File \"/usr/local/lib/python3.5/site-packages/IPython/core/interactiveshell.py\", line 2862, in run_code\n    exec(code_obj, self.user_global_ns, self.user_ns)\n  File \"<ipython-input-20-3275c3359f72>\", line 12, in <module>\n    loader = tf.train.import_meta_graph(load_path + '.meta')\n  File \"/usr/local/lib/python3.5/site-packages/tensorflow/python/training/saver.py\", line 1566, in import_meta_graph\n    **kwargs)\n  File \"/usr/local/lib/python3.5/site-packages/tensorflow/python/framework/meta_graph.py\", line 498, in import_scoped_meta_graph\n    producer_op_list=producer_op_list)\n  File \"/usr/local/lib/python3.5/site-packages/tensorflow/python/framework/importer.py\", line 288, in import_graph_def\n    op_def=op_def)\n  File \"/usr/local/lib/python3.5/site-packages/tensorflow/python/framework/ops.py\", line 2327, in create_op\n    original_op=self._default_original_op, op_def=op_def)\n  File \"/usr/local/lib/python3.5/site-packages/tensorflow/python/framework/ops.py\", line 1226, in __init__\n    self._traceback = _extract_stack()\n\nNotFoundError (see above for traceback): Unsuccessful TensorSliceReader constructor: Failed to find any matching files for dev\n\t [[Node: save/RestoreV2_37 = RestoreV2[dtypes=[DT_FLOAT], _device=\"/job:localhost/replica:0/task:0/cpu:0\"](_recv_save/Const_0, save/RestoreV2_37/tensor_names, save/RestoreV2_37/shape_and_slices)]]\n\t [[Node: save/RestoreV2_30/_67 = _Recv[client_terminated=false, recv_device=\"/job:localhost/replica:0/task:0/gpu:0\", send_device=\"/job:localhost/replica:0/task:0/cpu:0\", send_device_incarnation=1, tensor_name=\"edge_291_save/RestoreV2_30\", tensor_type=DT_FLOAT, _device=\"/job:localhost/replica:0/task:0/gpu:0\"]()]]\n",
     "output_type": "error",
     "traceback": [
      "\u001b[0;31m---------------------------------------------------------------------------\u001b[0m",
      "\u001b[0;31mNotFoundError\u001b[0m                             Traceback (most recent call last)",
      "\u001b[0;32m/usr/local/lib/python3.5/site-packages/tensorflow/python/client/session.py\u001b[0m in \u001b[0;36m_do_call\u001b[0;34m(self, fn, *args)\u001b[0m\n\u001b[1;32m   1021\u001b[0m     \u001b[0;32mtry\u001b[0m\u001b[0;34m:\u001b[0m\u001b[0;34m\u001b[0m\u001b[0m\n\u001b[0;32m-> 1022\u001b[0;31m       \u001b[0;32mreturn\u001b[0m \u001b[0mfn\u001b[0m\u001b[0;34m(\u001b[0m\u001b[0;34m*\u001b[0m\u001b[0margs\u001b[0m\u001b[0;34m)\u001b[0m\u001b[0;34m\u001b[0m\u001b[0m\n\u001b[0m\u001b[1;32m   1023\u001b[0m     \u001b[0;32mexcept\u001b[0m \u001b[0merrors\u001b[0m\u001b[0;34m.\u001b[0m\u001b[0mOpError\u001b[0m \u001b[0;32mas\u001b[0m \u001b[0me\u001b[0m\u001b[0;34m:\u001b[0m\u001b[0;34m\u001b[0m\u001b[0m\n",
      "\u001b[0;32m/usr/local/lib/python3.5/site-packages/tensorflow/python/client/session.py\u001b[0m in \u001b[0;36m_run_fn\u001b[0;34m(session, feed_dict, fetch_list, target_list, options, run_metadata)\u001b[0m\n\u001b[1;32m   1003\u001b[0m                                  \u001b[0mfeed_dict\u001b[0m\u001b[0;34m,\u001b[0m \u001b[0mfetch_list\u001b[0m\u001b[0;34m,\u001b[0m \u001b[0mtarget_list\u001b[0m\u001b[0;34m,\u001b[0m\u001b[0;34m\u001b[0m\u001b[0m\n\u001b[0;32m-> 1004\u001b[0;31m                                  status, run_metadata)\n\u001b[0m\u001b[1;32m   1005\u001b[0m \u001b[0;34m\u001b[0m\u001b[0m\n",
      "\u001b[0;32m/usr/local/lib/python3.5/contextlib.py\u001b[0m in \u001b[0;36m__exit__\u001b[0;34m(self, type, value, traceback)\u001b[0m\n\u001b[1;32m     65\u001b[0m             \u001b[0;32mtry\u001b[0m\u001b[0;34m:\u001b[0m\u001b[0;34m\u001b[0m\u001b[0m\n\u001b[0;32m---> 66\u001b[0;31m                 \u001b[0mnext\u001b[0m\u001b[0;34m(\u001b[0m\u001b[0mself\u001b[0m\u001b[0;34m.\u001b[0m\u001b[0mgen\u001b[0m\u001b[0;34m)\u001b[0m\u001b[0;34m\u001b[0m\u001b[0m\n\u001b[0m\u001b[1;32m     67\u001b[0m             \u001b[0;32mexcept\u001b[0m \u001b[0mStopIteration\u001b[0m\u001b[0;34m:\u001b[0m\u001b[0;34m\u001b[0m\u001b[0m\n",
      "\u001b[0;32m/usr/local/lib/python3.5/site-packages/tensorflow/python/framework/errors_impl.py\u001b[0m in \u001b[0;36mraise_exception_on_not_ok_status\u001b[0;34m()\u001b[0m\n\u001b[1;32m    465\u001b[0m           \u001b[0mcompat\u001b[0m\u001b[0;34m.\u001b[0m\u001b[0mas_text\u001b[0m\u001b[0;34m(\u001b[0m\u001b[0mpywrap_tensorflow\u001b[0m\u001b[0;34m.\u001b[0m\u001b[0mTF_Message\u001b[0m\u001b[0;34m(\u001b[0m\u001b[0mstatus\u001b[0m\u001b[0;34m)\u001b[0m\u001b[0;34m)\u001b[0m\u001b[0;34m,\u001b[0m\u001b[0;34m\u001b[0m\u001b[0m\n\u001b[0;32m--> 466\u001b[0;31m           pywrap_tensorflow.TF_GetCode(status))\n\u001b[0m\u001b[1;32m    467\u001b[0m   \u001b[0;32mfinally\u001b[0m\u001b[0;34m:\u001b[0m\u001b[0;34m\u001b[0m\u001b[0m\n",
      "\u001b[0;31mNotFoundError\u001b[0m: Unsuccessful TensorSliceReader constructor: Failed to find any matching files for dev\n\t [[Node: save/RestoreV2_37 = RestoreV2[dtypes=[DT_FLOAT], _device=\"/job:localhost/replica:0/task:0/cpu:0\"](_recv_save/Const_0, save/RestoreV2_37/tensor_names, save/RestoreV2_37/shape_and_slices)]]\n\t [[Node: save/RestoreV2_30/_67 = _Recv[client_terminated=false, recv_device=\"/job:localhost/replica:0/task:0/gpu:0\", send_device=\"/job:localhost/replica:0/task:0/cpu:0\", send_device_incarnation=1, tensor_name=\"edge_291_save/RestoreV2_30\", tensor_type=DT_FLOAT, _device=\"/job:localhost/replica:0/task:0/gpu:0\"]()]]",
      "\nDuring handling of the above exception, another exception occurred:\n",
      "\u001b[0;31mNotFoundError\u001b[0m                             Traceback (most recent call last)",
      "\u001b[0;32m<ipython-input-20-3275c3359f72>\u001b[0m in \u001b[0;36m<module>\u001b[0;34m()\u001b[0m\n\u001b[1;32m     11\u001b[0m     \u001b[0;31m# Load saved model\u001b[0m\u001b[0;34m\u001b[0m\u001b[0;34m\u001b[0m\u001b[0m\n\u001b[1;32m     12\u001b[0m     \u001b[0mloader\u001b[0m \u001b[0;34m=\u001b[0m \u001b[0mtf\u001b[0m\u001b[0;34m.\u001b[0m\u001b[0mtrain\u001b[0m\u001b[0;34m.\u001b[0m\u001b[0mimport_meta_graph\u001b[0m\u001b[0;34m(\u001b[0m\u001b[0mload_path\u001b[0m \u001b[0;34m+\u001b[0m \u001b[0;34m'.meta'\u001b[0m\u001b[0;34m)\u001b[0m\u001b[0;34m\u001b[0m\u001b[0m\n\u001b[0;32m---> 13\u001b[0;31m     \u001b[0mloader\u001b[0m\u001b[0;34m.\u001b[0m\u001b[0mrestore\u001b[0m\u001b[0;34m(\u001b[0m\u001b[0msess\u001b[0m\u001b[0;34m,\u001b[0m \u001b[0mload_path\u001b[0m\u001b[0;34m)\u001b[0m\u001b[0;34m\u001b[0m\u001b[0m\n\u001b[0m\u001b[1;32m     14\u001b[0m \u001b[0;34m\u001b[0m\u001b[0m\n\u001b[1;32m     15\u001b[0m     \u001b[0minput_data\u001b[0m \u001b[0;34m=\u001b[0m \u001b[0mloaded_graph\u001b[0m\u001b[0;34m.\u001b[0m\u001b[0mget_tensor_by_name\u001b[0m\u001b[0;34m(\u001b[0m\u001b[0;34m'input:0'\u001b[0m\u001b[0;34m)\u001b[0m\u001b[0;34m\u001b[0m\u001b[0m\n",
      "\u001b[0;32m/usr/local/lib/python3.5/site-packages/tensorflow/python/training/saver.py\u001b[0m in \u001b[0;36mrestore\u001b[0;34m(self, sess, save_path)\u001b[0m\n\u001b[1;32m   1426\u001b[0m       \u001b[0;32mreturn\u001b[0m\u001b[0;34m\u001b[0m\u001b[0m\n\u001b[1;32m   1427\u001b[0m     sess.run(self.saver_def.restore_op_name,\n\u001b[0;32m-> 1428\u001b[0;31m              {self.saver_def.filename_tensor_name: save_path})\n\u001b[0m\u001b[1;32m   1429\u001b[0m \u001b[0;34m\u001b[0m\u001b[0m\n\u001b[1;32m   1430\u001b[0m   \u001b[0;34m@\u001b[0m\u001b[0mstaticmethod\u001b[0m\u001b[0;34m\u001b[0m\u001b[0m\n",
      "\u001b[0;32m/usr/local/lib/python3.5/site-packages/tensorflow/python/client/session.py\u001b[0m in \u001b[0;36mrun\u001b[0;34m(self, fetches, feed_dict, options, run_metadata)\u001b[0m\n\u001b[1;32m    765\u001b[0m     \u001b[0;32mtry\u001b[0m\u001b[0;34m:\u001b[0m\u001b[0;34m\u001b[0m\u001b[0m\n\u001b[1;32m    766\u001b[0m       result = self._run(None, fetches, feed_dict, options_ptr,\n\u001b[0;32m--> 767\u001b[0;31m                          run_metadata_ptr)\n\u001b[0m\u001b[1;32m    768\u001b[0m       \u001b[0;32mif\u001b[0m \u001b[0mrun_metadata\u001b[0m\u001b[0;34m:\u001b[0m\u001b[0;34m\u001b[0m\u001b[0m\n\u001b[1;32m    769\u001b[0m         \u001b[0mproto_data\u001b[0m \u001b[0;34m=\u001b[0m \u001b[0mtf_session\u001b[0m\u001b[0;34m.\u001b[0m\u001b[0mTF_GetBuffer\u001b[0m\u001b[0;34m(\u001b[0m\u001b[0mrun_metadata_ptr\u001b[0m\u001b[0;34m)\u001b[0m\u001b[0;34m\u001b[0m\u001b[0m\n",
      "\u001b[0;32m/usr/local/lib/python3.5/site-packages/tensorflow/python/client/session.py\u001b[0m in \u001b[0;36m_run\u001b[0;34m(self, handle, fetches, feed_dict, options, run_metadata)\u001b[0m\n\u001b[1;32m    963\u001b[0m     \u001b[0;32mif\u001b[0m \u001b[0mfinal_fetches\u001b[0m \u001b[0;32mor\u001b[0m \u001b[0mfinal_targets\u001b[0m\u001b[0;34m:\u001b[0m\u001b[0;34m\u001b[0m\u001b[0m\n\u001b[1;32m    964\u001b[0m       results = self._do_run(handle, final_targets, final_fetches,\n\u001b[0;32m--> 965\u001b[0;31m                              feed_dict_string, options, run_metadata)\n\u001b[0m\u001b[1;32m    966\u001b[0m     \u001b[0;32melse\u001b[0m\u001b[0;34m:\u001b[0m\u001b[0;34m\u001b[0m\u001b[0m\n\u001b[1;32m    967\u001b[0m       \u001b[0mresults\u001b[0m \u001b[0;34m=\u001b[0m \u001b[0;34m[\u001b[0m\u001b[0;34m]\u001b[0m\u001b[0;34m\u001b[0m\u001b[0m\n",
      "\u001b[0;32m/usr/local/lib/python3.5/site-packages/tensorflow/python/client/session.py\u001b[0m in \u001b[0;36m_do_run\u001b[0;34m(self, handle, target_list, fetch_list, feed_dict, options, run_metadata)\u001b[0m\n\u001b[1;32m   1013\u001b[0m     \u001b[0;32mif\u001b[0m \u001b[0mhandle\u001b[0m \u001b[0;32mis\u001b[0m \u001b[0;32mNone\u001b[0m\u001b[0;34m:\u001b[0m\u001b[0;34m\u001b[0m\u001b[0m\n\u001b[1;32m   1014\u001b[0m       return self._do_call(_run_fn, self._session, feed_dict, fetch_list,\n\u001b[0;32m-> 1015\u001b[0;31m                            target_list, options, run_metadata)\n\u001b[0m\u001b[1;32m   1016\u001b[0m     \u001b[0;32melse\u001b[0m\u001b[0;34m:\u001b[0m\u001b[0;34m\u001b[0m\u001b[0m\n\u001b[1;32m   1017\u001b[0m       return self._do_call(_prun_fn, self._session, handle, feed_dict,\n",
      "\u001b[0;32m/usr/local/lib/python3.5/site-packages/tensorflow/python/client/session.py\u001b[0m in \u001b[0;36m_do_call\u001b[0;34m(self, fn, *args)\u001b[0m\n\u001b[1;32m   1033\u001b[0m         \u001b[0;32mexcept\u001b[0m \u001b[0mKeyError\u001b[0m\u001b[0;34m:\u001b[0m\u001b[0;34m\u001b[0m\u001b[0m\n\u001b[1;32m   1034\u001b[0m           \u001b[0;32mpass\u001b[0m\u001b[0;34m\u001b[0m\u001b[0m\n\u001b[0;32m-> 1035\u001b[0;31m       \u001b[0;32mraise\u001b[0m \u001b[0mtype\u001b[0m\u001b[0;34m(\u001b[0m\u001b[0me\u001b[0m\u001b[0;34m)\u001b[0m\u001b[0;34m(\u001b[0m\u001b[0mnode_def\u001b[0m\u001b[0;34m,\u001b[0m \u001b[0mop\u001b[0m\u001b[0;34m,\u001b[0m \u001b[0mmessage\u001b[0m\u001b[0;34m)\u001b[0m\u001b[0;34m\u001b[0m\u001b[0m\n\u001b[0m\u001b[1;32m   1036\u001b[0m \u001b[0;34m\u001b[0m\u001b[0m\n\u001b[1;32m   1037\u001b[0m   \u001b[0;32mdef\u001b[0m \u001b[0m_extend_graph\u001b[0m\u001b[0;34m(\u001b[0m\u001b[0mself\u001b[0m\u001b[0;34m)\u001b[0m\u001b[0;34m:\u001b[0m\u001b[0;34m\u001b[0m\u001b[0m\n",
      "\u001b[0;31mNotFoundError\u001b[0m: Unsuccessful TensorSliceReader constructor: Failed to find any matching files for dev\n\t [[Node: save/RestoreV2_37 = RestoreV2[dtypes=[DT_FLOAT], _device=\"/job:localhost/replica:0/task:0/cpu:0\"](_recv_save/Const_0, save/RestoreV2_37/tensor_names, save/RestoreV2_37/shape_and_slices)]]\n\t [[Node: save/RestoreV2_30/_67 = _Recv[client_terminated=false, recv_device=\"/job:localhost/replica:0/task:0/gpu:0\", send_device=\"/job:localhost/replica:0/task:0/cpu:0\", send_device_incarnation=1, tensor_name=\"edge_291_save/RestoreV2_30\", tensor_type=DT_FLOAT, _device=\"/job:localhost/replica:0/task:0/gpu:0\"]()]]\n\nCaused by op 'save/RestoreV2_37', defined at:\n  File \"/usr/local/lib/python3.5/runpy.py\", line 193, in _run_module_as_main\n    \"__main__\", mod_spec)\n  File \"/usr/local/lib/python3.5/runpy.py\", line 85, in _run_code\n    exec(code, run_globals)\n  File \"/usr/local/lib/python3.5/site-packages/ipykernel_launcher.py\", line 16, in <module>\n    app.launch_new_instance()\n  File \"/usr/local/lib/python3.5/site-packages/traitlets/config/application.py\", line 658, in launch_instance\n    app.start()\n  File \"/usr/local/lib/python3.5/site-packages/ipykernel/kernelapp.py\", line 477, in start\n    ioloop.IOLoop.instance().start()\n  File \"/usr/local/lib/python3.5/site-packages/zmq/eventloop/ioloop.py\", line 177, in start\n    super(ZMQIOLoop, self).start()\n  File \"/usr/local/lib/python3.5/site-packages/tornado/ioloop.py\", line 888, in start\n    handler_func(fd_obj, events)\n  File \"/usr/local/lib/python3.5/site-packages/tornado/stack_context.py\", line 277, in null_wrapper\n    return fn(*args, **kwargs)\n  File \"/usr/local/lib/python3.5/site-packages/zmq/eventloop/zmqstream.py\", line 440, in _handle_events\n    self._handle_recv()\n  File \"/usr/local/lib/python3.5/site-packages/zmq/eventloop/zmqstream.py\", line 472, in _handle_recv\n    self._run_callback(callback, msg)\n  File \"/usr/local/lib/python3.5/site-packages/zmq/eventloop/zmqstream.py\", line 414, in _run_callback\n    callback(*args, **kwargs)\n  File \"/usr/local/lib/python3.5/site-packages/tornado/stack_context.py\", line 277, in null_wrapper\n    return fn(*args, **kwargs)\n  File \"/usr/local/lib/python3.5/site-packages/ipykernel/kernelbase.py\", line 283, in dispatcher\n    return self.dispatch_shell(stream, msg)\n  File \"/usr/local/lib/python3.5/site-packages/ipykernel/kernelbase.py\", line 235, in dispatch_shell\n    handler(stream, idents, msg)\n  File \"/usr/local/lib/python3.5/site-packages/ipykernel/kernelbase.py\", line 399, in execute_request\n    user_expressions, allow_stdin)\n  File \"/usr/local/lib/python3.5/site-packages/ipykernel/ipkernel.py\", line 196, in do_execute\n    res = shell.run_cell(code, store_history=store_history, silent=silent)\n  File \"/usr/local/lib/python3.5/site-packages/ipykernel/zmqshell.py\", line 533, in run_cell\n    return super(ZMQInteractiveShell, self).run_cell(*args, **kwargs)\n  File \"/usr/local/lib/python3.5/site-packages/IPython/core/interactiveshell.py\", line 2698, in run_cell\n    interactivity=interactivity, compiler=compiler, result=result)\n  File \"/usr/local/lib/python3.5/site-packages/IPython/core/interactiveshell.py\", line 2802, in run_ast_nodes\n    if self.run_code(code, result):\n  File \"/usr/local/lib/python3.5/site-packages/IPython/core/interactiveshell.py\", line 2862, in run_code\n    exec(code_obj, self.user_global_ns, self.user_ns)\n  File \"<ipython-input-20-3275c3359f72>\", line 12, in <module>\n    loader = tf.train.import_meta_graph(load_path + '.meta')\n  File \"/usr/local/lib/python3.5/site-packages/tensorflow/python/training/saver.py\", line 1566, in import_meta_graph\n    **kwargs)\n  File \"/usr/local/lib/python3.5/site-packages/tensorflow/python/framework/meta_graph.py\", line 498, in import_scoped_meta_graph\n    producer_op_list=producer_op_list)\n  File \"/usr/local/lib/python3.5/site-packages/tensorflow/python/framework/importer.py\", line 288, in import_graph_def\n    op_def=op_def)\n  File \"/usr/local/lib/python3.5/site-packages/tensorflow/python/framework/ops.py\", line 2327, in create_op\n    original_op=self._default_original_op, op_def=op_def)\n  File \"/usr/local/lib/python3.5/site-packages/tensorflow/python/framework/ops.py\", line 1226, in __init__\n    self._traceback = _extract_stack()\n\nNotFoundError (see above for traceback): Unsuccessful TensorSliceReader constructor: Failed to find any matching files for dev\n\t [[Node: save/RestoreV2_37 = RestoreV2[dtypes=[DT_FLOAT], _device=\"/job:localhost/replica:0/task:0/cpu:0\"](_recv_save/Const_0, save/RestoreV2_37/tensor_names, save/RestoreV2_37/shape_and_slices)]]\n\t [[Node: save/RestoreV2_30/_67 = _Recv[client_terminated=false, recv_device=\"/job:localhost/replica:0/task:0/gpu:0\", send_device=\"/job:localhost/replica:0/task:0/cpu:0\", send_device_incarnation=1, tensor_name=\"edge_291_save/RestoreV2_30\", tensor_type=DT_FLOAT, _device=\"/job:localhost/replica:0/task:0/gpu:0\"]()]]\n"
     ]
    }
   ],
   "source": [
    "translate_sentence = 'he saw a old yellow truck .'\n",
    "\n",
    "\n",
    "\"\"\"\n",
    "DON'T MODIFY ANYTHING IN THIS CELL\n",
    "\"\"\"\n",
    "translate_sentence = sentence_to_seq(translate_sentence, source_vocab_to_int)\n",
    "\n",
    "loaded_graph = tf.Graph()\n",
    "with tf.Session(graph=loaded_graph) as sess:\n",
    "    # Load saved model\n",
    "    loader = tf.train.import_meta_graph(load_path + '.meta')\n",
    "    loader.restore(sess, load_path)\n",
    "\n",
    "    input_data = loaded_graph.get_tensor_by_name('input:0')\n",
    "    logits = loaded_graph.get_tensor_by_name('logits:0')\n",
    "    keep_prob = loaded_graph.get_tensor_by_name('keep_prob:0')\n",
    "\n",
    "    translate_logits = sess.run(logits, {input_data: [translate_sentence], keep_prob: 1.0})[0]\n",
    "\n",
    "print('Input')\n",
    "print('  Word Ids:      {}'.format([i for i in translate_sentence]))\n",
    "print('  English Words: {}'.format([source_int_to_vocab[i] for i in translate_sentence]))\n",
    "\n",
    "print('\\nPrediction')\n",
    "print('  Word Ids:      {}'.format([i for i in np.argmax(translate_logits, 1)]))\n",
    "print('  French Words: {}'.format([target_int_to_vocab[i] for i in np.argmax(translate_logits, 1)]))"
   ]
  },
  {
   "cell_type": "markdown",
   "metadata": {},
   "source": [
    "## 不完美的翻译\n",
    "\n",
    "你可能注意到了，某些句子的翻译质量比其他的要好。因为你使用的数据集只有 227 个英语单词，但实际生活中有数千个单词，只有使用这些单词的句子结果才会比较理想。对于此项目，不需要达到完美的翻译。但是，如果你想创建更好的翻译模型，则需要更好的数据。\n",
    "\n",
    "你可以使用 [WMT10 French-English corpus](http://www.statmt.org/wmt10/training-giga-fren.tar) 语料库训练模型。该数据集拥有更多的词汇，讨论的话题也更丰富。但是，训练时间要好多天的时间，所以确保你有 GPU 并且对于我们提供的数据集，你的神经网络性能很棒。提交此项目后，别忘了研究下 WMT10 语料库。\n",
    "\n",
    "\n",
    "## 提交项目\n",
    "\n",
    "提交项目时，确保先运行所有单元，然后再保存记事本。保存记事本文件为 “dlnd_language_translation.ipynb”，再通过菜单中的“文件” ->“下载为”将其另存为 HTML 格式。提交的项目文档中需包含“helper.py”和“problem_unittests.py”文件。\n"
   ]
  }
 ],
 "metadata": {
  "kernelspec": {
   "display_name": "Python 3",
   "language": "python",
   "name": "python3"
  },
  "language_info": {
   "codemirror_mode": {
    "name": "ipython",
    "version": 3
   },
   "file_extension": ".py",
   "mimetype": "text/x-python",
   "name": "python",
   "nbconvert_exporter": "python",
   "pygments_lexer": "ipython3",
   "version": "3.5.3"
  }
 },
 "nbformat": 4,
 "nbformat_minor": 1
}
